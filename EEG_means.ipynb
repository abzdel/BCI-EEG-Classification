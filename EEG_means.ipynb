{
 "cells": [
  {
   "cell_type": "markdown",
   "id": "5e10a3ca-af25-4e1c-86d5-9d7438d3736c",
   "metadata": {},
   "source": [
    "# Create the Channel Means Feature set"
   ]
  },
  {
   "cell_type": "code",
   "execution_count": 1,
   "id": "f734ab01-953f-40ba-b883-9a54ddb2e989",
   "metadata": {},
   "outputs": [],
   "source": [
    "# import toolboxes\n",
    "import pandas as pd \n",
    "import numpy as np\n",
    "import os\n",
    "from collections import Counter"
   ]
  },
  {
   "cell_type": "code",
   "execution_count": 3,
   "id": "e8065e95-64b4-4ff1-946d-a717e85689a3",
   "metadata": {},
   "outputs": [],
   "source": [
    "directory = 'source_data/'\n",
    "filename = 'EEG_data.csv'\n",
    "\n",
    "df = pd.read_csv(directory+filename)"
   ]
  },
  {
   "cell_type": "code",
   "execution_count": 4,
   "id": "917932f2-c517-4362-8b1c-3465668dc9ed",
   "metadata": {},
   "outputs": [
    {
     "data": {
      "text/html": [
       "<div>\n",
       "<style scoped>\n",
       "    .dataframe tbody tr th:only-of-type {\n",
       "        vertical-align: middle;\n",
       "    }\n",
       "\n",
       "    .dataframe tbody tr th {\n",
       "        vertical-align: top;\n",
       "    }\n",
       "\n",
       "    .dataframe thead th {\n",
       "        text-align: right;\n",
       "    }\n",
       "</style>\n",
       "<table border=\"1\" class=\"dataframe\">\n",
       "  <thead>\n",
       "    <tr style=\"text-align: right;\">\n",
       "      <th></th>\n",
       "      <th>version https://git-lfs.github.com/spec/v1</th>\n",
       "    </tr>\n",
       "  </thead>\n",
       "  <tbody>\n",
       "    <tr>\n",
       "      <th>0</th>\n",
       "      <td>oid sha256:7e5a954e0babc650235d488e0d9ae79c4b3...</td>\n",
       "    </tr>\n",
       "    <tr>\n",
       "      <th>1</th>\n",
       "      <td>size 4808193</td>\n",
       "    </tr>\n",
       "  </tbody>\n",
       "</table>\n",
       "</div>"
      ],
      "text/plain": [
       "          version https://git-lfs.github.com/spec/v1\n",
       "0  oid sha256:7e5a954e0babc650235d488e0d9ae79c4b3...\n",
       "1                                       size 4808193"
      ]
     },
     "execution_count": 4,
     "metadata": {},
     "output_type": "execute_result"
    }
   ],
   "source": [
    "df.head()"
   ]
  },
  {
   "cell_type": "code",
   "execution_count": 5,
   "id": "5de9247c-f95e-4618-8fde-0e9f0ec87a28",
   "metadata": {},
   "outputs": [
    {
     "data": {
      "text/plain": [
       "(2, 1)"
      ]
     },
     "execution_count": 5,
     "metadata": {},
     "output_type": "execute_result"
    }
   ],
   "source": [
    "df.shape"
   ]
  },
  {
   "cell_type": "code",
   "execution_count": 6,
   "id": "ebe83874-86fc-498d-afea-94e0260c4a13",
   "metadata": {},
   "outputs": [
    {
     "name": "stdout",
     "output_type": "stream",
     "text": [
      "Below are subject IDs and their counts\n"
     ]
    },
    {
     "ename": "KeyError",
     "evalue": "'SubjectID'",
     "output_type": "error",
     "traceback": [
      "\u001b[0;31m---------------------------------------------------------------------------\u001b[0m",
      "\u001b[0;31mKeyError\u001b[0m                                  Traceback (most recent call last)",
      "File \u001b[0;32m~/.local/lib/python3.10/site-packages/pandas/core/indexes/base.py:3652\u001b[0m, in \u001b[0;36mIndex.get_loc\u001b[0;34m(self, key)\u001b[0m\n\u001b[1;32m   3651\u001b[0m \u001b[39mtry\u001b[39;00m:\n\u001b[0;32m-> 3652\u001b[0m     \u001b[39mreturn\u001b[39;00m \u001b[39mself\u001b[39;49m\u001b[39m.\u001b[39;49m_engine\u001b[39m.\u001b[39;49mget_loc(casted_key)\n\u001b[1;32m   3653\u001b[0m \u001b[39mexcept\u001b[39;00m \u001b[39mKeyError\u001b[39;00m \u001b[39mas\u001b[39;00m err:\n",
      "File \u001b[0;32m~/.local/lib/python3.10/site-packages/pandas/_libs/index.pyx:147\u001b[0m, in \u001b[0;36mpandas._libs.index.IndexEngine.get_loc\u001b[0;34m()\u001b[0m\n",
      "File \u001b[0;32m~/.local/lib/python3.10/site-packages/pandas/_libs/index.pyx:176\u001b[0m, in \u001b[0;36mpandas._libs.index.IndexEngine.get_loc\u001b[0;34m()\u001b[0m\n",
      "File \u001b[0;32mpandas/_libs/hashtable_class_helper.pxi:7080\u001b[0m, in \u001b[0;36mpandas._libs.hashtable.PyObjectHashTable.get_item\u001b[0;34m()\u001b[0m\n",
      "File \u001b[0;32mpandas/_libs/hashtable_class_helper.pxi:7088\u001b[0m, in \u001b[0;36mpandas._libs.hashtable.PyObjectHashTable.get_item\u001b[0;34m()\u001b[0m\n",
      "\u001b[0;31mKeyError\u001b[0m: 'SubjectID'",
      "\nThe above exception was the direct cause of the following exception:\n",
      "\u001b[0;31mKeyError\u001b[0m                                  Traceback (most recent call last)",
      "Cell \u001b[0;32mIn[6], line 2\u001b[0m\n\u001b[1;32m      1\u001b[0m \u001b[39mprint\u001b[39m(\u001b[39m'\u001b[39m\u001b[39mBelow are subject IDs and their counts\u001b[39m\u001b[39m'\u001b[39m)\n\u001b[0;32m----> 2\u001b[0m Counter(df[\u001b[39m'\u001b[39;49m\u001b[39mSubjectID\u001b[39;49m\u001b[39m'\u001b[39;49m])\n",
      "File \u001b[0;32m~/.local/lib/python3.10/site-packages/pandas/core/frame.py:3761\u001b[0m, in \u001b[0;36mDataFrame.__getitem__\u001b[0;34m(self, key)\u001b[0m\n\u001b[1;32m   3759\u001b[0m \u001b[39mif\u001b[39;00m \u001b[39mself\u001b[39m\u001b[39m.\u001b[39mcolumns\u001b[39m.\u001b[39mnlevels \u001b[39m>\u001b[39m \u001b[39m1\u001b[39m:\n\u001b[1;32m   3760\u001b[0m     \u001b[39mreturn\u001b[39;00m \u001b[39mself\u001b[39m\u001b[39m.\u001b[39m_getitem_multilevel(key)\n\u001b[0;32m-> 3761\u001b[0m indexer \u001b[39m=\u001b[39m \u001b[39mself\u001b[39;49m\u001b[39m.\u001b[39;49mcolumns\u001b[39m.\u001b[39;49mget_loc(key)\n\u001b[1;32m   3762\u001b[0m \u001b[39mif\u001b[39;00m is_integer(indexer):\n\u001b[1;32m   3763\u001b[0m     indexer \u001b[39m=\u001b[39m [indexer]\n",
      "File \u001b[0;32m~/.local/lib/python3.10/site-packages/pandas/core/indexes/base.py:3654\u001b[0m, in \u001b[0;36mIndex.get_loc\u001b[0;34m(self, key)\u001b[0m\n\u001b[1;32m   3652\u001b[0m     \u001b[39mreturn\u001b[39;00m \u001b[39mself\u001b[39m\u001b[39m.\u001b[39m_engine\u001b[39m.\u001b[39mget_loc(casted_key)\n\u001b[1;32m   3653\u001b[0m \u001b[39mexcept\u001b[39;00m \u001b[39mKeyError\u001b[39;00m \u001b[39mas\u001b[39;00m err:\n\u001b[0;32m-> 3654\u001b[0m     \u001b[39mraise\u001b[39;00m \u001b[39mKeyError\u001b[39;00m(key) \u001b[39mfrom\u001b[39;00m \u001b[39merr\u001b[39;00m\n\u001b[1;32m   3655\u001b[0m \u001b[39mexcept\u001b[39;00m \u001b[39mTypeError\u001b[39;00m:\n\u001b[1;32m   3656\u001b[0m     \u001b[39m# If we have a listlike key, _check_indexing_error will raise\u001b[39;00m\n\u001b[1;32m   3657\u001b[0m     \u001b[39m#  InvalidIndexError. Otherwise we fall through and re-raise\u001b[39;00m\n\u001b[1;32m   3658\u001b[0m     \u001b[39m#  the TypeError.\u001b[39;00m\n\u001b[1;32m   3659\u001b[0m     \u001b[39mself\u001b[39m\u001b[39m.\u001b[39m_check_indexing_error(key)\n",
      "\u001b[0;31mKeyError\u001b[0m: 'SubjectID'"
     ]
    }
   ],
   "source": [
    "print('Below are subject IDs and their counts')\n",
    "Counter(df['SubjectID'])"
   ]
  },
  {
   "cell_type": "code",
   "execution_count": null,
   "id": "b740e7fd-2c82-4aed-a01c-6f1bd034d9e5",
   "metadata": {},
   "outputs": [
    {
     "name": "stdout",
     "output_type": "stream",
     "text": [
      "Below are subject IDs and their counts\n"
     ]
    },
    {
     "data": {
      "text/plain": [
       "Counter({0.0: 1412,\n",
       "         1.0: 1414,\n",
       "         2.0: 1274,\n",
       "         3.0: 1206,\n",
       "         4.0: 1356,\n",
       "         5.0: 1230,\n",
       "         6.0: 1181,\n",
       "         7.0: 1177,\n",
       "         8.0: 1280,\n",
       "         9.0: 1281})"
      ]
     },
     "execution_count": 6,
     "metadata": {},
     "output_type": "execute_result"
    }
   ],
   "source": [
    "print('Below are subject IDs and their counts')\n",
    "Counter(df['VideoID'])"
   ]
  },
  {
   "cell_type": "code",
   "execution_count": 7,
   "id": "00ab2acd-236e-4911-b731-e86241a80822",
   "metadata": {},
   "outputs": [],
   "source": [
    "# sample rate of 2 Hz (1 sample every 0.5 seconds)\n",
    "# so it's basically time series data \n",
    "# data's kaggle site says theta seems to be where confusion is held \n",
    "# this is so stupid they just used the means of each channel as their features \n",
    "# need to seperate the combos of videos and participants "
   ]
  },
  {
   "cell_type": "code",
   "execution_count": 8,
   "id": "a6b32a95-b8e5-4a1f-9425-592e68c2337b",
   "metadata": {},
   "outputs": [
    {
     "data": {
      "text/plain": [
       "(100, 14)"
      ]
     },
     "execution_count": 8,
     "metadata": {},
     "output_type": "execute_result"
    }
   ],
   "source": [
    "# create an empty numpy array \n",
    "eeg_arr = np.zeros((100,14))\n",
    "eeg_arr.shape"
   ]
  },
  {
   "cell_type": "code",
   "execution_count": 9,
   "id": "d1672744-bdce-4008-b0f3-ac4e308ffc52",
   "metadata": {},
   "outputs": [
    {
     "data": {
      "text/plain": [
       "array([[0., 0., 0., ..., 0., 0., 0.],\n",
       "       [0., 0., 0., ..., 0., 0., 0.],\n",
       "       [0., 0., 0., ..., 0., 0., 0.],\n",
       "       ...,\n",
       "       [0., 0., 0., ..., 0., 0., 0.],\n",
       "       [0., 0., 0., ..., 0., 0., 0.],\n",
       "       [0., 0., 0., ..., 0., 0., 0.]])"
      ]
     },
     "execution_count": 9,
     "metadata": {},
     "output_type": "execute_result"
    }
   ],
   "source": [
    "eeg_arr"
   ]
  },
  {
   "cell_type": "code",
   "execution_count": 18,
   "id": "09a90298-eb3e-4098-880a-9763f428f39d",
   "metadata": {},
   "outputs": [
    {
     "name": "stderr",
     "output_type": "stream",
     "text": [
      "/home/codespace/.local/lib/python3.10/site-packages/numpy/core/fromnumeric.py:3464: RuntimeWarning: Mean of empty slice.\n",
      "  return _methods._mean(a, axis=axis, dtype=dtype,\n",
      "/home/codespace/.local/lib/python3.10/site-packages/numpy/core/_methods.py:192: RuntimeWarning: invalid value encountered in scalar divide\n",
      "  ret = ret.dtype.type(ret / rcount)\n"
     ]
    }
   ],
   "source": [
    "counter = 0\n",
    "for i in range(10):\n",
    "    for j in range(10):\n",
    "        curr = df.loc[(df['user-definedlabel'] == i) & (df['VideoID'] == j)].copy() #SubjectID, VideoID \n",
    "        curr_attention = np.mean([curr['Attention']])\n",
    "        curr_mediation = np.mean([curr['Mediation']])\n",
    "        curr_raw = np.mean([curr['Raw']])\n",
    "        curr_delta = np.mean([curr['Delta']])\n",
    "        curr_theta = np.mean([curr['Theta']])\n",
    "        curr_alpha1 = np.mean([curr['Alpha1']])\n",
    "        curr_alpha2 = np.mean([curr['Alpha2']])\n",
    "        curr_beta1 = np.mean([curr['Beta1']])\n",
    "        curr_beta2 = np.mean([curr['Beta2']])\n",
    "        curr_gamma1 = np.mean([curr['Gamma1']])\n",
    "        curr_gamma2 = np.mean([curr['Gamma2']])\n",
    "        label = np.mean(curr['user-definedlabel'])\n",
    "        \n",
    "        \n",
    "        eeg_arr[counter,:] = [i,j,label,curr_attention,curr_mediation,curr_raw,curr_delta, curr_theta,\n",
    "                              curr_alpha1,curr_alpha2, curr_beta1, curr_beta2, curr_gamma1, curr_gamma2]\n",
    "        # Attention Mediation Raw Delta Theta Alpha1 Alpha2 Beta1 Beta2 Gamma1 Gamma2\n",
    "        counter +=1 "
   ]
  },
  {
   "cell_type": "code",
   "execution_count": 19,
   "id": "1990b0f3-e236-47bf-8d76-a1fb55439cdf",
   "metadata": {},
   "outputs": [
    {
     "data": {
      "text/plain": [
       "array([[ 0.,  0.,  0., ...,  0.,  0.,  0.],\n",
       "       [ 0.,  1., nan, ..., nan, nan, nan],\n",
       "       [ 0.,  2., nan, ..., nan, nan, nan],\n",
       "       ...,\n",
       "       [ 9.,  7., nan, ..., nan, nan, nan],\n",
       "       [ 9.,  8., nan, ..., nan, nan, nan],\n",
       "       [ 9.,  9., nan, ..., nan, nan, nan]])"
      ]
     },
     "execution_count": 19,
     "metadata": {},
     "output_type": "execute_result"
    }
   ],
   "source": [
    "eeg_arr"
   ]
  },
  {
   "cell_type": "code",
   "execution_count": 20,
   "id": "e698c454-64b0-4de9-a6cc-0ebdd0adeab6",
   "metadata": {},
   "outputs": [],
   "source": [
    "df = pd.DataFrame(eeg_arr, columns = ['SubjectID', 'VideoID', 'user-definedlabel', 'Attention', \n",
    "                                      'Mediation', 'Raw', 'Delta', 'Theta', 'Alpha1', 'Alpha2', \n",
    "                                      'Beta1', 'Beta2', 'Gamma1', 'Gamma2'])"
   ]
  },
  {
   "cell_type": "code",
   "execution_count": 21,
   "id": "2fedc725-a3c0-4771-a94f-37fb8429a303",
   "metadata": {},
   "outputs": [
    {
     "data": {
      "text/html": [
       "<div>\n",
       "<style scoped>\n",
       "    .dataframe tbody tr th:only-of-type {\n",
       "        vertical-align: middle;\n",
       "    }\n",
       "\n",
       "    .dataframe tbody tr th {\n",
       "        vertical-align: top;\n",
       "    }\n",
       "\n",
       "    .dataframe thead th {\n",
       "        text-align: right;\n",
       "    }\n",
       "</style>\n",
       "<table border=\"1\" class=\"dataframe\">\n",
       "  <thead>\n",
       "    <tr style=\"text-align: right;\">\n",
       "      <th></th>\n",
       "      <th>SubjectID</th>\n",
       "      <th>VideoID</th>\n",
       "      <th>user-definedlabel</th>\n",
       "      <th>Attention</th>\n",
       "      <th>Mediation</th>\n",
       "      <th>Raw</th>\n",
       "      <th>Delta</th>\n",
       "      <th>Theta</th>\n",
       "      <th>Alpha1</th>\n",
       "      <th>Alpha2</th>\n",
       "      <th>Beta1</th>\n",
       "      <th>Beta2</th>\n",
       "      <th>Gamma1</th>\n",
       "      <th>Gamma2</th>\n",
       "    </tr>\n",
       "  </thead>\n",
       "  <tbody>\n",
       "    <tr>\n",
       "      <th>0</th>\n",
       "      <td>0.0</td>\n",
       "      <td>0.0</td>\n",
       "      <td>0.0</td>\n",
       "      <td>0.0</td>\n",
       "      <td>0.0</td>\n",
       "      <td>0.0</td>\n",
       "      <td>0.0</td>\n",
       "      <td>0.0</td>\n",
       "      <td>0.0</td>\n",
       "      <td>0.0</td>\n",
       "      <td>0.0</td>\n",
       "      <td>0.0</td>\n",
       "      <td>0.0</td>\n",
       "      <td>0.0</td>\n",
       "    </tr>\n",
       "    <tr>\n",
       "      <th>1</th>\n",
       "      <td>0.0</td>\n",
       "      <td>1.0</td>\n",
       "      <td>NaN</td>\n",
       "      <td>NaN</td>\n",
       "      <td>NaN</td>\n",
       "      <td>NaN</td>\n",
       "      <td>NaN</td>\n",
       "      <td>NaN</td>\n",
       "      <td>NaN</td>\n",
       "      <td>NaN</td>\n",
       "      <td>NaN</td>\n",
       "      <td>NaN</td>\n",
       "      <td>NaN</td>\n",
       "      <td>NaN</td>\n",
       "    </tr>\n",
       "    <tr>\n",
       "      <th>2</th>\n",
       "      <td>0.0</td>\n",
       "      <td>2.0</td>\n",
       "      <td>NaN</td>\n",
       "      <td>NaN</td>\n",
       "      <td>NaN</td>\n",
       "      <td>NaN</td>\n",
       "      <td>NaN</td>\n",
       "      <td>NaN</td>\n",
       "      <td>NaN</td>\n",
       "      <td>NaN</td>\n",
       "      <td>NaN</td>\n",
       "      <td>NaN</td>\n",
       "      <td>NaN</td>\n",
       "      <td>NaN</td>\n",
       "    </tr>\n",
       "    <tr>\n",
       "      <th>3</th>\n",
       "      <td>0.0</td>\n",
       "      <td>3.0</td>\n",
       "      <td>NaN</td>\n",
       "      <td>NaN</td>\n",
       "      <td>NaN</td>\n",
       "      <td>NaN</td>\n",
       "      <td>NaN</td>\n",
       "      <td>NaN</td>\n",
       "      <td>NaN</td>\n",
       "      <td>NaN</td>\n",
       "      <td>NaN</td>\n",
       "      <td>NaN</td>\n",
       "      <td>NaN</td>\n",
       "      <td>NaN</td>\n",
       "    </tr>\n",
       "    <tr>\n",
       "      <th>4</th>\n",
       "      <td>0.0</td>\n",
       "      <td>4.0</td>\n",
       "      <td>NaN</td>\n",
       "      <td>NaN</td>\n",
       "      <td>NaN</td>\n",
       "      <td>NaN</td>\n",
       "      <td>NaN</td>\n",
       "      <td>NaN</td>\n",
       "      <td>NaN</td>\n",
       "      <td>NaN</td>\n",
       "      <td>NaN</td>\n",
       "      <td>NaN</td>\n",
       "      <td>NaN</td>\n",
       "      <td>NaN</td>\n",
       "    </tr>\n",
       "  </tbody>\n",
       "</table>\n",
       "</div>"
      ],
      "text/plain": [
       "   SubjectID  VideoID  user-definedlabel  Attention  Mediation  Raw  Delta   \n",
       "0        0.0      0.0                0.0        0.0        0.0  0.0    0.0  \\\n",
       "1        0.0      1.0                NaN        NaN        NaN  NaN    NaN   \n",
       "2        0.0      2.0                NaN        NaN        NaN  NaN    NaN   \n",
       "3        0.0      3.0                NaN        NaN        NaN  NaN    NaN   \n",
       "4        0.0      4.0                NaN        NaN        NaN  NaN    NaN   \n",
       "\n",
       "   Theta  Alpha1  Alpha2  Beta1  Beta2  Gamma1  Gamma2  \n",
       "0    0.0     0.0     0.0    0.0    0.0     0.0     0.0  \n",
       "1    NaN     NaN     NaN    NaN    NaN     NaN     NaN  \n",
       "2    NaN     NaN     NaN    NaN    NaN     NaN     NaN  \n",
       "3    NaN     NaN     NaN    NaN    NaN     NaN     NaN  \n",
       "4    NaN     NaN     NaN    NaN    NaN     NaN     NaN  "
      ]
     },
     "execution_count": 21,
     "metadata": {},
     "output_type": "execute_result"
    }
   ],
   "source": [
    "df.head()"
   ]
  },
  {
   "cell_type": "code",
   "execution_count": 22,
   "id": "470b01a8-6989-41e8-8de5-608387981bb9",
   "metadata": {},
   "outputs": [],
   "source": [
    "#save to a CSV so you don't have to keep running this each time \n",
    "df.to_csv('cleaned_data/meanfeatures.csv')"
   ]
  },
  {
   "cell_type": "code",
   "execution_count": null,
   "id": "cab55a84-8618-4300-aca1-cc16661463c1",
   "metadata": {},
   "outputs": [],
   "source": []
  }
 ],
 "metadata": {
  "kernelspec": {
   "display_name": "Python 3 (ipykernel)",
   "language": "python",
   "name": "python3"
  },
  "language_info": {
   "codemirror_mode": {
    "name": "ipython",
    "version": 3
   },
   "file_extension": ".py",
   "mimetype": "text/x-python",
   "name": "python",
   "nbconvert_exporter": "python",
   "pygments_lexer": "ipython3",
   "version": "3.10.4"
  }
 },
 "nbformat": 4,
 "nbformat_minor": 5
}
