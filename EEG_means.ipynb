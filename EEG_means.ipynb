{
 "cells": [
  {
   "cell_type": "markdown",
   "id": "5e10a3ca-af25-4e1c-86d5-9d7438d3736c",
   "metadata": {},
   "source": [
    "# Create the Channel Means Feature set"
   ]
  },
  {
   "cell_type": "code",
   "execution_count": 1,
   "id": "f734ab01-953f-40ba-b883-9a54ddb2e989",
   "metadata": {},
   "outputs": [],
   "source": [
    "# import toolboxes\n",
    "import pandas as pd \n",
    "import numpy as np\n",
    "import os\n",
    "from collections import Counter"
   ]
  },
  {
   "cell_type": "code",
   "execution_count": 2,
   "id": "e8065e95-64b4-4ff1-946d-a717e85689a3",
   "metadata": {},
   "outputs": [],
   "source": [
    "directory = '/Users/amandabreton/Documents/Duke 2022-2023/ECE 590/Final Project/confused_dataset/'\n",
    "filename = 'EEG_data.csv'\n",
    "\n",
    "df = pd.read_csv(directory+filename)"
   ]
  },
  {
   "cell_type": "code",
   "execution_count": 3,
   "id": "917932f2-c517-4362-8b1c-3465668dc9ed",
   "metadata": {},
   "outputs": [
    {
     "data": {
      "text/html": [
       "<div>\n",
       "<style scoped>\n",
       "    .dataframe tbody tr th:only-of-type {\n",
       "        vertical-align: middle;\n",
       "    }\n",
       "\n",
       "    .dataframe tbody tr th {\n",
       "        vertical-align: top;\n",
       "    }\n",
       "\n",
       "    .dataframe thead th {\n",
       "        text-align: right;\n",
       "    }\n",
       "</style>\n",
       "<table border=\"1\" class=\"dataframe\">\n",
       "  <thead>\n",
       "    <tr style=\"text-align: right;\">\n",
       "      <th></th>\n",
       "      <th>SubjectID</th>\n",
       "      <th>VideoID</th>\n",
       "      <th>Attention</th>\n",
       "      <th>Mediation</th>\n",
       "      <th>Raw</th>\n",
       "      <th>Delta</th>\n",
       "      <th>Theta</th>\n",
       "      <th>Alpha1</th>\n",
       "      <th>Alpha2</th>\n",
       "      <th>Beta1</th>\n",
       "      <th>Beta2</th>\n",
       "      <th>Gamma1</th>\n",
       "      <th>Gamma2</th>\n",
       "      <th>predefinedlabel</th>\n",
       "      <th>user-definedlabeln</th>\n",
       "    </tr>\n",
       "  </thead>\n",
       "  <tbody>\n",
       "    <tr>\n",
       "      <th>0</th>\n",
       "      <td>0.0</td>\n",
       "      <td>0.0</td>\n",
       "      <td>56.0</td>\n",
       "      <td>43.0</td>\n",
       "      <td>278.0</td>\n",
       "      <td>301963.0</td>\n",
       "      <td>90612.0</td>\n",
       "      <td>33735.0</td>\n",
       "      <td>23991.0</td>\n",
       "      <td>27946.0</td>\n",
       "      <td>45097.0</td>\n",
       "      <td>33228.0</td>\n",
       "      <td>8293.0</td>\n",
       "      <td>0.0</td>\n",
       "      <td>0.0</td>\n",
       "    </tr>\n",
       "    <tr>\n",
       "      <th>1</th>\n",
       "      <td>0.0</td>\n",
       "      <td>0.0</td>\n",
       "      <td>40.0</td>\n",
       "      <td>35.0</td>\n",
       "      <td>-50.0</td>\n",
       "      <td>73787.0</td>\n",
       "      <td>28083.0</td>\n",
       "      <td>1439.0</td>\n",
       "      <td>2240.0</td>\n",
       "      <td>2746.0</td>\n",
       "      <td>3687.0</td>\n",
       "      <td>5293.0</td>\n",
       "      <td>2740.0</td>\n",
       "      <td>0.0</td>\n",
       "      <td>0.0</td>\n",
       "    </tr>\n",
       "    <tr>\n",
       "      <th>2</th>\n",
       "      <td>0.0</td>\n",
       "      <td>0.0</td>\n",
       "      <td>47.0</td>\n",
       "      <td>48.0</td>\n",
       "      <td>101.0</td>\n",
       "      <td>758353.0</td>\n",
       "      <td>383745.0</td>\n",
       "      <td>201999.0</td>\n",
       "      <td>62107.0</td>\n",
       "      <td>36293.0</td>\n",
       "      <td>130536.0</td>\n",
       "      <td>57243.0</td>\n",
       "      <td>25354.0</td>\n",
       "      <td>0.0</td>\n",
       "      <td>0.0</td>\n",
       "    </tr>\n",
       "    <tr>\n",
       "      <th>3</th>\n",
       "      <td>0.0</td>\n",
       "      <td>0.0</td>\n",
       "      <td>47.0</td>\n",
       "      <td>57.0</td>\n",
       "      <td>-5.0</td>\n",
       "      <td>2012240.0</td>\n",
       "      <td>129350.0</td>\n",
       "      <td>61236.0</td>\n",
       "      <td>17084.0</td>\n",
       "      <td>11488.0</td>\n",
       "      <td>62462.0</td>\n",
       "      <td>49960.0</td>\n",
       "      <td>33932.0</td>\n",
       "      <td>0.0</td>\n",
       "      <td>0.0</td>\n",
       "    </tr>\n",
       "    <tr>\n",
       "      <th>4</th>\n",
       "      <td>0.0</td>\n",
       "      <td>0.0</td>\n",
       "      <td>44.0</td>\n",
       "      <td>53.0</td>\n",
       "      <td>-8.0</td>\n",
       "      <td>1005145.0</td>\n",
       "      <td>354328.0</td>\n",
       "      <td>37102.0</td>\n",
       "      <td>88881.0</td>\n",
       "      <td>45307.0</td>\n",
       "      <td>99603.0</td>\n",
       "      <td>44790.0</td>\n",
       "      <td>29749.0</td>\n",
       "      <td>0.0</td>\n",
       "      <td>0.0</td>\n",
       "    </tr>\n",
       "  </tbody>\n",
       "</table>\n",
       "</div>"
      ],
      "text/plain": [
       "   SubjectID  VideoID  Attention  Mediation    Raw      Delta     Theta  \\\n",
       "0        0.0      0.0       56.0       43.0  278.0   301963.0   90612.0   \n",
       "1        0.0      0.0       40.0       35.0  -50.0    73787.0   28083.0   \n",
       "2        0.0      0.0       47.0       48.0  101.0   758353.0  383745.0   \n",
       "3        0.0      0.0       47.0       57.0   -5.0  2012240.0  129350.0   \n",
       "4        0.0      0.0       44.0       53.0   -8.0  1005145.0  354328.0   \n",
       "\n",
       "     Alpha1   Alpha2    Beta1     Beta2   Gamma1   Gamma2  predefinedlabel  \\\n",
       "0   33735.0  23991.0  27946.0   45097.0  33228.0   8293.0              0.0   \n",
       "1    1439.0   2240.0   2746.0    3687.0   5293.0   2740.0              0.0   \n",
       "2  201999.0  62107.0  36293.0  130536.0  57243.0  25354.0              0.0   \n",
       "3   61236.0  17084.0  11488.0   62462.0  49960.0  33932.0              0.0   \n",
       "4   37102.0  88881.0  45307.0   99603.0  44790.0  29749.0              0.0   \n",
       "\n",
       "   user-definedlabeln  \n",
       "0                 0.0  \n",
       "1                 0.0  \n",
       "2                 0.0  \n",
       "3                 0.0  \n",
       "4                 0.0  "
      ]
     },
     "execution_count": 3,
     "metadata": {},
     "output_type": "execute_result"
    }
   ],
   "source": [
    "df.head()"
   ]
  },
  {
   "cell_type": "code",
   "execution_count": 4,
   "id": "5de9247c-f95e-4618-8fde-0e9f0ec87a28",
   "metadata": {},
   "outputs": [
    {
     "data": {
      "text/plain": [
       "(12811, 15)"
      ]
     },
     "execution_count": 4,
     "metadata": {},
     "output_type": "execute_result"
    }
   ],
   "source": [
    "df.shape"
   ]
  },
  {
   "cell_type": "code",
   "execution_count": 5,
   "id": "ebe83874-86fc-498d-afea-94e0260c4a13",
   "metadata": {},
   "outputs": [
    {
     "name": "stdout",
     "output_type": "stream",
     "text": [
      "Below are subject IDs and their counts\n"
     ]
    },
    {
     "data": {
      "text/plain": [
       "Counter({0.0: 1261,\n",
       "         1.0: 1301,\n",
       "         2.0: 1284,\n",
       "         3.0: 1314,\n",
       "         4.0: 1295,\n",
       "         5.0: 1262,\n",
       "         6.0: 1275,\n",
       "         7.0: 1276,\n",
       "         8.0: 1282,\n",
       "         9.0: 1261})"
      ]
     },
     "execution_count": 5,
     "metadata": {},
     "output_type": "execute_result"
    }
   ],
   "source": [
    "print('Below are subject IDs and their counts')\n",
    "Counter(df['SubjectID'])"
   ]
  },
  {
   "cell_type": "code",
   "execution_count": 6,
   "id": "b740e7fd-2c82-4aed-a01c-6f1bd034d9e5",
   "metadata": {},
   "outputs": [
    {
     "name": "stdout",
     "output_type": "stream",
     "text": [
      "Below are subject IDs and their counts\n"
     ]
    },
    {
     "data": {
      "text/plain": [
       "Counter({0.0: 1412,\n",
       "         1.0: 1414,\n",
       "         2.0: 1274,\n",
       "         3.0: 1206,\n",
       "         4.0: 1356,\n",
       "         5.0: 1230,\n",
       "         6.0: 1181,\n",
       "         7.0: 1177,\n",
       "         8.0: 1280,\n",
       "         9.0: 1281})"
      ]
     },
     "execution_count": 6,
     "metadata": {},
     "output_type": "execute_result"
    }
   ],
   "source": [
    "print('Below are subject IDs and their counts')\n",
    "Counter(df['VideoID'])"
   ]
  },
  {
   "cell_type": "code",
   "execution_count": 7,
   "id": "00ab2acd-236e-4911-b731-e86241a80822",
   "metadata": {},
   "outputs": [],
   "source": [
    "# sample rate of 2 Hz (1 sample every 0.5 seconds)\n",
    "# so it's basically time series data \n",
    "# data's kaggle site says theta seems to be where confusion is held \n",
    "# this is so stupid they just used the means of each channel as their features \n",
    "# need to seperate the combos of videos and participants "
   ]
  },
  {
   "cell_type": "code",
   "execution_count": 11,
   "id": "a6b32a95-b8e5-4a1f-9425-592e68c2337b",
   "metadata": {},
   "outputs": [
    {
     "data": {
      "text/plain": [
       "(100, 14)"
      ]
     },
     "execution_count": 11,
     "metadata": {},
     "output_type": "execute_result"
    }
   ],
   "source": [
    "# create an empty numpy array \n",
    "eeg_arr = np.zeros((100,14))\n",
    "eeg_arr.shape"
   ]
  },
  {
   "cell_type": "code",
   "execution_count": 13,
   "id": "d1672744-bdce-4008-b0f3-ac4e308ffc52",
   "metadata": {},
   "outputs": [
    {
     "data": {
      "text/plain": [
       "array([[0., 0., 0., ..., 0., 0., 0.],\n",
       "       [0., 0., 0., ..., 0., 0., 0.],\n",
       "       [0., 0., 0., ..., 0., 0., 0.],\n",
       "       ...,\n",
       "       [0., 0., 0., ..., 0., 0., 0.],\n",
       "       [0., 0., 0., ..., 0., 0., 0.],\n",
       "       [0., 0., 0., ..., 0., 0., 0.]])"
      ]
     },
     "execution_count": 13,
     "metadata": {},
     "output_type": "execute_result"
    }
   ],
   "source": [
    "eeg_arr"
   ]
  },
  {
   "cell_type": "code",
   "execution_count": 14,
   "id": "09a90298-eb3e-4098-880a-9763f428f39d",
   "metadata": {},
   "outputs": [],
   "source": [
    "counter = 0\n",
    "for i in range(10):\n",
    "    for j in range(10):\n",
    "        curr = df.loc[(df['SubjectID'] == i) & (df['VideoID'] == j)].copy() #SubjectID, VideoID \n",
    "        curr_attention = np.mean([curr['Attention']])\n",
    "        curr_mediation = np.mean([curr['Mediation']])\n",
    "        curr_raw = np.mean([curr['Raw']])\n",
    "        curr_delta = np.mean([curr['Delta']])\n",
    "        curr_theta = np.mean([curr['Theta']])\n",
    "        curr_alpha1 = np.mean([curr['Alpha1']])\n",
    "        curr_alpha2 = np.mean([curr['Alpha2']])\n",
    "        curr_beta1 = np.mean([curr['Beta1']])\n",
    "        curr_beta2 = np.mean([curr['Beta2']])\n",
    "        curr_gamma1 = np.mean([curr['Gamma1']])\n",
    "        curr_gamma2 = np.mean([curr['Gamma2']])\n",
    "        label = np.mean(curr['user-definedlabeln'])\n",
    "        \n",
    "        \n",
    "        eeg_arr[counter,:] = [i,j,label,curr_attention,curr_mediation,curr_raw,curr_delta, curr_theta,\n",
    "                              curr_alpha1,curr_alpha2, curr_beta1, curr_beta2, curr_gamma1, curr_gamma2]\n",
    "        # Attention Mediation Raw Delta Theta Alpha1 Alpha2 Beta1 Beta2 Gamma1 Gamma2\n",
    "        counter +=1 "
   ]
  },
  {
   "cell_type": "code",
   "execution_count": 15,
   "id": "1990b0f3-e236-47bf-8d76-a1fb55439cdf",
   "metadata": {},
   "outputs": [
    {
     "data": {
      "text/plain": [
       "array([[0.00000000e+00, 0.00000000e+00, 0.00000000e+00, ...,\n",
       "        4.02687639e+04, 4.07292847e+04, 1.68170625e+04],\n",
       "       [0.00000000e+00, 1.00000000e+00, 1.00000000e+00, ...,\n",
       "        3.74107286e+04, 3.67587000e+04, 1.45194071e+04],\n",
       "       [0.00000000e+00, 2.00000000e+00, 1.00000000e+00, ...,\n",
       "        3.64464366e+04, 3.39088732e+04, 1.45458451e+04],\n",
       "       ...,\n",
       "       [9.00000000e+00, 7.00000000e+00, 0.00000000e+00, ...,\n",
       "        1.99090268e+04, 1.82492679e+04, 2.69793750e+03],\n",
       "       [9.00000000e+00, 8.00000000e+00, 1.00000000e+00, ...,\n",
       "        3.67734435e+04, 4.54245887e+04, 1.75549274e+04],\n",
       "       [9.00000000e+00, 9.00000000e+00, 0.00000000e+00, ...,\n",
       "        5.64819754e+04, 2.22608934e+04, 2.99592623e+03]])"
      ]
     },
     "execution_count": 15,
     "metadata": {},
     "output_type": "execute_result"
    }
   ],
   "source": [
    "eeg_arr"
   ]
  },
  {
   "cell_type": "code",
   "execution_count": 16,
   "id": "e698c454-64b0-4de9-a6cc-0ebdd0adeab6",
   "metadata": {},
   "outputs": [],
   "source": [
    "df = pd.DataFrame(eeg_arr, columns = ['SubjectID', 'VideoID', 'user-definedlabel', 'Attention', \n",
    "                                      'Mediation', 'Raw', 'Delta', 'Theta', 'Alpha1', 'Alpha2', \n",
    "                                      'Beta1', 'Beta2', 'Gamma1', 'Gamma2'])"
   ]
  },
  {
   "cell_type": "code",
   "execution_count": 17,
   "id": "2fedc725-a3c0-4771-a94f-37fb8429a303",
   "metadata": {},
   "outputs": [
    {
     "data": {
      "text/html": [
       "<div>\n",
       "<style scoped>\n",
       "    .dataframe tbody tr th:only-of-type {\n",
       "        vertical-align: middle;\n",
       "    }\n",
       "\n",
       "    .dataframe tbody tr th {\n",
       "        vertical-align: top;\n",
       "    }\n",
       "\n",
       "    .dataframe thead th {\n",
       "        text-align: right;\n",
       "    }\n",
       "</style>\n",
       "<table border=\"1\" class=\"dataframe\">\n",
       "  <thead>\n",
       "    <tr style=\"text-align: right;\">\n",
       "      <th></th>\n",
       "      <th>SubjectID</th>\n",
       "      <th>VideoID</th>\n",
       "      <th>user-definedlabel</th>\n",
       "      <th>Attention</th>\n",
       "      <th>Mediation</th>\n",
       "      <th>Raw</th>\n",
       "      <th>Delta</th>\n",
       "      <th>Theta</th>\n",
       "      <th>Alpha1</th>\n",
       "      <th>Alpha2</th>\n",
       "      <th>Beta1</th>\n",
       "      <th>Beta2</th>\n",
       "      <th>Gamma1</th>\n",
       "      <th>Gamma2</th>\n",
       "    </tr>\n",
       "  </thead>\n",
       "  <tbody>\n",
       "    <tr>\n",
       "      <th>0</th>\n",
       "      <td>0.0</td>\n",
       "      <td>0.0</td>\n",
       "      <td>0.0</td>\n",
       "      <td>55.256944</td>\n",
       "      <td>53.826389</td>\n",
       "      <td>46.986111</td>\n",
       "      <td>544315.097222</td>\n",
       "      <td>124965.590278</td>\n",
       "      <td>36693.701389</td>\n",
       "      <td>25875.298611</td>\n",
       "      <td>20108.791667</td>\n",
       "      <td>40268.763889</td>\n",
       "      <td>40729.284722</td>\n",
       "      <td>16817.062500</td>\n",
       "    </tr>\n",
       "    <tr>\n",
       "      <th>1</th>\n",
       "      <td>0.0</td>\n",
       "      <td>1.0</td>\n",
       "      <td>1.0</td>\n",
       "      <td>43.621429</td>\n",
       "      <td>48.621429</td>\n",
       "      <td>28.800000</td>\n",
       "      <td>739737.292857</td>\n",
       "      <td>161064.228571</td>\n",
       "      <td>34918.028571</td>\n",
       "      <td>25078.935714</td>\n",
       "      <td>22157.307143</td>\n",
       "      <td>37410.728571</td>\n",
       "      <td>36758.700000</td>\n",
       "      <td>14519.407143</td>\n",
       "    </tr>\n",
       "    <tr>\n",
       "      <th>2</th>\n",
       "      <td>0.0</td>\n",
       "      <td>2.0</td>\n",
       "      <td>1.0</td>\n",
       "      <td>43.978873</td>\n",
       "      <td>47.316901</td>\n",
       "      <td>13.154930</td>\n",
       "      <td>694078.084507</td>\n",
       "      <td>149816.873239</td>\n",
       "      <td>30493.873239</td>\n",
       "      <td>21667.591549</td>\n",
       "      <td>21888.338028</td>\n",
       "      <td>36446.436620</td>\n",
       "      <td>33908.873239</td>\n",
       "      <td>14545.845070</td>\n",
       "    </tr>\n",
       "    <tr>\n",
       "      <th>3</th>\n",
       "      <td>0.0</td>\n",
       "      <td>3.0</td>\n",
       "      <td>0.0</td>\n",
       "      <td>51.057377</td>\n",
       "      <td>51.844262</td>\n",
       "      <td>34.713115</td>\n",
       "      <td>600823.688525</td>\n",
       "      <td>162653.360656</td>\n",
       "      <td>33367.278689</td>\n",
       "      <td>26281.500000</td>\n",
       "      <td>17224.278689</td>\n",
       "      <td>43706.524590</td>\n",
       "      <td>41438.213115</td>\n",
       "      <td>16558.631148</td>\n",
       "    </tr>\n",
       "    <tr>\n",
       "      <th>4</th>\n",
       "      <td>0.0</td>\n",
       "      <td>4.0</td>\n",
       "      <td>0.0</td>\n",
       "      <td>55.224138</td>\n",
       "      <td>47.474138</td>\n",
       "      <td>30.008621</td>\n",
       "      <td>546628.017241</td>\n",
       "      <td>126893.948276</td>\n",
       "      <td>23113.844828</td>\n",
       "      <td>17017.051724</td>\n",
       "      <td>15955.879310</td>\n",
       "      <td>36427.836207</td>\n",
       "      <td>36024.818966</td>\n",
       "      <td>14752.655172</td>\n",
       "    </tr>\n",
       "  </tbody>\n",
       "</table>\n",
       "</div>"
      ],
      "text/plain": [
       "   SubjectID  VideoID  user-definedlabel  Attention  Mediation        Raw  \\\n",
       "0        0.0      0.0                0.0  55.256944  53.826389  46.986111   \n",
       "1        0.0      1.0                1.0  43.621429  48.621429  28.800000   \n",
       "2        0.0      2.0                1.0  43.978873  47.316901  13.154930   \n",
       "3        0.0      3.0                0.0  51.057377  51.844262  34.713115   \n",
       "4        0.0      4.0                0.0  55.224138  47.474138  30.008621   \n",
       "\n",
       "           Delta          Theta        Alpha1        Alpha2         Beta1  \\\n",
       "0  544315.097222  124965.590278  36693.701389  25875.298611  20108.791667   \n",
       "1  739737.292857  161064.228571  34918.028571  25078.935714  22157.307143   \n",
       "2  694078.084507  149816.873239  30493.873239  21667.591549  21888.338028   \n",
       "3  600823.688525  162653.360656  33367.278689  26281.500000  17224.278689   \n",
       "4  546628.017241  126893.948276  23113.844828  17017.051724  15955.879310   \n",
       "\n",
       "          Beta2        Gamma1        Gamma2  \n",
       "0  40268.763889  40729.284722  16817.062500  \n",
       "1  37410.728571  36758.700000  14519.407143  \n",
       "2  36446.436620  33908.873239  14545.845070  \n",
       "3  43706.524590  41438.213115  16558.631148  \n",
       "4  36427.836207  36024.818966  14752.655172  "
      ]
     },
     "execution_count": 17,
     "metadata": {},
     "output_type": "execute_result"
    }
   ],
   "source": [
    "df.head()"
   ]
  },
  {
   "cell_type": "code",
   "execution_count": null,
   "id": "470b01a8-6989-41e8-8de5-608387981bb9",
   "metadata": {},
   "outputs": [],
   "source": []
  }
 ],
 "metadata": {
  "kernelspec": {
   "display_name": "Python 3 (ipykernel)",
   "language": "python",
   "name": "python3"
  },
  "language_info": {
   "codemirror_mode": {
    "name": "ipython",
    "version": 3
   },
   "file_extension": ".py",
   "mimetype": "text/x-python",
   "name": "python",
   "nbconvert_exporter": "python",
   "pygments_lexer": "ipython3",
   "version": "3.8.8"
  }
 },
 "nbformat": 4,
 "nbformat_minor": 5
}
