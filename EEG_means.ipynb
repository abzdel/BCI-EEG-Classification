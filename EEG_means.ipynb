{
 "cells": [
  {
   "cell_type": "markdown",
   "id": "5e10a3ca-af25-4e1c-86d5-9d7438d3736c",
   "metadata": {},
   "source": [
    "# Create the Channel Means Feature set"
   ]
  },
  {
   "cell_type": "code",
   "execution_count": 30,
   "id": "f734ab01-953f-40ba-b883-9a54ddb2e989",
   "metadata": {},
   "outputs": [],
   "source": [
    "# import toolboxes\n",
    "import pandas as pd\n",
    "import numpy as np\n",
    "import os\n",
    "from collections import Counter"
   ]
  },
  {
   "cell_type": "code",
   "execution_count": 31,
   "id": "e8065e95-64b4-4ff1-946d-a717e85689a3",
   "metadata": {},
   "outputs": [],
   "source": [
    "directory = \"source_data/\"\n",
    "filename = \"EEG_data.csv\"\n",
    "\n",
    "df = pd.read_csv(\"source_data/EEG_data.csv\")"
   ]
  },
  {
   "cell_type": "code",
   "execution_count": 32,
   "id": "5de9247c-f95e-4618-8fde-0e9f0ec87a28",
   "metadata": {},
   "outputs": [
    {
     "data": {
      "text/plain": [
       "(12811, 15)"
      ]
     },
     "execution_count": 32,
     "metadata": {},
     "output_type": "execute_result"
    }
   ],
   "source": [
    "df.shape"
   ]
  },
  {
   "cell_type": "code",
   "execution_count": 33,
   "id": "7ee7bbf2",
   "metadata": {},
   "outputs": [
    {
     "data": {
      "text/plain": [
       "SubjectID             0\n",
       "VideoID               0\n",
       "Attention             0\n",
       "Mediation             0\n",
       "Raw                   0\n",
       "Delta                 0\n",
       "Theta                 0\n",
       "Alpha1                0\n",
       "Alpha2                0\n",
       "Beta1                 0\n",
       "Beta2                 0\n",
       "Gamma1                0\n",
       "Gamma2                0\n",
       "predefinedlabel       0\n",
       "user-definedlabeln    0\n",
       "dtype: int64"
      ]
     },
     "execution_count": 33,
     "metadata": {},
     "output_type": "execute_result"
    }
   ],
   "source": [
    "df.isnull().sum()"
   ]
  },
  {
   "cell_type": "code",
   "execution_count": 34,
   "id": "ebe83874-86fc-498d-afea-94e0260c4a13",
   "metadata": {},
   "outputs": [
    {
     "name": "stdout",
     "output_type": "stream",
     "text": [
      "Below are subject IDs and their counts\n"
     ]
    },
    {
     "data": {
      "text/plain": [
       "Counter({0.0: 6244, 1.0: 6567})"
      ]
     },
     "execution_count": 34,
     "metadata": {},
     "output_type": "execute_result"
    }
   ],
   "source": [
    "print(\"Below are subject IDs and their counts\")\n",
    "Counter(df[\"user-definedlabeln\"])"
   ]
  },
  {
   "cell_type": "code",
   "execution_count": 35,
   "id": "b740e7fd-2c82-4aed-a01c-6f1bd034d9e5",
   "metadata": {},
   "outputs": [
    {
     "name": "stdout",
     "output_type": "stream",
     "text": [
      "Below are subject IDs and their counts\n"
     ]
    },
    {
     "data": {
      "text/plain": [
       "Counter({0.0: 1412,\n",
       "         1.0: 1414,\n",
       "         2.0: 1274,\n",
       "         3.0: 1206,\n",
       "         4.0: 1356,\n",
       "         5.0: 1230,\n",
       "         6.0: 1181,\n",
       "         7.0: 1177,\n",
       "         8.0: 1280,\n",
       "         9.0: 1281})"
      ]
     },
     "execution_count": 35,
     "metadata": {},
     "output_type": "execute_result"
    }
   ],
   "source": [
    "print(\"Below are subject IDs and their counts\")\n",
    "Counter(df[\"VideoID\"])"
   ]
  },
  {
   "cell_type": "code",
   "execution_count": 17,
   "id": "00ab2acd-236e-4911-b731-e86241a80822",
   "metadata": {},
   "outputs": [],
   "source": [
    "# sample rate of 2 Hz (1 sample every 0.5 seconds)\n",
    "# so it's basically time series data\n",
    "# data's kaggle site says theta seems to be where confusion is held\n",
    "# this is so stupid they just used the means of each channel as their features\n",
    "# need to seperate the combos of videos and participants"
   ]
  },
  {
   "cell_type": "code",
   "execution_count": 39,
   "id": "a6b32a95-b8e5-4a1f-9425-592e68c2337b",
   "metadata": {},
   "outputs": [
    {
     "data": {
      "text/plain": [
       "(100, 14)"
      ]
     },
     "execution_count": 39,
     "metadata": {},
     "output_type": "execute_result"
    }
   ],
   "source": [
    "# create an empty numpy array\n",
    "eeg_arr = np.zeros((100, 14))\n",
    "eeg_arr.shape"
   ]
  },
  {
   "cell_type": "code",
   "execution_count": 40,
   "id": "d1672744-bdce-4008-b0f3-ac4e308ffc52",
   "metadata": {},
   "outputs": [
    {
     "data": {
      "text/plain": [
       "array([[0., 0., 0., ..., 0., 0., 0.],\n",
       "       [0., 0., 0., ..., 0., 0., 0.],\n",
       "       [0., 0., 0., ..., 0., 0., 0.],\n",
       "       ...,\n",
       "       [0., 0., 0., ..., 0., 0., 0.],\n",
       "       [0., 0., 0., ..., 0., 0., 0.],\n",
       "       [0., 0., 0., ..., 0., 0., 0.]])"
      ]
     },
     "execution_count": 40,
     "metadata": {},
     "output_type": "execute_result"
    }
   ],
   "source": [
    "eeg_arr"
   ]
  },
  {
   "cell_type": "code",
   "execution_count": 41,
   "id": "09a90298-eb3e-4098-880a-9763f428f39d",
   "metadata": {},
   "outputs": [
    {
     "name": "stderr",
     "output_type": "stream",
     "text": [
      "/home/codespace/.local/lib/python3.10/site-packages/numpy/core/fromnumeric.py:3464: RuntimeWarning: Mean of empty slice.\n",
      "  return _methods._mean(a, axis=axis, dtype=dtype,\n",
      "/home/codespace/.local/lib/python3.10/site-packages/numpy/core/_methods.py:192: RuntimeWarning: invalid value encountered in scalar divide\n",
      "  ret = ret.dtype.type(ret / rcount)\n"
     ]
    }
   ],
   "source": [
    "counter = 0\n",
    "for i in range(10):\n",
    "    for j in range(10):\n",
    "        curr = df.loc[\n",
    "            (df[\"user-definedlabeln\"] == i) & (df[\"VideoID\"] == j)\n",
    "        ].copy()  # SubjectID, VideoID\n",
    "        curr_attention = np.mean([curr[\"Attention\"]])\n",
    "        curr_mediation = np.mean([curr[\"Mediation\"]])\n",
    "        curr_raw = np.mean([curr[\"Raw\"]])\n",
    "        curr_delta = np.mean([curr[\"Delta\"]])\n",
    "        curr_theta = np.mean([curr[\"Theta\"]])\n",
    "        curr_alpha1 = np.mean([curr[\"Alpha1\"]])\n",
    "        curr_alpha2 = np.mean([curr[\"Alpha2\"]])\n",
    "        curr_beta1 = np.mean([curr[\"Beta1\"]])\n",
    "        curr_beta2 = np.mean([curr[\"Beta2\"]])\n",
    "        curr_gamma1 = np.mean([curr[\"Gamma1\"]])\n",
    "        curr_gamma2 = np.mean([curr[\"Gamma2\"]])\n",
    "        label = np.mean(curr[\"user-definedlabeln\"])\n",
    "\n",
    "        eeg_arr[counter, :] = [\n",
    "            i,\n",
    "            j,\n",
    "            label,\n",
    "            curr_attention,\n",
    "            curr_mediation,\n",
    "            curr_raw,\n",
    "            curr_delta,\n",
    "            curr_theta,\n",
    "            curr_alpha1,\n",
    "            curr_alpha2,\n",
    "            curr_beta1,\n",
    "            curr_beta2,\n",
    "            curr_gamma1,\n",
    "            curr_gamma2,\n",
    "        ]\n",
    "        # Attention Mediation Raw Delta Theta Alpha1 Alpha2 Beta1 Beta2 Gamma1 Gamma2\n",
    "        counter += 1"
   ]
  },
  {
   "cell_type": "code",
   "execution_count": 46,
   "id": "e698c454-64b0-4de9-a6cc-0ebdd0adeab6",
   "metadata": {},
   "outputs": [],
   "source": [
    "df_new = pd.DataFrame(\n",
    "    eeg_arr,\n",
    "    columns=[\n",
    "        \"SubjectID\",\n",
    "        \"VideoID\",\n",
    "        \"user-definedlabel\",\n",
    "        \"Attention\",\n",
    "        \"Mediation\",\n",
    "        \"Raw\",\n",
    "        \"Delta\",\n",
    "        \"Theta\",\n",
    "        \"Alpha1\",\n",
    "        \"Alpha2\",\n",
    "        \"Beta1\",\n",
    "        \"Beta2\",\n",
    "        \"Gamma1\",\n",
    "        \"Gamma2\",\n",
    "    ],\n",
    ")"
   ]
  },
  {
   "cell_type": "code",
   "execution_count": 47,
   "id": "2fedc725-a3c0-4771-a94f-37fb8429a303",
   "metadata": {},
   "outputs": [
    {
     "data": {
      "text/html": [
       "<div>\n",
       "<style scoped>\n",
       "    .dataframe tbody tr th:only-of-type {\n",
       "        vertical-align: middle;\n",
       "    }\n",
       "\n",
       "    .dataframe tbody tr th {\n",
       "        vertical-align: top;\n",
       "    }\n",
       "\n",
       "    .dataframe thead th {\n",
       "        text-align: right;\n",
       "    }\n",
       "</style>\n",
       "<table border=\"1\" class=\"dataframe\">\n",
       "  <thead>\n",
       "    <tr style=\"text-align: right;\">\n",
       "      <th></th>\n",
       "      <th>SubjectID</th>\n",
       "      <th>VideoID</th>\n",
       "      <th>user-definedlabel</th>\n",
       "      <th>Attention</th>\n",
       "      <th>Mediation</th>\n",
       "      <th>Raw</th>\n",
       "      <th>Delta</th>\n",
       "      <th>Theta</th>\n",
       "      <th>Alpha1</th>\n",
       "      <th>Alpha2</th>\n",
       "      <th>Beta1</th>\n",
       "      <th>Beta2</th>\n",
       "      <th>Gamma1</th>\n",
       "      <th>Gamma2</th>\n",
       "    </tr>\n",
       "  </thead>\n",
       "  <tbody>\n",
       "    <tr>\n",
       "      <th>0</th>\n",
       "      <td>0.0</td>\n",
       "      <td>0.0</td>\n",
       "      <td>0.0</td>\n",
       "      <td>50.940283</td>\n",
       "      <td>52.597166</td>\n",
       "      <td>37.977733</td>\n",
       "      <td>451202.998988</td>\n",
       "      <td>131856.127530</td>\n",
       "      <td>31017.000000</td>\n",
       "      <td>24903.787449</td>\n",
       "      <td>17933.574899</td>\n",
       "      <td>21402.362348</td>\n",
       "      <td>16434.486842</td>\n",
       "      <td>7064.616397</td>\n",
       "    </tr>\n",
       "    <tr>\n",
       "      <th>1</th>\n",
       "      <td>0.0</td>\n",
       "      <td>1.0</td>\n",
       "      <td>0.0</td>\n",
       "      <td>42.586572</td>\n",
       "      <td>40.183746</td>\n",
       "      <td>89.590106</td>\n",
       "      <td>635639.577739</td>\n",
       "      <td>161059.061837</td>\n",
       "      <td>38064.955830</td>\n",
       "      <td>33443.510601</td>\n",
       "      <td>24692.674912</td>\n",
       "      <td>95066.833922</td>\n",
       "      <td>80776.837456</td>\n",
       "      <td>23234.597173</td>\n",
       "    </tr>\n",
       "    <tr>\n",
       "      <th>2</th>\n",
       "      <td>0.0</td>\n",
       "      <td>2.0</td>\n",
       "      <td>0.0</td>\n",
       "      <td>45.012064</td>\n",
       "      <td>45.718499</td>\n",
       "      <td>69.626005</td>\n",
       "      <td>503787.986595</td>\n",
       "      <td>129700.764075</td>\n",
       "      <td>29806.321716</td>\n",
       "      <td>25791.596515</td>\n",
       "      <td>19972.315013</td>\n",
       "      <td>61132.560322</td>\n",
       "      <td>49830.329759</td>\n",
       "      <td>18302.111260</td>\n",
       "    </tr>\n",
       "    <tr>\n",
       "      <th>3</th>\n",
       "      <td>0.0</td>\n",
       "      <td>3.0</td>\n",
       "      <td>0.0</td>\n",
       "      <td>34.901606</td>\n",
       "      <td>40.014056</td>\n",
       "      <td>36.435743</td>\n",
       "      <td>505448.068273</td>\n",
       "      <td>122171.409639</td>\n",
       "      <td>29916.524096</td>\n",
       "      <td>19385.267068</td>\n",
       "      <td>14105.273092</td>\n",
       "      <td>30998.883534</td>\n",
       "      <td>17503.224900</td>\n",
       "      <td>6903.518072</td>\n",
       "    </tr>\n",
       "    <tr>\n",
       "      <th>4</th>\n",
       "      <td>0.0</td>\n",
       "      <td>4.0</td>\n",
       "      <td>0.0</td>\n",
       "      <td>50.960106</td>\n",
       "      <td>54.167553</td>\n",
       "      <td>38.390957</td>\n",
       "      <td>509832.273936</td>\n",
       "      <td>139927.718085</td>\n",
       "      <td>34568.563830</td>\n",
       "      <td>26043.888298</td>\n",
       "      <td>17149.888298</td>\n",
       "      <td>22354.481383</td>\n",
       "      <td>19335.125000</td>\n",
       "      <td>9019.875000</td>\n",
       "    </tr>\n",
       "  </tbody>\n",
       "</table>\n",
       "</div>"
      ],
      "text/plain": [
       "   SubjectID  VideoID  user-definedlabel  Attention  Mediation        Raw   \n",
       "0        0.0      0.0                0.0  50.940283  52.597166  37.977733  \\\n",
       "1        0.0      1.0                0.0  42.586572  40.183746  89.590106   \n",
       "2        0.0      2.0                0.0  45.012064  45.718499  69.626005   \n",
       "3        0.0      3.0                0.0  34.901606  40.014056  36.435743   \n",
       "4        0.0      4.0                0.0  50.960106  54.167553  38.390957   \n",
       "\n",
       "           Delta          Theta        Alpha1        Alpha2         Beta1   \n",
       "0  451202.998988  131856.127530  31017.000000  24903.787449  17933.574899  \\\n",
       "1  635639.577739  161059.061837  38064.955830  33443.510601  24692.674912   \n",
       "2  503787.986595  129700.764075  29806.321716  25791.596515  19972.315013   \n",
       "3  505448.068273  122171.409639  29916.524096  19385.267068  14105.273092   \n",
       "4  509832.273936  139927.718085  34568.563830  26043.888298  17149.888298   \n",
       "\n",
       "          Beta2        Gamma1        Gamma2  \n",
       "0  21402.362348  16434.486842   7064.616397  \n",
       "1  95066.833922  80776.837456  23234.597173  \n",
       "2  61132.560322  49830.329759  18302.111260  \n",
       "3  30998.883534  17503.224900   6903.518072  \n",
       "4  22354.481383  19335.125000   9019.875000  "
      ]
     },
     "execution_count": 47,
     "metadata": {},
     "output_type": "execute_result"
    }
   ],
   "source": [
    "df_new.head()"
   ]
  },
  {
   "cell_type": "code",
   "execution_count": 48,
   "id": "470b01a8-6989-41e8-8de5-608387981bb9",
   "metadata": {},
   "outputs": [],
   "source": [
    "# save to a CSV so you don't have to keep running this each time\n",
    "df_new.to_csv(\"cleaned_data/meanfeatures.csv\")"
   ]
  },
  {
   "cell_type": "markdown",
   "id": "cab55a84-8618-4300-aca1-cc16661463c1",
   "metadata": {},
   "source": [
    "## Standardize variables"
   ]
  },
  {
   "cell_type": "code",
   "execution_count": 49,
   "id": "c5e64ff7",
   "metadata": {},
   "outputs": [],
   "source": [
    "# import sklearn standard scaler\n",
    "from sklearn.preprocessing import StandardScaler\n",
    "\n",
    "# create a scaler object\n",
    "scaler = StandardScaler()\n",
    "\n",
    "# fit and transform the data\n",
    "target = df_new[\"user-definedlabel\"]\n",
    "features = df_new.drop([\"user-definedlabel\"], axis=1)\n",
    "\n",
    "scaled_features = scaler.fit_transform(features)"
   ]
  },
  {
   "cell_type": "code",
   "execution_count": 51,
   "id": "257b1003",
   "metadata": {},
   "outputs": [],
   "source": [
    "features = pd.DataFrame(\n",
    "    scaled_features,\n",
    "    columns=[\n",
    "        \"SubjectID\",\n",
    "        \"VideoID\",\n",
    "        \"Attention\",\n",
    "        \"Mediation\",\n",
    "        \"Raw\",\n",
    "        \"Delta\",\n",
    "        \"Theta\",\n",
    "        \"Alpha1\",\n",
    "        \"Alpha2\",\n",
    "        \"Beta1\",\n",
    "        \"Beta2\",\n",
    "        \"Gamma1\",\n",
    "        \"Gamma2\",\n",
    "    ],\n",
    ")"
   ]
  },
  {
   "cell_type": "code",
   "execution_count": 52,
   "id": "a935fad1",
   "metadata": {},
   "outputs": [],
   "source": [
    "# add back target to features\n",
    "features[\"user-definedlabel\"] = target"
   ]
  },
  {
   "cell_type": "code",
   "execution_count": 53,
   "id": "b1bcf471",
   "metadata": {},
   "outputs": [
    {
     "name": "stderr",
     "output_type": "stream",
     "text": [
      "Bad pipe message: %s [b'k\\xed4\\x88A\\xab\\xd3\\xef\\x8aZ\\x8f\\nI\\xaa\\xb9a$I\\x00\\x00|\\xc0,\\xc00\\x00\\xa3\\x00\\x9f\\xcc\\xa9\\xcc\\xa8\\xcc\\xaa\\xc0\\xaf\\xc0\\xad\\xc0\\xa3\\xc0\\x9f\\xc0]', b\"\\xc0W\\xc0S\\xc0+\\xc0/\\x00\\xa2\\x00\\x9e\\xc0\\xae\\xc0\\xac\\xc0\\xa2\\xc0\\x9e\\xc0\\\\\\xc0`\\xc0V\\xc0R\\xc0$\\xc0(\\x00k\\x00j\\xc0#\\xc0'\\x00g\\x00@\\xc0\\n\\xc0\\x14\\x009\\x008\\xc0\\t\\xc0\\x13\\x003\\x002\\x00\\x9d\\xc0\\xa1\\xc0\\x9d\\xc0Q\\x00\\x9c\\xc0\\xa0\\xc0\\x9c\\xc0P\\x00=\\x00<\\x005\\x00/\\x00\\x9a\\x00\\x99\\xc0\\x07\\xc0\\x11\\x00\\x96\\x00\\x05\\x00\\xff\\x01\\x00\\x00j\\x00\\x00\\x00\\x0e\\x00\\x0c\\x00\\x00\\t127.0.0.1\\x00\\x0b\\x00\\x04\\x03\\x00\\x01\\x02\\x00\\n\\x00\\x0c\\x00\\n\\x00\\x1d\\x00\\x17\\x00\\x1e\\x00\\x19\\x00\\x18\\x00#\\x00\\x00\\x00\\x16\\x00\\x00\\x00\\x17\\x00\\x00\\x00\\r\\x000\\x00.\\x04\\x03\\x05\\x03\\x06\\x03\\x08\\x07\\x08\\x08\\x08\\t\\x08\\n\\x08\\x0b\\x08\\x04\\x08\\x05\\x08\\x06\\x04\\x01\\x05\\x01\\x06\\x01\\x03\", b'\\x03\\x03']\n",
      "Bad pipe message: %s [b'']\n",
      "Bad pipe message: %s [b'', b'\\x02']\n",
      "Bad pipe message: %s [b'\\x05\\x02\\x06']\n",
      "Bad pipe message: %s [b'\\xd3\\xca&\\x8fp\\x14\\x8c\\x0bK/\\xc8\\xc6U\\xc9p\\xcd\\xaa\\xeb\\x00\\x00>\\xc0\\x14\\xc0\\n\\x009\\x008\\x007\\x006\\xc0\\x0f\\xc0\\x05\\x005']\n",
      "Bad pipe message: %s [b'\\xaa\\xffx\\xd1\\x11\\x8d\\xf9\\xe1\\xcf/\\x17\\x8a\\xc5\\xcb\\xdb\\xbe3\\xeb\\x00\\x00>\\xc0\\x14\\xc0\\n\\x009\\x008\\x007\\x006\\xc0\\x0f\\xc0\\x05\\x005\\xc0\\x13\\xc0\\t\\x003\\x002\\x001\\x000\\xc0\\x0e\\xc0\\x04\\x00/\\x00\\x9a\\x00\\x99\\x00\\x98\\x00\\x97\\x00\\x96\\x00\\x07\\xc0\\x11\\xc0\\x07\\xc0\\x0c\\xc0\\x02\\x00\\x05\\x00\\x04\\x00\\xff\\x02\\x01\\x00\\x00C\\x00\\x00\\x00\\x0e\\x00', b'\\x00\\t127.0.0.1']\n",
      "Bad pipe message: %s [b'\\xf0\\x13\\xdc\\xb4$\\xba\\'\\xa6\\x15\\xa6kKR\"D+\\xea+\\x00\\x00\\xa2\\xc0\\x14\\xc0\\n\\x009\\x008\\x007\\x006\\x00\\x88\\x00\\x87\\x00\\x86\\x00\\x85\\xc0\\x19\\x00:\\x00\\x89\\xc0\\x0f\\xc0\\x05\\x005\\x00\\x84\\xc0\\x13\\xc0\\t\\x003\\x002\\x001\\x000\\x00\\x9a\\x00\\x99\\x00', b'\\x97\\x00E\\x00D\\x00C\\x00B\\xc0\\x18\\x004\\x00\\x9b\\x00F\\xc0\\x0e\\xc0\\x04\\x00/\\x00\\x96\\x00A\\x00\\x07\\xc0\\x11\\xc0\\x07\\xc0\\x16\\x00\\x18\\xc0\\x0c\\xc0\\x02\\x00\\x05\\x00\\x04\\xc0\\x12\\xc0\\x08\\x00\\x16\\x00\\x13\\x00\\x10\\x00\\r\\xc0\\x17\\x00\\x1b\\xc0\\r\\xc0\\x03\\x00\\n\\x00\\x15\\x00\\x12\\x00\\x0f\\x00\\x0c\\x00\\x1a\\x00\\t\\x00\\x14\\x00\\x11\\x00\\x19\\x00\\x08\\x00\\x06\\x00\\x17\\x00\\x03\\xc0\\x10\\xc0\\x06\\xc0\\x15\\xc0\\x0b\\xc0\\x01\\x00\\x02\\x00\\x01\\x00\\xff\\x02\\x01\\x00\\x00C\\x00\\x00\\x00\\x0e\\x00\\x0c\\x00\\x00\\t127.0.0.1\\x00\\x0b\\x00\\x04\\x03\\x00\\x01\\x02\\x00\\n\\x00\\x1c\\x00\\x1a\\x00\\x17\\x00\\x19\\x00']\n",
      "Bad pipe message: %s [b'\\x1b\\x00\\x18\\x00\\x1a\\x00\\x16\\x00\\x0e\\x00\\r\\x00\\x0b\\x00\\x0c\\x00\\t\\x00\\n\\x00#\\x00\\x00\\x00\\x0f\\x00\\x01']\n",
      "Bad pipe message: %s [b'\\xd8,x\\xa6\\x10\\xab1\\xe21p\\n\\x104P\\x9e\\xb0\\xba\\xb9\\x00\\x00>\\xc0\\x14\\xc0\\n\\x009\\x008\\x007\\x006\\xc0\\x0f\\xc0\\x05\\x005\\xc0\\x13\\xc0\\t\\x003\\x002\\x001\\x000\\xc0\\x0e\\xc0\\x04\\x00/\\x00\\x9a\\x00\\x99\\x00\\x98\\x00\\x97\\x00\\x96\\x00\\x07\\xc0\\x11\\xc0\\x07\\xc0\\x0c\\xc0\\x02\\x00\\x05\\x00\\x04\\x00\\xff\\x02\\x01\\x00\\x15\\x03\\x00\\x00\\x02']\n",
      "Bad pipe message: %s [b'!,aQ+\\xeat`\\xf4@\\xa8D\\xdaV\\xf4\\xf5\\xb8G\\x00\\x00\\xa2\\xc0\\x14\\xc0\\n\\x009\\x008\\x007\\x006\\x00\\x88\\x00\\x87\\x00\\x86\\x00\\x85\\xc0\\x19\\x00:\\x00\\x89\\xc0\\x0f\\xc0\\x05\\x005\\x00\\x84\\xc0\\x13\\xc0\\t\\x003\\x002\\x001\\x000\\x00\\x9a\\x00\\x99\\x00\\x98\\x00\\x97\\x00E\\x00D\\x00C\\x00B\\xc0\\x18\\x004\\x00\\x9b\\x00F\\xc0\\x0e\\xc0\\x04\\x00/\\x00\\x96\\x00A\\x00\\x07\\xc0\\x11\\xc0\\x07\\xc0\\x16\\x00\\x18\\xc0\\x0c\\xc0\\x02\\x00\\x05\\x00\\x04\\xc0\\x12\\xc0\\x08\\x00\\x16\\x00\\x13\\x00\\x10\\x00\\r\\xc0\\x17\\x00', b'\\r\\xc0\\x03\\x00\\n\\x00\\x15\\x00\\x12\\x00\\x0f\\x00\\x0c\\x00\\x1a\\x00\\t\\x00\\x14\\x00\\x11\\x00\\x19\\x00\\x08\\x00']\n",
      "Bad pipe message: %s [b'\\x17\\x00\\x03\\xc0\\x10']\n",
      "Bad pipe message: %s [b'3\\xfaf\"']\n",
      "Bad pipe message: %s [b'\\x97\\x8e\\xb5\\xad%\\xffQ\\x03\"\\xea\\xa6\\xe7\\x00\\x00\\x86\\xc00\\xc0,\\xc0(\\xc0$\\xc0\\x14\\xc0\\n\\x00\\xa5\\x00\\xa3\\x00\\xa1\\x00\\x9f\\x00k\\x00j\\x00i\\x00h\\x009\\x008\\x007\\x006\\xc02\\xc0.\\xc0*\\xc0&\\xc0\\x0f\\xc0\\x05\\x00\\x9d\\x00=\\x005\\xc0/\\xc0+\\xc0\\'\\xc0#']\n",
      "Bad pipe message: %s [b'\\xf7d\\x0e/`w2\\x8dr\\x1d\\x1a\\x89\\xcfdB_^\\x10\\x00\\x00\\xf4\\xc00\\xc0,\\xc0(\\xc0$\\xc0\\x14\\xc0\\n\\x00\\xa5\\x00\\xa3\\x00\\xa1\\x00\\x9f\\x00k\\x00j\\x00i\\x00h\\x009\\x008\\x007\\x006\\x00\\x88\\x00\\x87\\x00\\x86\\x00\\x85\\xc0\\x19\\x00\\xa7\\x00m\\x00:\\x00\\x89\\xc02']\n",
      "Bad pipe message: %s [b\"\\xc0*\\xc0&\\xc0\\x0f\\xc0\\x05\\x00\\x9d\\x00=\\x005\\x00\\x84\\xc0/\\xc0+\\xc0'\\xc0#\\xc0\\x13\\xc0\\t\\x00\\xa4\\x00\\xa2\\x00\\xa0\\x00\\x9e\\x00g\\x00@\\x00?\\x00>\\x003\\x002\\x001\\x000\\x00\\x9a\\x00\\x99\\x00\\x98\\x00\\x97\\x00E\\x00D\\x00C\\x00B\\xc0\\x18\\x00\\xa6\\x00l\\x004\\x00\\x9b\\x00F\\xc01\\xc0-\\xc0)\\xc0%\\xc0\\x0e\\xc0\\x04\\x00\\x9c\\x00<\\x00/\\x00\\x96\\x00A\\x00\\x07\\xc0\\x11\\xc0\\x07\\xc0\\x16\\x00\\x18\\xc0\\x0c\\xc0\\x02\\x00\\x05\\x00\\x04\\xc0\\x12\\xc0\\x08\\x00\\x16\\x00\\x13\\x00\\x10\\x00\\r\\xc0\\x17\\x00\\x1b\\xc0\\r\\xc0\\x03\\x00\\n\\x00\\x15\\x00\\x12\\x00\\x0f\\x00\\x0c\\x00\\x1a\\x00\\t\\x00\\x14\\x00\\x11\\x00\\x19\\x00\\x08\\x00\\x06\\x00\\x17\\x00\\x03\\xc0\\x10\\xc0\\x06\\xc0\\x15\\xc0\\x0b\\xc0\\x01\\x00;\\x00\\x02\\x00\\x01\\x00\\xff\\x02\\x01\\x00\\x00g\"]\n"
     ]
    }
   ],
   "source": [
    "# export\n",
    "features.to_csv(\"cleaned_data/meanfeatures_scaled.csv\")"
   ]
  }
 ],
 "metadata": {
  "kernelspec": {
   "display_name": "Python 3 (ipykernel)",
   "language": "python",
   "name": "python3"
  },
  "language_info": {
   "codemirror_mode": {
    "name": "ipython",
    "version": 3
   },
   "file_extension": ".py",
   "mimetype": "text/x-python",
   "name": "python",
   "nbconvert_exporter": "python",
   "pygments_lexer": "ipython3",
   "version": "3.10.4"
  }
 },
 "nbformat": 4,
 "nbformat_minor": 5
}
