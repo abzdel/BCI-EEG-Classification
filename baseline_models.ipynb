{
 "cells": [
  {
   "cell_type": "markdown",
   "metadata": {},
   "source": [
    "## Data Imports, Preprocessing"
   ]
  },
  {
   "cell_type": "code",
   "execution_count": 13,
   "metadata": {},
   "outputs": [],
   "source": [
    "from sklearn.linear_model import LogisticRegression\n",
    "from sklearn.model_selection import GridSearchCV\n",
    "import pandas as pd\n",
    "import numpy as np\n",
    "from sklearn.model_selection import train_test_split\n",
    "from sklearn.pipeline import Pipeline\n",
    "from sklearn.linear_model import BayesianRidge\n",
    "from sklearn.feature_selection import SelectFromModel\n",
    "from sklearn.kernel_approximation import RBFSampler\n",
    "from sklearn.ensemble import RandomForestClassifier\n",
    "from sklearn.metrics import accuracy_score\n",
    "from sklearn.model_selection import KFold"
   ]
  },
  {
   "cell_type": "code",
   "execution_count": 14,
   "metadata": {},
   "outputs": [
    {
     "data": {
      "text/html": [
       "<div>\n",
       "<style scoped>\n",
       "    .dataframe tbody tr th:only-of-type {\n",
       "        vertical-align: middle;\n",
       "    }\n",
       "\n",
       "    .dataframe tbody tr th {\n",
       "        vertical-align: top;\n",
       "    }\n",
       "\n",
       "    .dataframe thead th {\n",
       "        text-align: right;\n",
       "    }\n",
       "</style>\n",
       "<table border=\"1\" class=\"dataframe\">\n",
       "  <thead>\n",
       "    <tr style=\"text-align: right;\">\n",
       "      <th></th>\n",
       "      <th>SubjectID</th>\n",
       "      <th>VideoID</th>\n",
       "      <th>user-definedlabel</th>\n",
       "      <th>Attention</th>\n",
       "      <th>Mediation</th>\n",
       "      <th>Raw</th>\n",
       "      <th>Delta</th>\n",
       "      <th>Theta</th>\n",
       "      <th>Alpha1</th>\n",
       "      <th>Alpha2</th>\n",
       "      <th>Beta1</th>\n",
       "      <th>Beta2</th>\n",
       "      <th>Gamma1</th>\n",
       "      <th>Gamma2</th>\n",
       "    </tr>\n",
       "  </thead>\n",
       "  <tbody>\n",
       "    <tr>\n",
       "      <th>0</th>\n",
       "      <td>0.0</td>\n",
       "      <td>0.0</td>\n",
       "      <td>0.0</td>\n",
       "      <td>55.256944</td>\n",
       "      <td>53.826389</td>\n",
       "      <td>46.986111</td>\n",
       "      <td>544315.097222</td>\n",
       "      <td>124965.590278</td>\n",
       "      <td>36693.701389</td>\n",
       "      <td>25875.298611</td>\n",
       "      <td>20108.791667</td>\n",
       "      <td>40268.763889</td>\n",
       "      <td>40729.284722</td>\n",
       "      <td>16817.062500</td>\n",
       "    </tr>\n",
       "    <tr>\n",
       "      <th>1</th>\n",
       "      <td>0.0</td>\n",
       "      <td>1.0</td>\n",
       "      <td>1.0</td>\n",
       "      <td>43.621429</td>\n",
       "      <td>48.621429</td>\n",
       "      <td>28.800000</td>\n",
       "      <td>739737.292857</td>\n",
       "      <td>161064.228571</td>\n",
       "      <td>34918.028571</td>\n",
       "      <td>25078.935714</td>\n",
       "      <td>22157.307143</td>\n",
       "      <td>37410.728571</td>\n",
       "      <td>36758.700000</td>\n",
       "      <td>14519.407143</td>\n",
       "    </tr>\n",
       "    <tr>\n",
       "      <th>2</th>\n",
       "      <td>0.0</td>\n",
       "      <td>2.0</td>\n",
       "      <td>1.0</td>\n",
       "      <td>43.978873</td>\n",
       "      <td>47.316901</td>\n",
       "      <td>13.154930</td>\n",
       "      <td>694078.084507</td>\n",
       "      <td>149816.873239</td>\n",
       "      <td>30493.873239</td>\n",
       "      <td>21667.591549</td>\n",
       "      <td>21888.338028</td>\n",
       "      <td>36446.436620</td>\n",
       "      <td>33908.873239</td>\n",
       "      <td>14545.845070</td>\n",
       "    </tr>\n",
       "    <tr>\n",
       "      <th>3</th>\n",
       "      <td>0.0</td>\n",
       "      <td>3.0</td>\n",
       "      <td>0.0</td>\n",
       "      <td>51.057377</td>\n",
       "      <td>51.844262</td>\n",
       "      <td>34.713115</td>\n",
       "      <td>600823.688525</td>\n",
       "      <td>162653.360656</td>\n",
       "      <td>33367.278689</td>\n",
       "      <td>26281.500000</td>\n",
       "      <td>17224.278689</td>\n",
       "      <td>43706.524590</td>\n",
       "      <td>41438.213115</td>\n",
       "      <td>16558.631148</td>\n",
       "    </tr>\n",
       "    <tr>\n",
       "      <th>4</th>\n",
       "      <td>0.0</td>\n",
       "      <td>4.0</td>\n",
       "      <td>0.0</td>\n",
       "      <td>55.224138</td>\n",
       "      <td>47.474138</td>\n",
       "      <td>30.008621</td>\n",
       "      <td>546628.017241</td>\n",
       "      <td>126893.948276</td>\n",
       "      <td>23113.844828</td>\n",
       "      <td>17017.051724</td>\n",
       "      <td>15955.879310</td>\n",
       "      <td>36427.836207</td>\n",
       "      <td>36024.818966</td>\n",
       "      <td>14752.655172</td>\n",
       "    </tr>\n",
       "  </tbody>\n",
       "</table>\n",
       "</div>"
      ],
      "text/plain": [
       "   SubjectID  VideoID  user-definedlabel  Attention  Mediation        Raw   \n",
       "0        0.0      0.0                0.0  55.256944  53.826389  46.986111  \\\n",
       "1        0.0      1.0                1.0  43.621429  48.621429  28.800000   \n",
       "2        0.0      2.0                1.0  43.978873  47.316901  13.154930   \n",
       "3        0.0      3.0                0.0  51.057377  51.844262  34.713115   \n",
       "4        0.0      4.0                0.0  55.224138  47.474138  30.008621   \n",
       "\n",
       "           Delta          Theta        Alpha1        Alpha2         Beta1   \n",
       "0  544315.097222  124965.590278  36693.701389  25875.298611  20108.791667  \\\n",
       "1  739737.292857  161064.228571  34918.028571  25078.935714  22157.307143   \n",
       "2  694078.084507  149816.873239  30493.873239  21667.591549  21888.338028   \n",
       "3  600823.688525  162653.360656  33367.278689  26281.500000  17224.278689   \n",
       "4  546628.017241  126893.948276  23113.844828  17017.051724  15955.879310   \n",
       "\n",
       "          Beta2        Gamma1        Gamma2  \n",
       "0  40268.763889  40729.284722  16817.062500  \n",
       "1  37410.728571  36758.700000  14519.407143  \n",
       "2  36446.436620  33908.873239  14545.845070  \n",
       "3  43706.524590  41438.213115  16558.631148  \n",
       "4  36427.836207  36024.818966  14752.655172  "
      ]
     },
     "execution_count": 14,
     "metadata": {},
     "output_type": "execute_result"
    }
   ],
   "source": [
    "filename = 'meanfeatures.csv'\n",
    "\n",
    "df = pd.read_csv(f'cleaned_data/{filename}', index_col=0)\n",
    "\n",
    "\n",
    "df.head()"
   ]
  },
  {
   "cell_type": "markdown",
   "metadata": {},
   "source": [
    "## Baseline Logistic Regression\n",
    "\n",
    "No feature selection, hyperparameter tuning, or cross validation"
   ]
  },
  {
   "cell_type": "code",
   "execution_count": 15,
   "metadata": {},
   "outputs": [],
   "source": [
    "target = \"user-definedlabel\"\n",
    "\n",
    "# set up x and y, train test split\n",
    "X = df.drop([\"SubjectID\", \"VideoID\", \"user-definedlabel\"], axis=1)\n",
    "\n",
    "# standardize X\n",
    "X = (X - X.mean()) / X.std()\n",
    "\n",
    "y = df[target]\n",
    "X_train, X_test, y_train, y_test = train_test_split(X, y, test_size=0.2)"
   ]
  },
  {
   "cell_type": "code",
   "execution_count": 16,
   "metadata": {},
   "outputs": [
    {
     "name": "stdout",
     "output_type": "stream",
     "text": [
      "accuracy for baseline logistic regression: 0.65\n"
     ]
    }
   ],
   "source": [
    "log_reg = LogisticRegression()\n",
    "\n",
    "log_reg.fit(X_train, y_train)\n",
    "\n",
    "y_pred = log_reg.predict(X_test)\n",
    "\n",
    "print(f\"accuracy for baseline logistic regression: {accuracy_score(y_test, y_pred)}\")"
   ]
  },
  {
   "cell_type": "code",
   "execution_count": 17,
   "metadata": {},
   "outputs": [],
   "source": [
    "## Splitting data into separate dataframes for each subject\n",
    "\n",
    "subjects = df[\"SubjectID\"].unique()\n",
    "\n",
    "subject_dfs = []\n",
    "\n",
    "for subject in subjects:\n",
    "    subject_dfs.append(df[df[\"SubjectID\"] == subject])"
   ]
  },
  {
   "cell_type": "code",
   "execution_count": 18,
   "metadata": {},
   "outputs": [
    {
     "name": "stdout",
     "output_type": "stream",
     "text": [
      "accuracy for baseline logistic regression for subject 0.0: 0.5\n",
      "accuracy for baseline logistic regression for subject 1.0: 0.5\n",
      "accuracy for baseline logistic regression for subject 2.0: 0.5\n",
      "accuracy for baseline logistic regression for subject 3.0: 0.0\n",
      "accuracy for baseline logistic regression for subject 4.0: 0.5\n",
      "accuracy for baseline logistic regression for subject 5.0: 0.0\n",
      "accuracy for baseline logistic regression for subject 6.0: 0.5\n",
      "accuracy for baseline logistic regression for subject 7.0: 0.5\n",
      "accuracy for baseline logistic regression for subject 8.0: 0.5\n",
      "accuracy for baseline logistic regression for subject 9.0: 0.5\n"
     ]
    }
   ],
   "source": [
    "# run model for each subject dataframe\n",
    "\n",
    "for df in subject_dfs:\n",
    "\n",
    "    # running existing model - unsure if we need train test split again\n",
    "    X = df.drop([\"SubjectID\", \"VideoID\", \"user-definedlabel\"], axis=1)\n",
    "    y = df[target]\n",
    "    \n",
    "    X_train, X_test, y_train, y_test = train_test_split(X, y, test_size=0.2)\n",
    "\n",
    "    y_pred = log_reg.predict(X_test)\n",
    "    print(f\"accuracy for baseline logistic regression for subject {df['SubjectID'].iloc[0]}: {accuracy_score(y_test, y_pred)}\")"
   ]
  },
  {
   "cell_type": "code",
   "execution_count": null,
   "metadata": {},
   "outputs": [],
   "source": []
  }
 ],
 "metadata": {
  "kernelspec": {
   "display_name": "Python 3",
   "language": "python",
   "name": "python3"
  },
  "language_info": {
   "codemirror_mode": {
    "name": "ipython",
    "version": 3
   },
   "file_extension": ".py",
   "mimetype": "text/x-python",
   "name": "python",
   "nbconvert_exporter": "python",
   "pygments_lexer": "ipython3",
   "version": "3.10.4"
  },
  "orig_nbformat": 4
 },
 "nbformat": 4,
 "nbformat_minor": 2
}
