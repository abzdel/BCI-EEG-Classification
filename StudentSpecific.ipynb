{
 "cells": [
  {
   "cell_type": "markdown",
   "id": "208b8e8d-dc41-4043-b257-de68c4f9a3f6",
   "metadata": {},
   "source": [
    "# Training/Testing on a single patient for each fold:"
   ]
  },
  {
   "cell_type": "code",
   "execution_count": 1,
   "id": "24fc3eea-e7fa-41c7-95f3-7852ac01eee6",
   "metadata": {},
   "outputs": [],
   "source": [
    "# import toolboxes \n",
    "# import the toolboxes \n",
    "import numpy as np \n",
    "import pandas as pd\n",
    "import os\n",
    "from sklearn.neighbors import KNeighborsClassifier\n",
    "from sklearn.svm import LinearSVC\n",
    "from sklearn.naive_bayes import GaussianNB\n",
    "from sklearn.model_selection import GridSearchCV\n",
    "from sklearn.model_selection import train_test_split\n",
    "from sklearn.metrics import accuracy_score\n",
    "from sklearn.model_selection import KFold\n",
    "from tqdm import tqdm\n",
    "from sklearn.linear_model import BayesianRidge\n",
    "from sklearn.feature_selection import SelectFromModel\n",
    "from sklearn.kernel_approximation import RBFSampler\n",
    "from sklearn.ensemble import RandomForestClassifier\n",
    "from sklearn.linear_model import LogisticRegression\n",
    "from sklearn.tree import DecisionTreeClassifier\n"
   ]
  },
  {
   "cell_type": "code",
   "execution_count": 2,
   "id": "b76eac32-0978-4a43-9a87-7cee6f2f0e0b",
   "metadata": {},
   "outputs": [],
   "source": [
    "from warnings import simplefilter\n",
    "from sklearn.exceptions import ConvergenceWarning\n",
    "simplefilter(\"ignore\", category=ConvergenceWarning)"
   ]
  },
  {
   "cell_type": "code",
   "execution_count": 3,
   "id": "631d7e86-54ab-430f-ad1a-38798d56d54f",
   "metadata": {},
   "outputs": [],
   "source": [
    "directory = '/Users/amandabreton/Documents/Duke 2022-2023/ECE 590/Final Project/'\n",
    "filename = 'meanfeatures.csv'\n",
    "\n",
    "df = pd.read_csv(directory+filename, index_col=0)"
   ]
  },
  {
   "cell_type": "code",
   "execution_count": 4,
   "id": "1c2bd122-4762-45de-b934-b13447eee172",
   "metadata": {},
   "outputs": [
    {
     "data": {
      "text/html": [
       "<div>\n",
       "<style scoped>\n",
       "    .dataframe tbody tr th:only-of-type {\n",
       "        vertical-align: middle;\n",
       "    }\n",
       "\n",
       "    .dataframe tbody tr th {\n",
       "        vertical-align: top;\n",
       "    }\n",
       "\n",
       "    .dataframe thead th {\n",
       "        text-align: right;\n",
       "    }\n",
       "</style>\n",
       "<table border=\"1\" class=\"dataframe\">\n",
       "  <thead>\n",
       "    <tr style=\"text-align: right;\">\n",
       "      <th></th>\n",
       "      <th>SubjectID</th>\n",
       "      <th>VideoID</th>\n",
       "      <th>predefinedlabel</th>\n",
       "      <th>user-definedlabel</th>\n",
       "      <th>Attention</th>\n",
       "      <th>Mediation</th>\n",
       "      <th>Raw</th>\n",
       "      <th>Delta</th>\n",
       "      <th>Theta</th>\n",
       "      <th>Alpha1</th>\n",
       "      <th>Alpha2</th>\n",
       "      <th>Beta1</th>\n",
       "      <th>Beta2</th>\n",
       "      <th>Gamma1</th>\n",
       "      <th>Gamma2</th>\n",
       "    </tr>\n",
       "  </thead>\n",
       "  <tbody>\n",
       "    <tr>\n",
       "      <th>0</th>\n",
       "      <td>0.0</td>\n",
       "      <td>0.0</td>\n",
       "      <td>0.0</td>\n",
       "      <td>0.0</td>\n",
       "      <td>55.256944</td>\n",
       "      <td>53.826389</td>\n",
       "      <td>46.986111</td>\n",
       "      <td>544315.097222</td>\n",
       "      <td>124965.590278</td>\n",
       "      <td>36693.701389</td>\n",
       "      <td>25875.298611</td>\n",
       "      <td>20108.791667</td>\n",
       "      <td>40268.763889</td>\n",
       "      <td>40729.284722</td>\n",
       "      <td>16817.062500</td>\n",
       "    </tr>\n",
       "    <tr>\n",
       "      <th>1</th>\n",
       "      <td>0.0</td>\n",
       "      <td>1.0</td>\n",
       "      <td>0.0</td>\n",
       "      <td>1.0</td>\n",
       "      <td>43.621429</td>\n",
       "      <td>48.621429</td>\n",
       "      <td>28.800000</td>\n",
       "      <td>739737.292857</td>\n",
       "      <td>161064.228571</td>\n",
       "      <td>34918.028571</td>\n",
       "      <td>25078.935714</td>\n",
       "      <td>22157.307143</td>\n",
       "      <td>37410.728571</td>\n",
       "      <td>36758.700000</td>\n",
       "      <td>14519.407143</td>\n",
       "    </tr>\n",
       "    <tr>\n",
       "      <th>2</th>\n",
       "      <td>0.0</td>\n",
       "      <td>2.0</td>\n",
       "      <td>0.0</td>\n",
       "      <td>1.0</td>\n",
       "      <td>43.978873</td>\n",
       "      <td>47.316901</td>\n",
       "      <td>13.154930</td>\n",
       "      <td>694078.084507</td>\n",
       "      <td>149816.873239</td>\n",
       "      <td>30493.873239</td>\n",
       "      <td>21667.591549</td>\n",
       "      <td>21888.338028</td>\n",
       "      <td>36446.436620</td>\n",
       "      <td>33908.873239</td>\n",
       "      <td>14545.845070</td>\n",
       "    </tr>\n",
       "    <tr>\n",
       "      <th>3</th>\n",
       "      <td>0.0</td>\n",
       "      <td>3.0</td>\n",
       "      <td>0.0</td>\n",
       "      <td>0.0</td>\n",
       "      <td>51.057377</td>\n",
       "      <td>51.844262</td>\n",
       "      <td>34.713115</td>\n",
       "      <td>600823.688525</td>\n",
       "      <td>162653.360656</td>\n",
       "      <td>33367.278689</td>\n",
       "      <td>26281.500000</td>\n",
       "      <td>17224.278689</td>\n",
       "      <td>43706.524590</td>\n",
       "      <td>41438.213115</td>\n",
       "      <td>16558.631148</td>\n",
       "    </tr>\n",
       "    <tr>\n",
       "      <th>4</th>\n",
       "      <td>0.0</td>\n",
       "      <td>4.0</td>\n",
       "      <td>0.0</td>\n",
       "      <td>0.0</td>\n",
       "      <td>55.224138</td>\n",
       "      <td>47.474138</td>\n",
       "      <td>30.008621</td>\n",
       "      <td>546628.017241</td>\n",
       "      <td>126893.948276</td>\n",
       "      <td>23113.844828</td>\n",
       "      <td>17017.051724</td>\n",
       "      <td>15955.879310</td>\n",
       "      <td>36427.836207</td>\n",
       "      <td>36024.818966</td>\n",
       "      <td>14752.655172</td>\n",
       "    </tr>\n",
       "  </tbody>\n",
       "</table>\n",
       "</div>"
      ],
      "text/plain": [
       "   SubjectID  VideoID  predefinedlabel  user-definedlabel  Attention  \\\n",
       "0        0.0      0.0              0.0                0.0  55.256944   \n",
       "1        0.0      1.0              0.0                1.0  43.621429   \n",
       "2        0.0      2.0              0.0                1.0  43.978873   \n",
       "3        0.0      3.0              0.0                0.0  51.057377   \n",
       "4        0.0      4.0              0.0                0.0  55.224138   \n",
       "\n",
       "   Mediation        Raw          Delta          Theta        Alpha1  \\\n",
       "0  53.826389  46.986111  544315.097222  124965.590278  36693.701389   \n",
       "1  48.621429  28.800000  739737.292857  161064.228571  34918.028571   \n",
       "2  47.316901  13.154930  694078.084507  149816.873239  30493.873239   \n",
       "3  51.844262  34.713115  600823.688525  162653.360656  33367.278689   \n",
       "4  47.474138  30.008621  546628.017241  126893.948276  23113.844828   \n",
       "\n",
       "         Alpha2         Beta1         Beta2        Gamma1        Gamma2  \n",
       "0  25875.298611  20108.791667  40268.763889  40729.284722  16817.062500  \n",
       "1  25078.935714  22157.307143  37410.728571  36758.700000  14519.407143  \n",
       "2  21667.591549  21888.338028  36446.436620  33908.873239  14545.845070  \n",
       "3  26281.500000  17224.278689  43706.524590  41438.213115  16558.631148  \n",
       "4  17017.051724  15955.879310  36427.836207  36024.818966  14752.655172  "
      ]
     },
     "execution_count": 4,
     "metadata": {},
     "output_type": "execute_result"
    }
   ],
   "source": [
    "df.head()"
   ]
  },
  {
   "cell_type": "code",
   "execution_count": 5,
   "id": "bfb8a7b7-6393-4e41-b207-1adbf8a23c39",
   "metadata": {},
   "outputs": [
    {
     "data": {
      "text/plain": [
       "0.0    10\n",
       "1.0    10\n",
       "2.0    10\n",
       "3.0    10\n",
       "4.0    10\n",
       "5.0    10\n",
       "6.0    10\n",
       "7.0    10\n",
       "8.0    10\n",
       "9.0    10\n",
       "Name: SubjectID, dtype: int64"
      ]
     },
     "execution_count": 5,
     "metadata": {},
     "output_type": "execute_result"
    }
   ],
   "source": [
    "df[\"SubjectID\"].value_counts()"
   ]
  },
  {
   "cell_type": "code",
   "execution_count": null,
   "id": "8302249a-f431-485e-8514-292fd4f47d0e",
   "metadata": {},
   "outputs": [],
   "source": []
  },
  {
   "cell_type": "code",
   "execution_count": 16,
   "id": "4df59267-7da8-4918-8420-96576ad60c74",
   "metadata": {},
   "outputs": [],
   "source": [
    "def pick_model(model_type, C=1,verb=False):\n",
    "    if model_type == 'logreg':\n",
    "        clf = LogisticRegression()\n",
    "        param_grid = {\"C\": [0.1, 1, 10, 100], \"penalty\": [\"l1\", \"l2\"], \"solver\": [\"liblinear\"]}\n",
    "    elif model_type == 'rvm':\n",
    "        clf = BayesianRidge(compute_score=True)\n",
    "        param_grid = {\"alpha_1\": [1e-6, 1e-5, 1e-4, 1e-3], \"alpha_2\": [1e-6, 1e-5, 1e-4, 1e-3], \n",
    "                      \"lambda_1\": [1e-6, 1e-5, 1e-4, 1e-3], \"lambda_2\": [1e-6, 1e-5, 1e-4, 1e-3]}\n",
    "    elif model_type == 'knn':\n",
    "        clf = KNeighborsClassifier(n_neighbors=5)\n",
    "        Ns = [1,2,3,4]\n",
    "        param_grid = {\"n_neighbors\": Ns}\n",
    "    elif model_type == 'svm':\n",
    "        clf = LinearSVC(C=C,verbose=verb, max_iter=10000)\n",
    "        Cs = np.logspace(-11,6,18)\n",
    "        param_grid = {\"C\": Cs, \"penalty\": [\"l2\"], \"loss\": ['hinge', 'squared_hinge']} \n",
    "    elif model_type == 'random forest': \n",
    "        clf = RandomForestClassifier()\n",
    "        param_grid = {\"n_estimators\": [10, 50, 100, 200, 500, 1000], \"max_depth\": \n",
    "                      [None, 5, 10, 20, 50, 100]}\n",
    "    elif model_type == 'decision tree': \n",
    "        clf = DecisionTreeClassifier()\n",
    "        param_grid = {'criterion': ['gini', 'entropy', 'log_loss'], 'splitter': ['best', 'random']}\n",
    "    else: #model_type = naivebayes\n",
    "        clf = GaussianNB()\n",
    "        param_grid = {}\n",
    "    return clf, param_grid"
   ]
  },
  {
   "cell_type": "code",
   "execution_count": 7,
   "id": "2627fcbc-e566-4463-bfc2-6bf42913d6d4",
   "metadata": {},
   "outputs": [],
   "source": [
    "def studentspecificCV(df,verb=False, model_type = 'svm', target = 'user-definedlabel'):\n",
    "    # training on half the videos testing on the other half in a single student\n",
    "    accs = np.zeros(50)\n",
    "    counter = 0\n",
    "    for i in range(10): \n",
    "        curr_student = df.loc[df['SubjectID'] == i]\n",
    "        X = curr_student.drop(['SubjectID', 'VideoID', 'user-definedlabel', 'predefinedlabel'], axis=1)\n",
    "        y = curr_student[[target]]\n",
    "        y = y[target].values\n",
    "        num_splits = KFold(n_splits=5,shuffle = True)\n",
    "        for train_index, test_index in tqdm(num_splits.split(X)): # to actually split into training/testing\n",
    "            \n",
    "            #X.iloc[0].values\n",
    "            X_train, X_test = X.iloc[train_index].values, X.iloc[test_index].values\n",
    "            y_train, y_test = y[train_index], y[test_index]\n",
    "    \n",
    "            # Create an instance of the  model\n",
    "            model, param_grid = pick_model(model_type)\n",
    "            # Create an instance of the GridSearchCV object\n",
    "            grid_search = GridSearchCV(model, param_grid, cv=2, scoring=\"accuracy\")\n",
    "            # Fit the GridSearchCV object to the data\n",
    "            grid_search.fit(X_train, y_train)\n",
    "            # Print the best hyperparameters and their accuracy score\n",
    "            #print(\"Training: Best Hyperparameters:\", grid_search.best_params_)\n",
    "            #print(\"Training: Best Accuracy Score:\", grid_search.best_score_)\n",
    "            best_est = grid_search.best_estimator_\n",
    "            best_est.fit(X_train, y_train)\n",
    "            y_pred = best_est.predict(X_test)\n",
    "            acc = accuracy_score(y_test, y_pred)\n",
    "            accs[counter] = acc\n",
    "            #print('Test accuracy for target:', target, acc)\n",
    "            counter += 1 \n",
    "    print('Average Test Accuracy: ', np.mean(accs))"
   ]
  },
  {
   "cell_type": "markdown",
   "id": "84abe55d-1e7a-4a4e-9362-1468ce94c0b3",
   "metadata": {},
   "source": [
    "# Log reg "
   ]
  },
  {
   "cell_type": "code",
   "execution_count": 8,
   "id": "12a97036-189d-47f4-b176-32469f7997ad",
   "metadata": {},
   "outputs": [
    {
     "name": "stderr",
     "output_type": "stream",
     "text": [
      "5it [00:00, 22.74it/s]\n",
      "5it [00:00, 27.08it/s]\n",
      "5it [00:00, 27.51it/s]\n",
      "5it [00:00, 27.12it/s]\n",
      "5it [00:00, 28.11it/s]\n",
      "5it [00:00, 20.97it/s]\n",
      "5it [00:00, 31.33it/s]\n",
      "5it [00:00, 23.28it/s]\n",
      "5it [00:00, 27.05it/s]\n",
      "5it [00:00, 31.88it/s]"
     ]
    },
    {
     "name": "stdout",
     "output_type": "stream",
     "text": [
      "Average Test Accuracy:  0.46\n"
     ]
    },
    {
     "name": "stderr",
     "output_type": "stream",
     "text": [
      "\n"
     ]
    }
   ],
   "source": [
    "studentspecificCV(df,verb=False, model_type = 'logreg', target = 'predefinedlabel')"
   ]
  },
  {
   "cell_type": "code",
   "execution_count": 9,
   "id": "60d0e6c9-dbcf-4a1b-94a7-097197b19703",
   "metadata": {},
   "outputs": [
    {
     "name": "stderr",
     "output_type": "stream",
     "text": [
      "5it [00:00, 27.12it/s]\n",
      "5it [00:00, 27.80it/s]\n",
      "5it [00:00, 31.61it/s]\n",
      "5it [00:00, 28.51it/s]\n",
      "5it [00:00, 29.91it/s]\n",
      "5it [00:00, 29.96it/s]\n",
      "5it [00:00, 21.69it/s]\n",
      "5it [00:00, 27.18it/s]\n",
      "5it [00:00, 30.71it/s]\n",
      "5it [00:00, 29.12it/s]"
     ]
    },
    {
     "name": "stdout",
     "output_type": "stream",
     "text": [
      "Average Test Accuracy:  0.65\n"
     ]
    },
    {
     "name": "stderr",
     "output_type": "stream",
     "text": [
      "\n"
     ]
    }
   ],
   "source": [
    "studentspecificCV(df,verb=False, model_type = 'logreg', target = 'user-definedlabel')"
   ]
  },
  {
   "cell_type": "markdown",
   "id": "d8853c4a-3d71-455e-8814-a1a23005488b",
   "metadata": {},
   "source": [
    "# RVM "
   ]
  },
  {
   "cell_type": "code",
   "execution_count": 11,
   "id": "b0179f48-9413-4b14-a73e-6702dd6dd55a",
   "metadata": {},
   "outputs": [],
   "source": [
    "#studentspecificCV(df,verb=False, model_type = 'rvm', target = 'user-definedlabel')"
   ]
  },
  {
   "cell_type": "code",
   "execution_count": 12,
   "id": "d89d8891-b8d2-4123-bc32-7768a9815ea5",
   "metadata": {},
   "outputs": [],
   "source": [
    "#studentspecificCV(df,verb=False, model_type = 'rvm', target = 'predefinedlabel')"
   ]
  },
  {
   "cell_type": "markdown",
   "id": "059b617a-8b64-4dfd-8f0c-b0b8661d5077",
   "metadata": {},
   "source": [
    "# SVM "
   ]
  },
  {
   "cell_type": "code",
   "execution_count": 13,
   "id": "db01421f-a85d-482f-8493-513a8221cd9d",
   "metadata": {},
   "outputs": [
    {
     "name": "stderr",
     "output_type": "stream",
     "text": [
      "5it [00:01,  4.76it/s]\n",
      "5it [00:00,  5.13it/s]\n",
      "5it [00:00,  7.56it/s]\n",
      "5it [00:01,  4.83it/s]\n",
      "5it [00:01,  4.30it/s]\n",
      "5it [00:01,  4.48it/s]\n",
      "5it [00:00,  7.14it/s]\n",
      "5it [00:01,  4.05it/s]\n",
      "5it [00:01,  4.07it/s]\n",
      "5it [00:01,  4.85it/s]"
     ]
    },
    {
     "name": "stdout",
     "output_type": "stream",
     "text": [
      "Average Test Accuracy:  0.33\n"
     ]
    },
    {
     "name": "stderr",
     "output_type": "stream",
     "text": [
      "\n"
     ]
    }
   ],
   "source": [
    "studentspecificCV(df,verb=False, model_type = 'svm', target = 'predefinedlabel')"
   ]
  },
  {
   "cell_type": "code",
   "execution_count": 14,
   "id": "598f00cf-af6f-4a5a-86d8-40a17d2abe52",
   "metadata": {},
   "outputs": [
    {
     "name": "stderr",
     "output_type": "stream",
     "text": [
      "5it [00:01,  3.98it/s]\n",
      "5it [00:01,  4.94it/s]\n",
      "5it [00:00,  5.98it/s]\n",
      "5it [00:01,  4.50it/s]\n",
      "5it [00:01,  4.69it/s]\n",
      "5it [00:01,  4.40it/s]\n",
      "5it [00:00,  6.21it/s]\n",
      "5it [00:01,  4.79it/s]\n",
      "5it [00:01,  4.80it/s]\n",
      "5it [00:01,  4.33it/s]"
     ]
    },
    {
     "name": "stdout",
     "output_type": "stream",
     "text": [
      "Average Test Accuracy:  0.53\n"
     ]
    },
    {
     "name": "stderr",
     "output_type": "stream",
     "text": [
      "\n"
     ]
    }
   ],
   "source": [
    "studentspecificCV(df,verb=False, model_type = 'svm', target = 'user-definedlabel')"
   ]
  },
  {
   "cell_type": "markdown",
   "id": "7d8ea683-4d55-4670-bf31-a470f7806ac6",
   "metadata": {},
   "source": [
    "# KNN"
   ]
  },
  {
   "cell_type": "code",
   "execution_count": 17,
   "id": "9e757cff-0a0b-4ceb-a141-7c1f0e53b1ca",
   "metadata": {},
   "outputs": [
    {
     "name": "stderr",
     "output_type": "stream",
     "text": [
      "5it [00:00, 31.22it/s]\n",
      "5it [00:00, 40.77it/s]\n",
      "5it [00:00, 41.48it/s]\n",
      "5it [00:00, 38.85it/s]\n",
      "5it [00:00, 38.31it/s]\n",
      "5it [00:00, 40.93it/s]\n",
      "5it [00:00, 38.27it/s]\n",
      "5it [00:00, 39.06it/s]\n",
      "5it [00:00, 42.58it/s]\n",
      "5it [00:00, 41.54it/s]"
     ]
    },
    {
     "name": "stdout",
     "output_type": "stream",
     "text": [
      "Average Test Accuracy:  0.79\n"
     ]
    },
    {
     "name": "stderr",
     "output_type": "stream",
     "text": [
      "\n"
     ]
    }
   ],
   "source": [
    "studentspecificCV(df,verb=False, model_type = 'knn', target = 'user-definedlabel')"
   ]
  },
  {
   "cell_type": "code",
   "execution_count": 18,
   "id": "e3bb1dd6-c6c3-44e2-a9ba-b4ccc672707e",
   "metadata": {},
   "outputs": [
    {
     "name": "stderr",
     "output_type": "stream",
     "text": [
      "5it [00:00, 35.81it/s]\n",
      "5it [00:00, 38.04it/s]\n",
      "5it [00:00, 37.33it/s]\n",
      "5it [00:00, 37.93it/s]\n",
      "5it [00:00, 40.91it/s]\n",
      "5it [00:00, 42.73it/s]\n",
      "5it [00:00, 43.29it/s]\n",
      "5it [00:00, 38.58it/s]\n",
      "5it [00:00, 34.16it/s]\n",
      "5it [00:00, 36.62it/s]"
     ]
    },
    {
     "name": "stdout",
     "output_type": "stream",
     "text": [
      "Average Test Accuracy:  0.5\n"
     ]
    },
    {
     "name": "stderr",
     "output_type": "stream",
     "text": [
      "\n"
     ]
    }
   ],
   "source": [
    "studentspecificCV(df,verb=False, model_type = 'knn', target = 'predefinedlabel')"
   ]
  },
  {
   "cell_type": "markdown",
   "id": "a132db33-96b4-4508-b177-c162df3acdb2",
   "metadata": {},
   "source": [
    "# Random Forest"
   ]
  },
  {
   "cell_type": "code",
   "execution_count": 19,
   "id": "af1f23c4-e6e4-4b9a-ac83-f8100922b3de",
   "metadata": {},
   "outputs": [
    {
     "name": "stderr",
     "output_type": "stream",
     "text": [
      "5it [02:32, 30.40s/it]\n",
      "5it [02:33, 30.62s/it]\n",
      "5it [02:34, 30.93s/it]\n",
      "5it [02:50, 34.03s/it]\n",
      "5it [02:38, 31.79s/it]\n",
      "5it [02:29, 29.87s/it]\n",
      "5it [02:42, 32.50s/it]\n",
      "5it [02:30, 30.14s/it]\n",
      "5it [02:27, 29.57s/it]\n",
      "5it [02:30, 30.19s/it]"
     ]
    },
    {
     "name": "stdout",
     "output_type": "stream",
     "text": [
      "Average Test Accuracy:  0.8\n"
     ]
    },
    {
     "name": "stderr",
     "output_type": "stream",
     "text": [
      "\n"
     ]
    }
   ],
   "source": [
    "studentspecificCV(df,verb=False, model_type = 'random forest', target = 'user-definedlabel')"
   ]
  },
  {
   "cell_type": "code",
   "execution_count": 20,
   "id": "8eb23eb3-6321-4d76-9312-883f9e5c3e06",
   "metadata": {},
   "outputs": [
    {
     "name": "stderr",
     "output_type": "stream",
     "text": [
      "5it [02:27, 29.52s/it]\n",
      "5it [02:44, 33.00s/it]\n",
      "5it [02:46, 33.36s/it]\n",
      "5it [02:44, 32.89s/it]\n",
      "5it [03:22, 40.49s/it]\n",
      "5it [03:26, 41.30s/it]\n",
      "5it [03:32, 42.58s/it]\n",
      "5it [03:34, 42.88s/it]\n",
      "5it [03:33, 42.64s/it]\n",
      "5it [03:18, 39.77s/it]"
     ]
    },
    {
     "name": "stdout",
     "output_type": "stream",
     "text": [
      "Average Test Accuracy:  0.57\n"
     ]
    },
    {
     "name": "stderr",
     "output_type": "stream",
     "text": [
      "\n"
     ]
    }
   ],
   "source": [
    "studentspecificCV(df,verb=False, model_type = 'random forest', target = 'predefinedlabel')"
   ]
  },
  {
   "cell_type": "markdown",
   "id": "f4c04e8d-3cd2-4716-8b82-b76cffd173e6",
   "metadata": {},
   "source": [
    "# Decision Tree"
   ]
  },
  {
   "cell_type": "code",
   "execution_count": 21,
   "id": "b11b63f9-78ff-4c06-8a96-0203380f639f",
   "metadata": {},
   "outputs": [
    {
     "name": "stderr",
     "output_type": "stream",
     "text": [
      "5it [00:00, 33.31it/s]\n",
      "5it [00:00, 35.39it/s]\n",
      "5it [00:00, 35.23it/s]\n",
      "5it [00:00, 35.22it/s]\n",
      "5it [00:00, 37.04it/s]\n",
      "5it [00:00, 34.32it/s]\n",
      "5it [00:00, 36.78it/s]\n",
      "5it [00:00, 36.53it/s]\n",
      "5it [00:00, 37.22it/s]\n",
      "5it [00:00, 37.37it/s]"
     ]
    },
    {
     "name": "stdout",
     "output_type": "stream",
     "text": [
      "Average Test Accuracy:  0.76\n"
     ]
    },
    {
     "name": "stderr",
     "output_type": "stream",
     "text": [
      "\n"
     ]
    }
   ],
   "source": [
    "studentspecificCV(df,verb=False, model_type = 'decision tree', target = 'user-definedlabel')"
   ]
  },
  {
   "cell_type": "code",
   "execution_count": 22,
   "id": "4f9494e6-e3d8-4eb4-88b1-06555a2ca128",
   "metadata": {},
   "outputs": [
    {
     "name": "stderr",
     "output_type": "stream",
     "text": [
      "5it [00:00, 36.83it/s]\n",
      "5it [00:00, 37.04it/s]\n",
      "5it [00:00, 36.22it/s]\n",
      "5it [00:00, 36.35it/s]\n",
      "5it [00:00, 36.99it/s]\n",
      "5it [00:00, 37.39it/s]\n",
      "5it [00:00, 37.39it/s]\n",
      "5it [00:00, 37.06it/s]\n",
      "5it [00:00, 37.02it/s]\n",
      "5it [00:00, 37.55it/s]"
     ]
    },
    {
     "name": "stdout",
     "output_type": "stream",
     "text": [
      "Average Test Accuracy:  0.5\n"
     ]
    },
    {
     "name": "stderr",
     "output_type": "stream",
     "text": [
      "\n"
     ]
    }
   ],
   "source": [
    "studentspecificCV(df,verb=False, model_type = 'decision tree', target = 'predefinedlabel')"
   ]
  },
  {
   "cell_type": "markdown",
   "id": "e151e779-467e-472e-94e3-fc57a2f862c3",
   "metadata": {},
   "source": [
    "# Naive Bayes"
   ]
  },
  {
   "cell_type": "code",
   "execution_count": 40,
   "id": "a19d617f-834f-4a17-a549-1bfa8093e31e",
   "metadata": {},
   "outputs": [
    {
     "name": "stderr",
     "output_type": "stream",
     "text": [
      "5it [00:00, 101.59it/s]\n",
      "5it [00:00, 148.62it/s]\n",
      "5it [00:00, 141.81it/s]\n",
      "5it [00:00, 155.90it/s]\n",
      "5it [00:00, 161.19it/s]\n",
      "5it [00:00, 163.60it/s]\n",
      "5it [00:00, 141.76it/s]\n",
      "5it [00:00, 151.46it/s]\n",
      "5it [00:00, 162.58it/s]\n",
      "5it [00:00, 162.65it/s]"
     ]
    },
    {
     "name": "stdout",
     "output_type": "stream",
     "text": [
      "Average Test Accuracy:  0.73\n"
     ]
    },
    {
     "name": "stderr",
     "output_type": "stream",
     "text": [
      "\n"
     ]
    }
   ],
   "source": [
    "studentspecificCV(df,verb=False, model_type = 'naivebayes', target = 'user-definedlabel')"
   ]
  },
  {
   "cell_type": "code",
   "execution_count": 41,
   "id": "241fb1bc-7109-4c1f-ad6e-fe0fcdf003c0",
   "metadata": {},
   "outputs": [
    {
     "name": "stderr",
     "output_type": "stream",
     "text": [
      "5it [00:00, 119.66it/s]\n",
      "5it [00:00, 145.22it/s]\n",
      "5it [00:00, 156.80it/s]\n",
      "5it [00:00, 155.94it/s]\n",
      "5it [00:00, 170.82it/s]\n",
      "5it [00:00, 171.52it/s]\n",
      "5it [00:00, 153.02it/s]\n",
      "5it [00:00, 163.89it/s]\n",
      "5it [00:00, 141.88it/s]\n",
      "5it [00:00, 157.16it/s]"
     ]
    },
    {
     "name": "stdout",
     "output_type": "stream",
     "text": [
      "Average Test Accuracy:  0.48\n"
     ]
    },
    {
     "name": "stderr",
     "output_type": "stream",
     "text": [
      "\n"
     ]
    }
   ],
   "source": [
    "studentspecificCV(df,verb=False, model_type = 'naivebayes', target = 'predefinedlabel')"
   ]
  },
  {
   "cell_type": "code",
   "execution_count": null,
   "id": "2f095e6c-03ac-4ff7-8a5b-e7f31ca5d847",
   "metadata": {},
   "outputs": [],
   "source": []
  }
 ],
 "metadata": {
  "kernelspec": {
   "display_name": "Python 3 (ipykernel)",
   "language": "python",
   "name": "python3"
  },
  "language_info": {
   "codemirror_mode": {
    "name": "ipython",
    "version": 3
   },
   "file_extension": ".py",
   "mimetype": "text/x-python",
   "name": "python",
   "nbconvert_exporter": "python",
   "pygments_lexer": "ipython3",
   "version": "3.8.8"
  }
 },
 "nbformat": 4,
 "nbformat_minor": 5
}
