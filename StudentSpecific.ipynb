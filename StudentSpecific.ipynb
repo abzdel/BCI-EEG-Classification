{
 "cells": [
  {
   "cell_type": "markdown",
   "id": "208b8e8d-dc41-4043-b257-de68c4f9a3f6",
   "metadata": {},
   "source": [
    "# Training/Testing on a single patient for each fold:"
   ]
  },
  {
   "cell_type": "code",
   "execution_count": 1,
   "id": "24fc3eea-e7fa-41c7-95f3-7852ac01eee6",
   "metadata": {},
   "outputs": [],
   "source": [
    "# import toolboxes \n",
    "# import the toolboxes \n",
    "import numpy as np \n",
    "import pandas as pd\n",
    "import os\n",
    "from sklearn.neighbors import KNeighborsClassifier\n",
    "from sklearn.svm import LinearSVC\n",
    "from sklearn.naive_bayes import GaussianNB\n",
    "from sklearn.model_selection import GridSearchCV\n",
    "from sklearn.model_selection import train_test_split\n",
    "from sklearn.metrics import accuracy_score\n",
    "from sklearn.model_selection import KFold\n",
    "from tqdm import tqdm\n",
    "from sklearn.linear_model import BayesianRidge\n",
    "from sklearn.feature_selection import SelectFromModel\n",
    "from sklearn.kernel_approximation import RBFSampler\n",
    "from sklearn.ensemble import RandomForestClassifier\n",
    "from sklearn.linear_model import LogisticRegression\n",
    "from sklearn.tree import DecisionTreeClassifier\n"
   ]
  },
  {
   "cell_type": "code",
   "execution_count": 2,
   "id": "b76eac32-0978-4a43-9a87-7cee6f2f0e0b",
   "metadata": {},
   "outputs": [],
   "source": [
    "from warnings import simplefilter\n",
    "from sklearn.exceptions import ConvergenceWarning\n",
    "simplefilter(\"ignore\", category=ConvergenceWarning)"
   ]
  },
  {
   "cell_type": "code",
   "execution_count": 3,
   "id": "631d7e86-54ab-430f-ad1a-38798d56d54f",
   "metadata": {},
   "outputs": [],
   "source": [
    "directory = '/Users/amandabreton/Documents/Duke 2022-2023/ECE 590/Final Project/'\n",
    "filename = 'meanfeatures.csv'\n",
    "\n",
    "df = pd.read_csv(directory+filename, index_col=0)\n",
    "\n",
    "#directory = 'cleaned_data/'\n",
    "#filename = 'meanfeatures.csv'\n",
    "\n",
    "#df = pd.read_csv(directory+filename, index_col=0)"
   ]
  },
  {
   "cell_type": "code",
   "execution_count": 4,
   "id": "f1c1af47",
   "metadata": {},
   "outputs": [],
   "source": [
    "# standardize all variables\n",
    "df[\"Beta1\"] = (df[\"Beta1\"] - df[\"Beta1\"].mean())/df[\"Beta1\"].std()\n",
    "df[\"Alpha1\"] = (df[\"Alpha1\"] - df[\"Alpha1\"].mean())/df[\"Alpha1\"].std()\n",
    "df[\"Gamma2\"] = (df[\"Gamma2\"] - df[\"Gamma2\"].mean())/df[\"Gamma2\"].std()\n",
    "df[\"Theta\"] = (df[\"Theta\"] - df[\"Theta\"].mean())/df[\"Theta\"].std()\n",
    "df[\"Attention\"] = (df[\"Attention\"] - df[\"Attention\"].mean())/df[\"Attention\"].std()\n",
    "df[\"Mediation\"] = (df[\"Mediation\"] - df[\"Mediation\"].mean())/df[\"Mediation\"].std()\n",
    "df[\"Raw\"] = (df[\"Raw\"] - df[\"Raw\"].mean())/df[\"Raw\"].std()\n",
    "df[\"Delta\"] = (df[\"Delta\"] - df[\"Delta\"].mean())/df[\"Delta\"].std()\n",
    "df[\"Beta2\"] = (df[\"Beta2\"] - df[\"Beta2\"].mean())/df[\"Beta2\"].std()\n",
    "df[\"Gamma1\"] = (df[\"Gamma1\"] - df[\"Gamma1\"].mean())/df[\"Gamma1\"].std()\n",
    "df[\"Alpha2\"] = (df[\"Alpha2\"] - df[\"Alpha2\"].mean())/df[\"Alpha2\"].std()\n",
    "\n"
   ]
  },
  {
   "cell_type": "code",
   "execution_count": 5,
   "id": "1c2bd122-4762-45de-b934-b13447eee172",
   "metadata": {},
   "outputs": [
    {
     "data": {
      "text/html": [
       "<div>\n",
       "<style scoped>\n",
       "    .dataframe tbody tr th:only-of-type {\n",
       "        vertical-align: middle;\n",
       "    }\n",
       "\n",
       "    .dataframe tbody tr th {\n",
       "        vertical-align: top;\n",
       "    }\n",
       "\n",
       "    .dataframe thead th {\n",
       "        text-align: right;\n",
       "    }\n",
       "</style>\n",
       "<table border=\"1\" class=\"dataframe\">\n",
       "  <thead>\n",
       "    <tr style=\"text-align: right;\">\n",
       "      <th></th>\n",
       "      <th>SubjectID</th>\n",
       "      <th>VideoID</th>\n",
       "      <th>predefinedlabel</th>\n",
       "      <th>user-definedlabel</th>\n",
       "      <th>Attention</th>\n",
       "      <th>Mediation</th>\n",
       "      <th>Raw</th>\n",
       "      <th>Delta</th>\n",
       "      <th>Theta</th>\n",
       "      <th>Alpha1</th>\n",
       "      <th>Alpha2</th>\n",
       "      <th>Beta1</th>\n",
       "      <th>Beta2</th>\n",
       "      <th>Gamma1</th>\n",
       "      <th>Gamma2</th>\n",
       "    </tr>\n",
       "  </thead>\n",
       "  <tbody>\n",
       "    <tr>\n",
       "      <th>0</th>\n",
       "      <td>0.0</td>\n",
       "      <td>0.0</td>\n",
       "      <td>0.0</td>\n",
       "      <td>0.0</td>\n",
       "      <td>0.799238</td>\n",
       "      <td>0.370443</td>\n",
       "      <td>-0.189427</td>\n",
       "      <td>-0.221254</td>\n",
       "      <td>-0.487078</td>\n",
       "      <td>-0.197569</td>\n",
       "      <td>-0.310132</td>\n",
       "      <td>-0.276612</td>\n",
       "      <td>0.048944</td>\n",
       "      <td>0.236060</td>\n",
       "      <td>0.121001</td>\n",
       "    </tr>\n",
       "    <tr>\n",
       "      <th>1</th>\n",
       "      <td>0.0</td>\n",
       "      <td>1.0</td>\n",
       "      <td>0.0</td>\n",
       "      <td>1.0</td>\n",
       "      <td>0.134575</td>\n",
       "      <td>0.080433</td>\n",
       "      <td>-0.367022</td>\n",
       "      <td>0.464321</td>\n",
       "      <td>-0.080545</td>\n",
       "      <td>-0.271106</td>\n",
       "      <td>-0.343943</td>\n",
       "      <td>-0.142894</td>\n",
       "      <td>-0.007846</td>\n",
       "      <td>0.153857</td>\n",
       "      <td>0.006210</td>\n",
       "    </tr>\n",
       "    <tr>\n",
       "      <th>2</th>\n",
       "      <td>0.0</td>\n",
       "      <td>2.0</td>\n",
       "      <td>0.0</td>\n",
       "      <td>1.0</td>\n",
       "      <td>0.154993</td>\n",
       "      <td>0.007747</td>\n",
       "      <td>-0.519804</td>\n",
       "      <td>0.304140</td>\n",
       "      <td>-0.207210</td>\n",
       "      <td>-0.454326</td>\n",
       "      <td>-0.488778</td>\n",
       "      <td>-0.160451</td>\n",
       "      <td>-0.027006</td>\n",
       "      <td>0.094858</td>\n",
       "      <td>0.007531</td>\n",
       "    </tr>\n",
       "    <tr>\n",
       "      <th>3</th>\n",
       "      <td>0.0</td>\n",
       "      <td>3.0</td>\n",
       "      <td>0.0</td>\n",
       "      <td>0.0</td>\n",
       "      <td>0.559343</td>\n",
       "      <td>0.260003</td>\n",
       "      <td>-0.309278</td>\n",
       "      <td>-0.023012</td>\n",
       "      <td>-0.062649</td>\n",
       "      <td>-0.335328</td>\n",
       "      <td>-0.292885</td>\n",
       "      <td>-0.464901</td>\n",
       "      <td>0.117254</td>\n",
       "      <td>0.250737</td>\n",
       "      <td>0.108090</td>\n",
       "    </tr>\n",
       "    <tr>\n",
       "      <th>4</th>\n",
       "      <td>0.0</td>\n",
       "      <td>4.0</td>\n",
       "      <td>0.0</td>\n",
       "      <td>0.0</td>\n",
       "      <td>0.797364</td>\n",
       "      <td>0.016508</td>\n",
       "      <td>-0.355220</td>\n",
       "      <td>-0.213140</td>\n",
       "      <td>-0.465362</td>\n",
       "      <td>-0.759959</td>\n",
       "      <td>-0.686226</td>\n",
       "      <td>-0.547697</td>\n",
       "      <td>-0.027376</td>\n",
       "      <td>0.138664</td>\n",
       "      <td>0.017863</td>\n",
       "    </tr>\n",
       "  </tbody>\n",
       "</table>\n",
       "</div>"
      ],
      "text/plain": [
       "   SubjectID  VideoID  predefinedlabel  user-definedlabel  Attention   \n",
       "0        0.0      0.0              0.0                0.0   0.799238  \\\n",
       "1        0.0      1.0              0.0                1.0   0.134575   \n",
       "2        0.0      2.0              0.0                1.0   0.154993   \n",
       "3        0.0      3.0              0.0                0.0   0.559343   \n",
       "4        0.0      4.0              0.0                0.0   0.797364   \n",
       "\n",
       "   Mediation       Raw     Delta     Theta    Alpha1    Alpha2     Beta1   \n",
       "0   0.370443 -0.189427 -0.221254 -0.487078 -0.197569 -0.310132 -0.276612  \\\n",
       "1   0.080433 -0.367022  0.464321 -0.080545 -0.271106 -0.343943 -0.142894   \n",
       "2   0.007747 -0.519804  0.304140 -0.207210 -0.454326 -0.488778 -0.160451   \n",
       "3   0.260003 -0.309278 -0.023012 -0.062649 -0.335328 -0.292885 -0.464901   \n",
       "4   0.016508 -0.355220 -0.213140 -0.465362 -0.759959 -0.686226 -0.547697   \n",
       "\n",
       "      Beta2    Gamma1    Gamma2  \n",
       "0  0.048944  0.236060  0.121001  \n",
       "1 -0.007846  0.153857  0.006210  \n",
       "2 -0.027006  0.094858  0.007531  \n",
       "3  0.117254  0.250737  0.108090  \n",
       "4 -0.027376  0.138664  0.017863  "
      ]
     },
     "execution_count": 5,
     "metadata": {},
     "output_type": "execute_result"
    }
   ],
   "source": [
    "df.head()"
   ]
  },
  {
   "cell_type": "code",
   "execution_count": 6,
   "id": "bfb8a7b7-6393-4e41-b207-1adbf8a23c39",
   "metadata": {},
   "outputs": [
    {
     "data": {
      "text/plain": [
       "SubjectID\n",
       "0.0    10\n",
       "1.0    10\n",
       "2.0    10\n",
       "3.0    10\n",
       "4.0    10\n",
       "5.0    10\n",
       "6.0    10\n",
       "7.0    10\n",
       "8.0    10\n",
       "9.0    10\n",
       "Name: count, dtype: int64"
      ]
     },
     "execution_count": 6,
     "metadata": {},
     "output_type": "execute_result"
    }
   ],
   "source": [
    "df[\"SubjectID\"].value_counts()"
   ]
  },
  {
   "cell_type": "code",
   "execution_count": null,
   "id": "8302249a-f431-485e-8514-292fd4f47d0e",
   "metadata": {},
   "outputs": [],
   "source": []
  },
  {
   "cell_type": "code",
   "execution_count": 7,
   "id": "4df59267-7da8-4918-8420-96576ad60c74",
   "metadata": {},
   "outputs": [],
   "source": [
    "def pick_model(model_type, C=1,verb=False):\n",
    "    if model_type == 'logreg':\n",
    "        clf = LogisticRegression()\n",
    "        param_grid = {\"C\": [0.1, 1, 10, 100], \"penalty\": [\"l1\", \"l2\"], \"solver\": [\"liblinear\"]}\n",
    "    elif model_type == 'rvm':\n",
    "        clf = BayesianRidge(compute_score=True)\n",
    "        param_grid = {\"alpha_1\": [1e-6, 1e-5, 1e-4, 1e-3], \"alpha_2\": [1e-6, 1e-5, 1e-4, 1e-3], \n",
    "                      \"lambda_1\": [1e-6, 1e-5, 1e-4, 1e-3], \"lambda_2\": [1e-6, 1e-5, 1e-4, 1e-3]}\n",
    "    elif model_type == 'knn':\n",
    "        clf = KNeighborsClassifier(n_neighbors=5)\n",
    "        Ns = [1,2,3,4]\n",
    "        param_grid = {\"n_neighbors\": Ns}\n",
    "    elif model_type == 'svm':\n",
    "        clf = LinearSVC(C=C,verbose=verb, max_iter=10000)\n",
    "        Cs = np.logspace(-11,6,18)\n",
    "        param_grid = {\"C\": Cs, \"penalty\": [\"l2\"], \"loss\": ['hinge', 'squared_hinge']} \n",
    "    elif model_type == 'random forest': \n",
    "        clf = RandomForestClassifier()\n",
    "        param_grid = {\"n_estimators\": [10, 50, 100, 200, 500, 1000], \"max_depth\": \n",
    "                      [None, 5, 10, 20, 50, 100]}\n",
    "    elif model_type == 'decision tree': \n",
    "        clf = DecisionTreeClassifier()\n",
    "        param_grid = {'criterion': ['gini', 'entropy', 'log_loss'], 'splitter': ['best', 'random']}\n",
    "    else: #model_type = naivebayes\n",
    "        clf = GaussianNB()\n",
    "        param_grid = {}\n",
    "    return clf, param_grid"
   ]
  },
  {
   "cell_type": "code",
   "execution_count": 23,
   "id": "2627fcbc-e566-4463-bfc2-6bf42913d6d4",
   "metadata": {},
   "outputs": [],
   "source": [
    "def studentspecificCV(df,verb=False, model_type = 'svm', target = 'user-definedlabel'):\n",
    "    # training on half the videos testing on the other half in a single student\n",
    "    accs = np.zeros(50)\n",
    "    counter = 0\n",
    "    for i in range(10): \n",
    "        curr_student = df.loc[df['SubjectID'] == i]\n",
    "        X = curr_student.drop(['SubjectID', 'VideoID', 'user-definedlabel', 'predefinedlabel'], axis=1)\n",
    "        y = curr_student[[target]]\n",
    "        y = y[target].values\n",
    "        num_splits = KFold(n_splits=5,shuffle = True)\n",
    "        for train_index, test_index in tqdm(num_splits.split(X)): # to actually split into training/testing\n",
    "            \n",
    "            #X.iloc[0].values\n",
    "            X_train, X_test = X.iloc[train_index].values, X.iloc[test_index].values\n",
    "            y_train, y_test = y[train_index], y[test_index]\n",
    "    \n",
    "            # Create an instance of the  model\n",
    "            model, param_grid = pick_model(model_type)\n",
    "            # Create an instance of the GridSearchCV object\n",
    "            grid_search = GridSearchCV(model, param_grid, cv=2, scoring=\"accuracy\")\n",
    "            # Fit the GridSearchCV object to the data\n",
    "            grid_search.fit(X_train, y_train)\n",
    "            # Print the best hyperparameters and their accuracy score\n",
    "            print(\"Training: Best Hyperparameters:\", grid_search.best_params_)\n",
    "            #print(\"Training: Best Accuracy Score:\", grid_search.best_score_)\n",
    "            best_est = grid_search.best_estimator_\n",
    "            best_est.fit(X_train, y_train)\n",
    "            y_pred = best_est.predict(X_test)\n",
    "            acc = accuracy_score(y_test, y_pred)\n",
    "            accs[counter] = acc\n",
    "            #print('Test accuracy for target:', target, acc)\n",
    "            counter += 1 \n",
    "    print('Average Test Accuracy: ', np.mean(accs))"
   ]
  },
  {
   "cell_type": "markdown",
   "id": "84abe55d-1e7a-4a4e-9362-1468ce94c0b3",
   "metadata": {},
   "source": [
    "# Log reg "
   ]
  },
  {
   "cell_type": "code",
   "execution_count": 9,
   "id": "12a97036-189d-47f4-b176-32469f7997ad",
   "metadata": {},
   "outputs": [
    {
     "name": "stderr",
     "output_type": "stream",
     "text": [
      "5it [00:00, 17.04it/s]\n",
      "5it [00:00, 20.49it/s]\n",
      "5it [00:00, 17.22it/s]\n",
      "5it [00:00, 20.77it/s]\n",
      "5it [00:00, 19.07it/s]\n",
      "5it [00:00, 21.02it/s]\n",
      "5it [00:00, 20.61it/s]\n",
      "5it [00:00, 20.40it/s]\n",
      "5it [00:00, 14.38it/s]\n",
      "5it [00:00, 18.84it/s]"
     ]
    },
    {
     "name": "stdout",
     "output_type": "stream",
     "text": [
      "Average Test Accuracy:  0.49\n"
     ]
    },
    {
     "name": "stderr",
     "output_type": "stream",
     "text": [
      "\n"
     ]
    }
   ],
   "source": [
    "studentspecificCV(df,verb=False, model_type = 'logreg', target = 'predefinedlabel')"
   ]
  },
  {
   "cell_type": "code",
   "execution_count": 10,
   "id": "60d0e6c9-dbcf-4a1b-94a7-097197b19703",
   "metadata": {},
   "outputs": [
    {
     "name": "stderr",
     "output_type": "stream",
     "text": [
      "5it [00:00, 18.03it/s]\n",
      "5it [00:00, 19.43it/s]\n",
      "5it [00:00, 14.92it/s]\n",
      "5it [00:00, 19.30it/s]\n",
      "5it [00:00, 19.08it/s]\n",
      "5it [00:00, 19.58it/s]\n",
      "5it [00:00, 18.53it/s]\n",
      "5it [00:00, 19.57it/s]\n",
      "5it [00:00, 20.23it/s]\n",
      "5it [00:00, 17.16it/s]"
     ]
    },
    {
     "name": "stdout",
     "output_type": "stream",
     "text": [
      "Average Test Accuracy:  0.65\n"
     ]
    },
    {
     "name": "stderr",
     "output_type": "stream",
     "text": [
      "\n"
     ]
    }
   ],
   "source": [
    "studentspecificCV(df,verb=False, model_type = 'logreg', target = 'user-definedlabel')"
   ]
  },
  {
   "cell_type": "markdown",
   "id": "d8853c4a-3d71-455e-8814-a1a23005488b",
   "metadata": {},
   "source": [
    "# RVM "
   ]
  },
  {
   "cell_type": "code",
   "execution_count": 11,
   "id": "b0179f48-9413-4b14-a73e-6702dd6dd55a",
   "metadata": {},
   "outputs": [],
   "source": [
    "#studentspecificCV(df,verb=False, model_type = 'rvm', target = 'user-definedlabel')"
   ]
  },
  {
   "cell_type": "code",
   "execution_count": 12,
   "id": "d89d8891-b8d2-4123-bc32-7768a9815ea5",
   "metadata": {},
   "outputs": [],
   "source": [
    "#studentspecificCV(df,verb=False, model_type = 'rvm', target = 'predefinedlabel')"
   ]
  },
  {
   "cell_type": "markdown",
   "id": "059b617a-8b64-4dfd-8f0c-b0b8661d5077",
   "metadata": {},
   "source": [
    "# SVM "
   ]
  },
  {
   "cell_type": "code",
   "execution_count": 13,
   "id": "db01421f-a85d-482f-8493-513a8221cd9d",
   "metadata": {},
   "outputs": [
    {
     "name": "stderr",
     "output_type": "stream",
     "text": [
      "5it [00:00,  5.47it/s]\n",
      "5it [00:00,  5.31it/s]\n",
      "5it [00:01,  4.37it/s]\n",
      "5it [00:00,  5.37it/s]\n",
      "5it [00:01,  4.50it/s]\n",
      "5it [00:01,  4.90it/s]\n",
      "5it [00:01,  4.25it/s]\n",
      "5it [00:00,  5.29it/s]\n",
      "5it [00:01,  4.85it/s]\n",
      "5it [00:00,  5.56it/s]"
     ]
    },
    {
     "name": "stdout",
     "output_type": "stream",
     "text": [
      "Average Test Accuracy:  0.41\n"
     ]
    },
    {
     "name": "stderr",
     "output_type": "stream",
     "text": [
      "\n"
     ]
    }
   ],
   "source": [
    "studentspecificCV(df,verb=False, model_type = 'svm', target = 'predefinedlabel')"
   ]
  },
  {
   "cell_type": "code",
   "execution_count": 14,
   "id": "598f00cf-af6f-4a5a-86d8-40a17d2abe52",
   "metadata": {},
   "outputs": [
    {
     "name": "stderr",
     "output_type": "stream",
     "text": [
      "5it [00:00,  5.61it/s]\n",
      "5it [00:00,  5.40it/s]\n",
      "5it [00:01,  4.20it/s]\n",
      "5it [00:00,  5.02it/s]\n",
      "5it [00:01,  4.62it/s]\n",
      "5it [00:01,  4.97it/s]\n",
      "5it [00:01,  4.92it/s]\n",
      "5it [00:01,  4.72it/s]\n",
      "5it [00:01,  4.53it/s]\n",
      "5it [00:00,  5.44it/s]"
     ]
    },
    {
     "name": "stdout",
     "output_type": "stream",
     "text": [
      "Average Test Accuracy:  0.71\n"
     ]
    },
    {
     "name": "stderr",
     "output_type": "stream",
     "text": [
      "\n"
     ]
    }
   ],
   "source": [
    "studentspecificCV(df,verb=False, model_type = 'svm', target = 'user-definedlabel')"
   ]
  },
  {
   "cell_type": "markdown",
   "id": "7d8ea683-4d55-4670-bf31-a470f7806ac6",
   "metadata": {},
   "source": [
    "# KNN"
   ]
  },
  {
   "cell_type": "code",
   "execution_count": 15,
   "id": "9e757cff-0a0b-4ceb-a141-7c1f0e53b1ca",
   "metadata": {},
   "outputs": [
    {
     "name": "stderr",
     "output_type": "stream",
     "text": [
      "5it [00:00,  5.76it/s]\n",
      "5it [00:00,  7.35it/s]\n",
      "5it [00:00,  7.55it/s]\n",
      "5it [00:00,  9.72it/s]\n",
      "5it [00:00,  6.79it/s]\n",
      "5it [00:00,  6.90it/s]\n",
      "5it [00:00,  6.32it/s]\n",
      "5it [00:00,  9.84it/s]\n",
      "5it [00:00,  6.49it/s]\n",
      "5it [00:00,  8.58it/s]"
     ]
    },
    {
     "name": "stdout",
     "output_type": "stream",
     "text": [
      "Average Test Accuracy:  0.75\n"
     ]
    },
    {
     "name": "stderr",
     "output_type": "stream",
     "text": [
      "\n"
     ]
    }
   ],
   "source": [
    "studentspecificCV(df,verb=False, model_type = 'knn', target = 'user-definedlabel')"
   ]
  },
  {
   "cell_type": "code",
   "execution_count": 16,
   "id": "e3bb1dd6-c6c3-44e2-a9ba-b4ccc672707e",
   "metadata": {},
   "outputs": [
    {
     "name": "stderr",
     "output_type": "stream",
     "text": [
      "5it [00:00,  6.71it/s]\n",
      "5it [00:00,  7.19it/s]\n",
      "5it [00:00,  6.85it/s]\n",
      "5it [00:00,  7.51it/s]\n",
      "5it [00:00,  7.95it/s]\n",
      "5it [00:00,  6.85it/s]\n",
      "5it [00:00,  7.46it/s]\n",
      "5it [00:00,  7.87it/s]\n",
      "5it [00:00,  7.46it/s]\n",
      "5it [00:00,  7.81it/s]"
     ]
    },
    {
     "name": "stdout",
     "output_type": "stream",
     "text": [
      "Average Test Accuracy:  0.51\n"
     ]
    },
    {
     "name": "stderr",
     "output_type": "stream",
     "text": [
      "\n"
     ]
    }
   ],
   "source": [
    "studentspecificCV(df,verb=False, model_type = 'knn', target = 'predefinedlabel')"
   ]
  },
  {
   "cell_type": "markdown",
   "id": "a132db33-96b4-4508-b177-c162df3acdb2",
   "metadata": {},
   "source": [
    "# Random Forest"
   ]
  },
  {
   "cell_type": "code",
   "execution_count": 17,
   "id": "af1f23c4-e6e4-4b9a-ac83-f8100922b3de",
   "metadata": {},
   "outputs": [
    {
     "name": "stderr",
     "output_type": "stream",
     "text": [
      "5it [03:31, 42.22s/it]\n",
      "5it [02:36, 31.27s/it]\n",
      "5it [02:30, 30.15s/it]\n",
      "0it [00:00, ?it/s]Bad pipe message: %s [b'\\x17\\xb8\\xf9\\x83\\xd6\\xef\\xbbs\\xed\\xe9\\x88\\x17\\xd6]\\x87Q\\xb3J \\xfc\\xcew,\\xe4\\xd2\\xd7H.N\\xecln\\x84\\x9f\\xf0G?\\x1e)\\x82\\xdaW}Y:\\xca\\x93K\\x9b\\xed2\\x00\\x08\\x13\\x02\\x13\\x03\\x13\\x01\\x00\\xff\\x01\\x00\\x00\\x8f\\x00\\x00\\x00\\x0e\\x00\\x0c\\x00\\x00\\t127.0.0.1\\x00\\x0b\\x00\\x04\\x03\\x00\\x01\\x02\\x00\\n\\x00\\x0c\\x00\\n\\x00\\x1d\\x00\\x17\\x00\\x1e\\x00\\x19\\x00', b'#\\x00\\x00\\x00\\x16\\x00\\x00\\x00\\x17\\x00\\x00\\x00\\r\\x00\\x1e\\x00\\x1c\\x04\\x03\\x05\\x03\\x06\\x03']\n",
      "Bad pipe message: %s [b'\\x08\\x08\\x08\\t\\x08\\n\\x08', b'\\x04\\x08\\x05\\x08\\x06\\x04\\x01\\x05\\x01\\x06']\n",
      "Bad pipe message: %s [b'']\n",
      "Bad pipe message: %s [b'\\x03\\x02\\x03\\x04\\x00-\\x00\\x02\\x01\\x01\\x003\\x00&\\x00$\\x00\\x1d\\x00 za\\x82\\x0eS\\x1d\\x9fi1\\x08\\xa7\\xba\\xc2\\xd5\\xe6\\xc1\\xb7E\\xf6I+\\xa2']\n",
      "Bad pipe message: %s [b'b\\xe8\\xe2\\x120u`\\xcaJ!\\xe8 \\xcd\\x0fM\\x8e\\x9ff \\xdb$\\xd9\\rdmlQ\\xdc\\x16\\xb4\\x07\\x00/5\\xca\\xc1\\x1d_U}\\xf6N\\x0cJ\\xe3(yH\\xb2\\xc5\\x95\\x00\\x08\\x13\\x02', b'\\x13\\x01\\x00\\xff\\x01\\x00\\x00\\x8f\\x00\\x00\\x00\\x0e\\x00\\x0c\\x00\\x00\\t1', b'.0.0.1\\x00\\x0b\\x00\\x04\\x03\\x00\\x01\\x02\\x00\\n\\x00\\x0c\\x00\\n\\x00\\x1d\\x00\\x17\\x00\\x1e\\x00\\x19\\x00\\x18\\x00#\\x00\\x00\\x00\\x16\\x00\\x00\\x00\\x17\\x00\\x00\\x00\\r\\x00\\x1e\\x00\\x1c\\x04', b'\\x03\\x06', b'\\x07\\x08']\n",
      "Bad pipe message: %s [b'\\t\\x08\\n\\x08\\x0b\\x08\\x04']\n",
      "Bad pipe message: %s [b'\\x08\\x06\\x04\\x01\\x05\\x01\\x06', b'']\n",
      "Bad pipe message: %s [b'\\x03\\x02\\x03\\x04\\x00-\\x00\\x02\\x01\\x01\\x003\\x00&\\x00$\\x00\\x1d\\x00 \\xa7\\xf8\\xd9{\\x9c\\xe8\\xd5\\xba\\xbe\\x18\\xc3]\\xf693\\xe3d\\xec\\xb4M\\xa1v']\n",
      "Bad pipe message: %s [b\"'\\xb4\\xd0\\xe8\\x02\\xa6`5\\x02l\\xd7Y\\xbd\\xd7\\xd2\\xea\\xe1\\x94\\x00\\x00|\\xc0,\\xc00\\x00\\xa3\\x00\\x9f\\xcc\\xa9\\xcc\\xa8\\xcc\\xaa\\xc0\\xaf\\xc0\\xad\\xc0\\xa3\\xc0\\x9f\\xc0]\\xc0a\\xc0W\\xc0S\\xc0+\\xc0/\\x00\\xa2\\x00\\x9e\\xc0\\xae\\xc0\\xac\\xc0\\xa2\\xc0\\x9e\\xc0\\\\\\xc0`\\xc0V\\xc0R\\xc0$\\xc0(\\x00k\\x00j\\xc0#\\xc0'\\x00g\\x00@\\xc0\\n\\xc0\\x14\\x009\\x008\\xc0\\t\\xc0\\x13\\x003\\x002\\x00\\x9d\\xc0\\xa1\\xc0\\x9d\\xc0Q\\x00\\x9c\\xc0\\xa0\\xc0\\x9c\\xc0P\\x00=\\x00<\\x005\\x00/\\x00\\x9a\\x00\\x99\\xc0\\x07\\xc0\\x11\\x00\\x96\\x00\\x05\\x00\\xff\\x01\\x00\\x00j\\x00\\x00\\x00\\x0e\\x00\\x0c\\x00\\x00\\t127.0.0.1\\x00\\x0b\\x00\\x04\\x03\\x00\\x01\\x02\\x00\\n\\x00\\x0c\\x00\\n\\x00\\x1d\\x00\\x17\\x00\\x1e\\x00\\x19\\x00\\x18\\x00#\\x00\\x00\\x00\"]\n",
      "Bad pipe message: %s [b'\\x00\\x00\\x17\\x00\\x00\\x00\\r\\x000\\x00.\\x04\\x03\\x05\\x03\\x06\\x03\\x08\\x07\\x08\\x08']\n",
      "Bad pipe message: %s [b'\\x08\\n\\x08\\x0b\\x08\\x04\\x08', b'\\x06\\x04\\x01\\x05']\n",
      "Bad pipe message: %s [b'']\n",
      "Bad pipe message: %s [b'', b'\\x03\\x03']\n",
      "Bad pipe message: %s [b'']\n",
      "Bad pipe message: %s [b'', b'\\x02']\n",
      "Bad pipe message: %s [b'\\x05\\x02\\x06']\n",
      "Bad pipe message: %s [b'\\r']\n",
      "Bad pipe message: %s [b\"i\\xc0\\xc9\\xb2\\xd9>\\xb2\\x1d\\x15\\xd5\\xe6\\r\\x83\\x9dX\\x00\\x00\\xa6\\xc0,\\xc00\\x00\\xa3\\x00\\x9f\\xcc\\xa9\\xcc\\xa8\\xcc\\xaa\\xc0\\xaf\\xc0\\xad\\xc0\\xa3\\xc0\\x9f\\xc0]\\xc0a\\xc0W\\xc0S\\xc0+\\xc0/\\x00\\xa2\\x00\\x9e\\xc0\\xae\\xc0\\xac\\xc0\\xa2\\xc0\\x9e\\xc0\\\\\\xc0`\\xc0V\\xc0R\\xc0$\\xc0(\\x00k\\x00j\\xc0s\\xc0w\\x00\\xc4\\x00\\xc3\\xc0#\\xc0'\\x00g\\x00@\\xc0r\\xc0v\\x00\\xbe\\x00\\xbd\\xc0\\n\\xc0\\x14\\x009\\x008\\x00\\x88\\x00\\x87\\xc0\\t\\xc0\\x13\\x003\\x002\\x00\\x9a\\x00\\x99\\x00E\\x00D\\xc0\\x07\\xc0\\x11\\xc0\\x08\\xc0\\x12\\x00\\x16\\x00\\x13\\x00\\x9d\\xc0\\xa1\\xc0\\x9d\\xc0Q\\x00\\x9c\\xc0\\xa0\\xc0\\x9c\\xc0P\\x00=\\x00\\xc0\\x00<\\x00\\xba\\x005\\x00\\x84\\x00\", b'\\x96\\x00A\\x00\\x05\\x00\\n\\x00\\xff\\x01\\x00\\x00j\\x00\\x00\\x00\\x0e\\x00\\x0c\\x00\\x00\\t127.0.0.1\\x00\\x0b\\x00\\x04\\x03\\x00\\x01\\x02\\x00\\n\\x00\\x0c\\x00\\n\\x00']\n",
      "Bad pipe message: %s [b'\\x17\\x00\\x1e\\x00\\x19\\x00\\x18\\x00#\\x00\\x00\\x00\\x16\\x00\\x00\\x00\\x17\\x00\\x00\\x00\\r\\x000\\x00.\\x04\\x03\\x05']\n",
      "Bad pipe message: %s [b'\\x03\\x08']\n",
      "Bad pipe message: %s [b'\\x08\\x08\\t\\x08\\n\\x08']\n",
      "Bad pipe message: %s [b'\\x04\\x08\\x05\\x08\\x06\\x04\\x01\\x05\\x01\\x06']\n",
      "Bad pipe message: %s [b'', b'\\x03\\x03']\n",
      "Bad pipe message: %s [b'']\n",
      "Bad pipe message: %s [b'', b'\\x02']\n",
      "Bad pipe message: %s [b'\\x05\\x02\\x06']\n",
      "Bad pipe message: %s [b'\\xb8\\xdc\\xb6~\\xcbm\\xafk\\xbc\\xcd/\\xbeW9%\\xeax\\x9d\\x00\\x00>\\xc0\\x14\\xc0\\n\\x009\\x008\\x007\\x006\\xc0\\x0f\\xc0\\x05\\x005\\xc0\\x13\\xc0\\t\\x003\\x002\\x001\\x000\\xc0\\x0e\\xc0\\x04\\x00/\\x00\\x9a\\x00\\x99\\x00\\x98\\x00\\x97\\x00\\x96\\x00\\x07\\xc0\\x11\\xc0\\x07\\xc0\\x0c\\xc0\\x02\\x00\\x05\\x00\\x04\\x00\\xff\\x02\\x01\\x00\\x00C\\x00\\x00\\x00\\x0e\\x00\\x0c\\x00\\x00\\t127.0.0.1\\x00\\x0b\\x00\\x04\\x03\\x00\\x01\\x02\\x00\\n\\x00\\x1c\\x00\\x1a\\x00\\x17\\x00']\n",
      "Bad pipe message: %s [b'\\x86 \\x1f\\xc1\\xfe\\x9a\\xe7e\\x04ZUX\\xb6\\xf0\\x97/\\xc6O\\x00\\x00\\xa2\\xc0\\x14\\xc0\\n\\x009\\x008\\x007\\x006\\x00\\x88\\x00\\x87\\x00\\x86\\x00\\x85\\xc0\\x19\\x00:\\x00\\x89\\xc0\\x0f\\xc0\\x05\\x005\\x00\\x84\\xc0\\x13\\xc0\\t\\x003\\x002\\x001\\x000\\x00\\x9a\\x00\\x99\\x00\\x98\\x00\\x97\\x00E\\x00D\\x00C\\x00B\\xc0\\x18\\x004\\x00\\x9b\\x00F\\xc0\\x0e\\xc0\\x04\\x00/\\x00\\x96\\x00A\\x00\\x07\\xc0\\x11\\xc0\\x07\\xc0\\x16\\x00\\x18\\xc0\\x0c\\xc0\\x02\\x00\\x05\\x00\\x04\\xc0\\x12\\xc0\\x08\\x00\\x16\\x00\\x13\\x00\\x10\\x00\\r\\xc0\\x17\\x00\\x1b\\xc0\\r\\xc0\\x03\\x00\\n\\x00\\x15\\x00\\x12\\x00\\x0f\\x00\\x0c\\x00\\x1a\\x00\\t\\x00\\x14\\x00\\x11\\x00\\x19\\x00\\x08\\x00\\x06\\x00\\x17\\x00\\x03\\xc0\\x10\\xc0\\x06\\xc0\\x15\\xc0\\x0b\\xc0\\x01\\x00\\x02\\x00\\x01\\x00\\xff\\x02\\x01\\x00\\x00C\\x00\\x00\\x00\\x0e\\x00\\x0c\\x00\\x00\\t127.0.0.1\\x00\\x0b\\x00\\x04\\x03\\x00\\x01\\x02\\x00\\n\\x00\\x1c\\x00\\x1a\\x00', b'\\x19\\x00\\x1c\\x00\\x1b\\x00\\x18\\x00\\x1a\\x00\\x16\\x00\\x0e\\x00\\r\\x00\\x0b\\x00\\x0c\\x00\\t\\x00']\n",
      "Bad pipe message: %s [b'\\xe3\\xae|(\\x85=^\\xfa\\x0c\\xd7XEuXG\\xd5\\xa4\\xf1\\x00\\x00>\\xc0\\x14\\xc0\\n\\x009\\x008\\x007\\x006\\xc0\\x0f\\xc0\\x05\\x005\\xc0\\x13\\xc0\\t\\x003\\x002\\x001\\x000\\xc0\\x0e\\xc0\\x04\\x00/\\x00\\x9a\\x00\\x99\\x00\\x98\\x00\\x97\\x00\\x96\\x00\\x07\\xc0\\x11\\xc0\\x07\\xc0\\x0c\\xc0\\x02\\x00\\x05\\x00\\x04\\x00\\xff\\x02\\x01\\x00\\x00C\\x00\\x00\\x00\\x0e\\x00\\x0c\\x00\\x00\\t127.0.0.1\\x00\\x0b\\x00\\x04\\x03\\x00\\x01\\x02\\x00\\n\\x00\\x1c\\x00\\x1a\\x00\\x17\\x00\\x19\\x00\\x1c\\x00\\x1b\\x00\\x18\\x00\\x1a\\x00\\x16\\x00\\x0e\\x00\\r\\x00\\x0b\\x00\\x0c\\x00\\t']\n",
      "Bad pipe message: %s [b'\\x1a\"\\n5$\\xcb\\xbf3\\xee[<`\\xef\\xe6\\x8e\\xe9\\x8e\\x99\\x00\\x00\\xa2\\xc0\\x14\\xc0\\n\\x009\\x008\\x007\\x006\\x00\\x88\\x00\\x87\\x00\\x86\\x00\\x85\\xc0\\x19\\x00:\\x00\\x89\\xc0\\x0f\\xc0\\x05\\x005\\x00\\x84\\xc0\\x13\\xc0\\t\\x003\\x002\\x001\\x000\\x00\\x9a\\x00\\x99\\x00\\x98\\x00\\x97\\x00E\\x00D\\x00C\\x00B\\xc0\\x18\\x004\\x00\\x9b\\x00F\\xc0\\x0e\\xc0\\x04\\x00/\\x00\\x96\\x00A\\x00\\x07\\xc0\\x11\\xc0\\x07\\xc0\\x16\\x00\\x18\\xc0\\x0c\\xc0\\x02\\x00\\x05\\x00\\x04\\xc0\\x12\\xc0\\x08\\x00\\x16\\x00\\x13\\x00\\x10\\x00\\r\\xc0\\x17\\x00\\x1b\\xc0\\r\\xc0\\x03\\x00\\n\\x00\\x15\\x00\\x12\\x00\\x0f\\x00\\x0c\\x00\\x1a\\x00\\t\\x00\\x14\\x00\\x11\\x00\\x19\\x00\\x08\\x00\\x06\\x00\\x17\\x00\\x03\\xc0\\x10\\xc0\\x06\\xc0\\x15\\xc0\\x0b\\xc0\\x01\\x00\\x02\\x00\\x01\\x00\\xff\\x02\\x01\\x00\\x00C\\x00\\x00\\x00\\x0e\\x00\\x0c\\x00\\x00\\t127.0.0.1\\x00\\x0b\\x00\\x04\\x03\\x00\\x01\\x02\\x00\\n\\x00\\x1c\\x00\\x1a\\x00\\x17\\x00\\x19\\x00\\x1c\\x00\\x1b\\x00\\x18\\x00\\x1a\\x00\\x16\\x00\\x0e\\x00\\r\\x00\\x0b\\x00\\x0c\\x00\\t\\x00\\n\\x00']\n",
      "Bad pipe message: %s [b'\\xd2\\x85\\xda\\x9f\\xe2VsvO;I\\xabd\\x16\\x03)\\x99\\x0c\\x00\\x00>\\xc0\\x14\\xc0\\n\\x009\\x008\\x007\\x006\\xc0\\x0f\\xc0\\x05\\x005\\xc0\\x13\\xc0\\t\\x003\\x002\\x001\\x000\\xc0\\x0e\\xc0\\x04\\x00/\\x00\\x9a\\x00\\x99\\x00\\x98\\x00\\x97\\x00\\x96\\x00\\x07\\xc0\\x11\\xc0', b'\\x0c\\xc0\\x02\\x00\\x05\\x00']\n",
      "Bad pipe message: %s [b'6b\\xebTZ\\x82\\x12\\xdb{&\\xb9f\\xd0\\xc3\\x98\\x1b\\x8a\\x9b\\x00\\x00', b\"0\\xc0,\\xc0(\\xc0$\\xc0\\x14\\xc0\\n\\x00\\xa5\\x00\\xa3\\x00\\xa1\\x00\\x9f\\x00k\\x00j\\x00i\\x00h\\x009\\x008\\x007\\x006\\xc02\\xc0.\\xc0*\\xc0&\\xc0\\x0f\\xc0\\x05\\x00\\x9d\\x00=\\x005\\xc0/\\xc0+\\xc0'\\xc0#\\xc0\\x13\\xc0\\t\\x00\\xa4\\x00\\xa2\\x00\\xa0\\x00\\x9e\\x00g\\x00@\\x00?\\x00>\\x003\\x002\\x001\\x000\\xc01\\xc0-\\xc0)\\xc0%\\xc0\\x0e\\xc0\\x04\\x00\\x9c\\x00<\\x00/\\x00\\x9a\\x00\\x99\\x00\\x98\\x00\\x97\\x00\\x96\\x00\\x07\\xc0\\x11\\xc0\\x07\\xc0\\x0c\\xc0\\x02\\x00\\x05\\x00\\x04\\x00\\xff\"]\n",
      "Bad pipe message: %s [b'\\x1c\\x00\\x1b\\x00\\x18\\x00\\x1a\\x00\\x16\\x00\\x0e\\x00\\r\\x00\\x0b\\x00\\x0c\\x00\\t\\x00\\n\\x00#\\x00']\n",
      "Bad pipe message: %s [b'#\\x00\\x00\\x00\\x0f\\x00\\x01\\x01\\x15']\n",
      "Bad pipe message: %s [b'\\xff\\x02\\x01']\n",
      "Bad pipe message: %s [b'\\x00\\x02']\n",
      "Bad pipe message: %s [b\"\\xa7\\xde\\xad\\xb9\\x7f\\x81\\xc1H\\x81\\xcaN\\xa9z/y\\xba/\\xc6\\x00\\x00\\xf4\\xc00\\xc0,\\xc0(\\xc0$\\xc0\\x14\\xc0\\n\\x00\\xa5\\x00\\xa3\\x00\\xa1\\x00\\x9f\\x00k\\x00j\\x00i\\x00h\\x009\\x008\\x007\\x006\\x00\\x88\\x00\\x87\\x00\\x86\\x00\\x85\\xc0\\x19\\x00\\xa7\\x00m\\x00:\\x00\\x89\\xc02\\xc0.\\xc0*\\xc0&\\xc0\\x0f\\xc0\\x05\\x00\\x9d\\x00=\\x005\\x00\\x84\\xc0/\\xc0+\\xc0'\\xc0#\\xc0\\x13\\xc0\\t\\x00\\xa4\\x00\\xa2\\x00\\xa0\\x00\\x9e\\x00g\\x00@\\x00?\\x00>\\x003\\x002\\x001\\x000\\x00\\x9a\\x00\\x99\\x00\\x98\\x00\\x97\\x00E\\x00D\\x00C\\x00B\\xc0\\x18\\x00\\xa6\\x00l\\x004\\x00\\x9b\\x00F\\xc01\\xc0-\\xc0)\\xc0%\\xc0\\x0e\\xc0\\x04\\x00\\x9c\\x00<\\x00/\\x00\\x96\\x00A\\x00\\x07\\xc0\\x11\\xc0\\x07\\xc0\\x16\\x00\\x18\\xc0\\x0c\\xc0\\x02\\x00\\x05\\x00\\x04\\xc0\\x12\\xc0\\x08\\x00\\x16\\x00\\x13\\x00\\x10\\x00\\r\\xc0\\x17\\x00\\x1b\\xc0\\r\\xc0\\x03\\x00\\n\\x00\\x15\\x00\\x12\\x00\\x0f\\x00\\x0c\\x00\\x1a\\x00\\t\\x00\\x14\\x00\\x11\\x00\\x19\\x00\\x08\\x00\\x06\\x00\\x17\\x00\\x03\\xc0\\x10\\xc0\\x06\"]\n",
      "5it [02:39, 31.90s/it]\n",
      "5it [02:30, 30.18s/it]\n",
      "5it [02:28, 29.65s/it]\n",
      "5it [02:30, 30.10s/it]\n",
      "5it [02:29, 29.99s/it]\n",
      "5it [02:29, 29.82s/it]\n",
      "5it [02:29, 29.95s/it]"
     ]
    },
    {
     "name": "stdout",
     "output_type": "stream",
     "text": [
      "Average Test Accuracy:  0.79\n"
     ]
    },
    {
     "name": "stderr",
     "output_type": "stream",
     "text": [
      "\n"
     ]
    }
   ],
   "source": [
    "studentspecificCV(df,verb=False, model_type = 'random forest', target = 'user-definedlabel')"
   ]
  },
  {
   "cell_type": "code",
   "execution_count": 18,
   "id": "8eb23eb3-6321-4d76-9312-883f9e5c3e06",
   "metadata": {},
   "outputs": [
    {
     "name": "stderr",
     "output_type": "stream",
     "text": [
      "5it [02:30, 30.12s/it]\n",
      "5it [02:29, 29.93s/it]\n",
      "5it [02:28, 29.78s/it]\n",
      "5it [02:29, 29.93s/it]\n",
      "5it [02:31, 30.34s/it]\n",
      "5it [02:27, 29.51s/it]\n",
      "5it [02:29, 29.88s/it]\n",
      "5it [02:35, 31.13s/it]\n",
      "5it [02:34, 30.97s/it]\n",
      "5it [02:45, 33.08s/it]"
     ]
    },
    {
     "name": "stdout",
     "output_type": "stream",
     "text": [
      "Average Test Accuracy:  0.5\n"
     ]
    },
    {
     "name": "stderr",
     "output_type": "stream",
     "text": [
      "\n"
     ]
    }
   ],
   "source": [
    "studentspecificCV(df,verb=False, model_type = 'random forest', target = 'predefinedlabel')"
   ]
  },
  {
   "cell_type": "markdown",
   "id": "f4c04e8d-3cd2-4716-8b82-b76cffd173e6",
   "metadata": {},
   "source": [
    "# Decision Tree"
   ]
  },
  {
   "cell_type": "code",
   "execution_count": 24,
   "id": "b11b63f9-78ff-4c06-8a96-0203380f639f",
   "metadata": {},
   "outputs": [
    {
     "name": "stderr",
     "output_type": "stream",
     "text": [
      "3it [00:00, 16.05it/s]"
     ]
    },
    {
     "name": "stdout",
     "output_type": "stream",
     "text": [
      "Training: Best Hyperparameters: {'criterion': 'entropy', 'splitter': 'random'}\n",
      "Training: Best Accuracy Score: 0.875\n",
      "Training: Best Hyperparameters: {'criterion': 'log_loss', 'splitter': 'random'}\n",
      "Training: Best Accuracy Score: 0.875\n",
      "Training: Best Hyperparameters: {'criterion': 'entropy', 'splitter': 'random'}\n",
      "Training: Best Accuracy Score: 0.75\n"
     ]
    },
    {
     "name": "stderr",
     "output_type": "stream",
     "text": [
      "5it [00:00, 15.53it/s]\n"
     ]
    },
    {
     "name": "stdout",
     "output_type": "stream",
     "text": [
      "Training: Best Hyperparameters: {'criterion': 'gini', 'splitter': 'random'}\n",
      "Training: Best Accuracy Score: 0.875\n",
      "Training: Best Hyperparameters: {'criterion': 'entropy', 'splitter': 'random'}\n",
      "Training: Best Accuracy Score: 0.75\n"
     ]
    },
    {
     "name": "stderr",
     "output_type": "stream",
     "text": [
      "5it [00:00, 43.97it/s]\n"
     ]
    },
    {
     "name": "stdout",
     "output_type": "stream",
     "text": [
      "Training: Best Hyperparameters: {'criterion': 'log_loss', 'splitter': 'random'}\n",
      "Training: Best Accuracy Score: 1.0\n",
      "Training: Best Hyperparameters: {'criterion': 'entropy', 'splitter': 'best'}\n",
      "Training: Best Accuracy Score: 1.0\n",
      "Training: Best Hyperparameters: {'criterion': 'log_loss', 'splitter': 'best'}\n",
      "Training: Best Accuracy Score: 0.875\n",
      "Training: Best Hyperparameters: {'criterion': 'log_loss', 'splitter': 'random'}\n",
      "Training: Best Accuracy Score: 0.875\n",
      "Training: Best Hyperparameters: {'criterion': 'log_loss', 'splitter': 'best'}\n",
      "Training: Best Accuracy Score: 1.0\n"
     ]
    },
    {
     "name": "stderr",
     "output_type": "stream",
     "text": [
      "5it [00:00, 45.65it/s]"
     ]
    },
    {
     "name": "stdout",
     "output_type": "stream",
     "text": [
      "Training: Best Hyperparameters: {'criterion': 'gini', 'splitter': 'random'}\n",
      "Training: Best Accuracy Score: 0.875\n",
      "Training: Best Hyperparameters: {'criterion': 'gini', 'splitter': 'random'}\n",
      "Training: Best Accuracy Score: 0.875\n",
      "Training: Best Hyperparameters: {'criterion': 'gini', 'splitter': 'best'}\n",
      "Training: Best Accuracy Score: 1.0\n",
      "Training: Best Hyperparameters: {'criterion': 'gini', 'splitter': 'best'}\n",
      "Training: Best Accuracy Score: 0.75\n",
      "Training: Best Hyperparameters: {'criterion': 'gini', 'splitter': 'best'}\n",
      "Training: Best Accuracy Score: 0.75\n"
     ]
    },
    {
     "name": "stderr",
     "output_type": "stream",
     "text": [
      "\n",
      "5it [00:00, 47.67it/s]"
     ]
    },
    {
     "name": "stdout",
     "output_type": "stream",
     "text": [
      "Training: Best Hyperparameters: {'criterion': 'gini', 'splitter': 'best'}\n",
      "Training: Best Accuracy Score: 0.875\n",
      "Training: Best Hyperparameters: {'criterion': 'gini', 'splitter': 'best'}\n",
      "Training: Best Accuracy Score: 0.875\n",
      "Training: Best Hyperparameters: {'criterion': 'gini', 'splitter': 'best'}\n",
      "Training: Best Accuracy Score: 0.875\n",
      "Training: Best Hyperparameters: {'criterion': 'entropy', 'splitter': 'random'}\n",
      "Training: Best Accuracy Score: 1.0\n",
      "Training: Best Hyperparameters: {'criterion': 'gini', 'splitter': 'random'}\n",
      "Training: Best Accuracy Score: 0.75\n"
     ]
    },
    {
     "name": "stderr",
     "output_type": "stream",
     "text": [
      "\n",
      "0it [00:00, ?it/s]"
     ]
    },
    {
     "name": "stdout",
     "output_type": "stream",
     "text": [
      "Training: Best Hyperparameters: {'criterion': 'log_loss', 'splitter': 'best'}\n",
      "Training: Best Accuracy Score: 0.75\n",
      "Training: Best Hyperparameters: {'criterion': 'gini', 'splitter': 'random'}\n",
      "Training: Best Accuracy Score: 0.625\n",
      "Training: Best Hyperparameters: {'criterion': 'entropy', 'splitter': 'best'}\n",
      "Training: Best Accuracy Score: 0.75\n",
      "Training: Best Hyperparameters: {'criterion': 'entropy', 'splitter': 'best'}\n",
      "Training: Best Accuracy Score: 0.75\n"
     ]
    },
    {
     "name": "stderr",
     "output_type": "stream",
     "text": [
      "5it [00:00, 40.66it/s]\n"
     ]
    },
    {
     "name": "stdout",
     "output_type": "stream",
     "text": [
      "Training: Best Hyperparameters: {'criterion': 'gini', 'splitter': 'random'}\n",
      "Training: Best Accuracy Score: 0.875\n"
     ]
    },
    {
     "name": "stderr",
     "output_type": "stream",
     "text": [
      "0it [00:00, ?it/s]"
     ]
    },
    {
     "name": "stdout",
     "output_type": "stream",
     "text": [
      "Training: Best Hyperparameters: {'criterion': 'gini', 'splitter': 'best'}\n",
      "Training: Best Accuracy Score: 1.0\n",
      "Training: Best Hyperparameters: {'criterion': 'gini', 'splitter': 'best'}\n",
      "Training: Best Accuracy Score: 1.0\n",
      "Training: Best Hyperparameters: {'criterion': 'entropy', 'splitter': 'best'}\n",
      "Training: Best Accuracy Score: 1.0\n"
     ]
    },
    {
     "name": "stderr",
     "output_type": "stream",
     "text": [
      "5it [00:00, 38.95it/s]\n"
     ]
    },
    {
     "name": "stdout",
     "output_type": "stream",
     "text": [
      "Training: Best Hyperparameters: {'criterion': 'gini', 'splitter': 'random'}\n",
      "Training: Best Accuracy Score: 1.0\n",
      "Training: Best Hyperparameters: {'criterion': 'gini', 'splitter': 'best'}\n",
      "Training: Best Accuracy Score: 1.0\n"
     ]
    },
    {
     "name": "stderr",
     "output_type": "stream",
     "text": [
      "0it [00:00, ?it/s]"
     ]
    },
    {
     "name": "stdout",
     "output_type": "stream",
     "text": [
      "Training: Best Hyperparameters: {'criterion': 'gini', 'splitter': 'random'}\n",
      "Training: Best Accuracy Score: 0.875\n",
      "Training: Best Hyperparameters: {'criterion': 'entropy', 'splitter': 'random'}\n",
      "Training: Best Accuracy Score: 0.75\n",
      "Training: Best Hyperparameters: {'criterion': 'entropy', 'splitter': 'best'}\n",
      "Training: Best Accuracy Score: 0.75\n",
      "Training: Best Hyperparameters: {'criterion': 'log_loss', 'splitter': 'best'}\n",
      "Training: Best Accuracy Score: 0.75\n"
     ]
    },
    {
     "name": "stderr",
     "output_type": "stream",
     "text": [
      "5it [00:00, 43.56it/s]\n"
     ]
    },
    {
     "name": "stdout",
     "output_type": "stream",
     "text": [
      "Training: Best Hyperparameters: {'criterion': 'entropy', 'splitter': 'best'}\n",
      "Training: Best Accuracy Score: 0.75\n"
     ]
    },
    {
     "name": "stderr",
     "output_type": "stream",
     "text": [
      "0it [00:00, ?it/s]"
     ]
    },
    {
     "name": "stdout",
     "output_type": "stream",
     "text": [
      "Training: Best Hyperparameters: {'criterion': 'gini', 'splitter': 'best'}\n",
      "Training: Best Accuracy Score: 1.0\n",
      "Training: Best Hyperparameters: {'criterion': 'gini', 'splitter': 'best'}\n",
      "Training: Best Accuracy Score: 0.75\n",
      "Training: Best Hyperparameters: {'criterion': 'entropy', 'splitter': 'random'}\n",
      "Training: Best Accuracy Score: 1.0\n",
      "Training: Best Hyperparameters: {'criterion': 'gini', 'splitter': 'best'}\n",
      "Training: Best Accuracy Score: 0.75\n"
     ]
    },
    {
     "name": "stderr",
     "output_type": "stream",
     "text": [
      "5it [00:00, 42.37it/s]\n"
     ]
    },
    {
     "name": "stdout",
     "output_type": "stream",
     "text": [
      "Training: Best Hyperparameters: {'criterion': 'gini', 'splitter': 'best'}\n",
      "Training: Best Accuracy Score: 0.75\n"
     ]
    },
    {
     "name": "stderr",
     "output_type": "stream",
     "text": [
      "0it [00:00, ?it/s]"
     ]
    },
    {
     "name": "stdout",
     "output_type": "stream",
     "text": [
      "Training: Best Hyperparameters: {'criterion': 'gini', 'splitter': 'best'}\n",
      "Training: Best Accuracy Score: 1.0\n",
      "Training: Best Hyperparameters: {'criterion': 'gini', 'splitter': 'best'}\n",
      "Training: Best Accuracy Score: 1.0\n",
      "Training: Best Hyperparameters: {'criterion': 'entropy', 'splitter': 'best'}\n",
      "Training: Best Accuracy Score: 1.0\n",
      "Training: Best Hyperparameters: {'criterion': 'gini', 'splitter': 'random'}\n",
      "Training: Best Accuracy Score: 1.0\n"
     ]
    },
    {
     "name": "stderr",
     "output_type": "stream",
     "text": [
      "5it [00:00, 44.65it/s]\n"
     ]
    },
    {
     "name": "stdout",
     "output_type": "stream",
     "text": [
      "Training: Best Hyperparameters: {'criterion': 'gini', 'splitter': 'best'}\n",
      "Training: Best Accuracy Score: 1.0\n"
     ]
    },
    {
     "name": "stderr",
     "output_type": "stream",
     "text": [
      "0it [00:00, ?it/s]"
     ]
    },
    {
     "name": "stdout",
     "output_type": "stream",
     "text": [
      "Training: Best Hyperparameters: {'criterion': 'entropy', 'splitter': 'random'}\n",
      "Training: Best Accuracy Score: 0.625\n",
      "Training: Best Hyperparameters: {'criterion': 'log_loss', 'splitter': 'best'}\n",
      "Training: Best Accuracy Score: 1.0\n",
      "Training: Best Hyperparameters: {'criterion': 'log_loss', 'splitter': 'best'}\n",
      "Training: Best Accuracy Score: 0.75\n"
     ]
    },
    {
     "name": "stderr",
     "output_type": "stream",
     "text": [
      "4it [00:00, 34.33it/s]"
     ]
    },
    {
     "name": "stdout",
     "output_type": "stream",
     "text": [
      "Training: Best Hyperparameters: {'criterion': 'gini', 'splitter': 'best'}\n",
      "Training: Best Accuracy Score: 0.875\n"
     ]
    },
    {
     "name": "stderr",
     "output_type": "stream",
     "text": [
      "5it [00:00, 35.64it/s]"
     ]
    },
    {
     "name": "stdout",
     "output_type": "stream",
     "text": [
      "Training: Best Hyperparameters: {'criterion': 'log_loss', 'splitter': 'random'}\n",
      "Training: Best Accuracy Score: 0.875\n",
      "Average Test Accuracy:  0.77\n"
     ]
    },
    {
     "name": "stderr",
     "output_type": "stream",
     "text": [
      "\n"
     ]
    }
   ],
   "source": [
    "studentspecificCV(df,verb=False, model_type = 'decision tree', target = 'user-definedlabel')"
   ]
  },
  {
   "cell_type": "code",
   "execution_count": 20,
   "id": "4f9494e6-e3d8-4eb4-88b1-06555a2ca128",
   "metadata": {},
   "outputs": [
    {
     "name": "stderr",
     "output_type": "stream",
     "text": [
      "5it [00:00, 36.57it/s]\n",
      "5it [00:00, 44.99it/s]\n",
      "5it [00:00, 43.28it/s]\n",
      "5it [00:00, 45.09it/s]\n",
      "5it [00:00, 44.08it/s]\n",
      "5it [00:00, 45.37it/s]\n",
      "5it [00:00, 46.22it/s]\n",
      "5it [00:00, 45.55it/s]\n",
      "5it [00:00, 44.06it/s]\n",
      "5it [00:00, 44.12it/s]"
     ]
    },
    {
     "name": "stdout",
     "output_type": "stream",
     "text": [
      "Average Test Accuracy:  0.47\n"
     ]
    },
    {
     "name": "stderr",
     "output_type": "stream",
     "text": [
      "\n"
     ]
    }
   ],
   "source": [
    "studentspecificCV(df,verb=False, model_type = 'decision tree', target = 'predefinedlabel')"
   ]
  },
  {
   "cell_type": "markdown",
   "id": "e151e779-467e-472e-94e3-fc57a2f862c3",
   "metadata": {},
   "source": [
    "# Naive Bayes"
   ]
  },
  {
   "cell_type": "code",
   "execution_count": 21,
   "id": "a19d617f-834f-4a17-a549-1bfa8093e31e",
   "metadata": {},
   "outputs": [
    {
     "name": "stderr",
     "output_type": "stream",
     "text": [
      "5it [00:00, 83.08it/s]\n",
      "5it [00:00, 125.39it/s]\n",
      "5it [00:00, 114.69it/s]\n",
      "5it [00:00, 153.32it/s]\n",
      "5it [00:00, 115.49it/s]\n",
      "5it [00:00, 150.15it/s]\n",
      "5it [00:00, 141.41it/s]\n",
      "5it [00:00, 127.23it/s]\n",
      "5it [00:00, 124.20it/s]\n",
      "5it [00:00, 103.77it/s]"
     ]
    },
    {
     "name": "stdout",
     "output_type": "stream",
     "text": [
      "Average Test Accuracy:  0.66\n"
     ]
    },
    {
     "name": "stderr",
     "output_type": "stream",
     "text": [
      "\n"
     ]
    }
   ],
   "source": [
    "studentspecificCV(df,verb=False, model_type = 'naivebayes', target = 'user-definedlabel')"
   ]
  },
  {
   "cell_type": "code",
   "execution_count": 22,
   "id": "241fb1bc-7109-4c1f-ad6e-fe0fcdf003c0",
   "metadata": {},
   "outputs": [
    {
     "name": "stderr",
     "output_type": "stream",
     "text": [
      "5it [00:00, 124.88it/s]\n",
      "5it [00:00, 98.43it/s]\n",
      "5it [00:00, 131.17it/s]\n",
      "5it [00:00, 126.63it/s]\n",
      "5it [00:00, 106.28it/s]\n",
      "5it [00:00, 154.86it/s]\n",
      "5it [00:00, 113.45it/s]\n",
      "5it [00:00, 130.81it/s]\n",
      "5it [00:00, 113.28it/s]\n",
      "5it [00:00, 142.18it/s]"
     ]
    },
    {
     "name": "stdout",
     "output_type": "stream",
     "text": [
      "Average Test Accuracy:  0.46\n"
     ]
    },
    {
     "name": "stderr",
     "output_type": "stream",
     "text": [
      "\n"
     ]
    }
   ],
   "source": [
    "studentspecificCV(df,verb=False, model_type = 'naivebayes', target = 'predefinedlabel')"
   ]
  },
  {
   "cell_type": "code",
   "execution_count": null,
   "id": "2f095e6c-03ac-4ff7-8a5b-e7f31ca5d847",
   "metadata": {},
   "outputs": [],
   "source": []
  }
 ],
 "metadata": {
  "kernelspec": {
   "display_name": "Python 3 (ipykernel)",
   "language": "python",
   "name": "python3"
  },
  "language_info": {
   "codemirror_mode": {
    "name": "ipython",
    "version": 3
   },
   "file_extension": ".py",
   "mimetype": "text/x-python",
   "name": "python",
   "nbconvert_exporter": "python",
   "pygments_lexer": "ipython3",
   "version": "3.10.4"
  }
 },
 "nbformat": 4,
 "nbformat_minor": 5
}
