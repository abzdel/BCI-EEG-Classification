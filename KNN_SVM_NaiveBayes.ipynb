{
 "cells": [
  {
   "cell_type": "markdown",
   "id": "f52bb7cb-af2f-47bb-9c07-c5ae2ded6d1a",
   "metadata": {},
   "source": [
    "# Using KNN, SVM, Naive Bayes on the Means of the Channels as Features \n",
    "Like from the paper: http://www.cs.cmu.edu/~kkchang/paper/WangEtAl.2013.AIED.EEG-MOOC.pdf\n"
   ]
  },
  {
   "cell_type": "code",
   "execution_count": 1,
   "id": "d4b43cb3-3c2f-4b89-b3ef-73888578f034",
   "metadata": {},
   "outputs": [],
   "source": [
    "# import the toolboxes \n",
    "import numpy as np \n",
    "import pandas as pd\n",
    "import os\n",
    "from sklearn.neighbors import KNeighborsClassifier\n",
    "from sklearn.svm import LinearSVC\n",
    "from sklearn.naive_bayes import GaussianNB\n",
    "from sklearn.model_selection import GridSearchCV\n",
    "from sklearn.model_selection import train_test_split\n",
    "from sklearn.metrics import accuracy_score\n",
    "from sklearn.model_selection import KFold\n",
    "from tqdm import tqdm"
   ]
  },
  {
   "cell_type": "code",
   "execution_count": 2,
   "id": "8a076a2e-99c1-4bd0-b0ef-ed6d697418f9",
   "metadata": {},
   "outputs": [],
   "source": [
    "directory = '/Users/amandabreton/Documents/Duke 2022-2023/ECE 590/Final Project/'\n",
    "filename = 'meanfeatures.csv'\n",
    "\n",
    "df = pd.read_csv(directory+filename, index_col=0)"
   ]
  },
  {
   "cell_type": "code",
   "execution_count": 3,
   "id": "09f0ac86-ac54-494b-baa4-d5ba7a6eba04",
   "metadata": {},
   "outputs": [
    {
     "data": {
      "text/html": [
       "<div>\n",
       "<style scoped>\n",
       "    .dataframe tbody tr th:only-of-type {\n",
       "        vertical-align: middle;\n",
       "    }\n",
       "\n",
       "    .dataframe tbody tr th {\n",
       "        vertical-align: top;\n",
       "    }\n",
       "\n",
       "    .dataframe thead th {\n",
       "        text-align: right;\n",
       "    }\n",
       "</style>\n",
       "<table border=\"1\" class=\"dataframe\">\n",
       "  <thead>\n",
       "    <tr style=\"text-align: right;\">\n",
       "      <th></th>\n",
       "      <th>SubjectID</th>\n",
       "      <th>VideoID</th>\n",
       "      <th>user-definedlabel</th>\n",
       "      <th>Attention</th>\n",
       "      <th>Mediation</th>\n",
       "      <th>Raw</th>\n",
       "      <th>Delta</th>\n",
       "      <th>Theta</th>\n",
       "      <th>Alpha1</th>\n",
       "      <th>Alpha2</th>\n",
       "      <th>Beta1</th>\n",
       "      <th>Beta2</th>\n",
       "      <th>Gamma1</th>\n",
       "      <th>Gamma2</th>\n",
       "    </tr>\n",
       "  </thead>\n",
       "  <tbody>\n",
       "    <tr>\n",
       "      <th>0</th>\n",
       "      <td>0.0</td>\n",
       "      <td>0.0</td>\n",
       "      <td>0.0</td>\n",
       "      <td>55.256944</td>\n",
       "      <td>53.826389</td>\n",
       "      <td>46.986111</td>\n",
       "      <td>544315.097222</td>\n",
       "      <td>124965.590278</td>\n",
       "      <td>36693.701389</td>\n",
       "      <td>25875.298611</td>\n",
       "      <td>20108.791667</td>\n",
       "      <td>40268.763889</td>\n",
       "      <td>40729.284722</td>\n",
       "      <td>16817.062500</td>\n",
       "    </tr>\n",
       "    <tr>\n",
       "      <th>1</th>\n",
       "      <td>0.0</td>\n",
       "      <td>1.0</td>\n",
       "      <td>1.0</td>\n",
       "      <td>43.621429</td>\n",
       "      <td>48.621429</td>\n",
       "      <td>28.800000</td>\n",
       "      <td>739737.292857</td>\n",
       "      <td>161064.228571</td>\n",
       "      <td>34918.028571</td>\n",
       "      <td>25078.935714</td>\n",
       "      <td>22157.307143</td>\n",
       "      <td>37410.728571</td>\n",
       "      <td>36758.700000</td>\n",
       "      <td>14519.407143</td>\n",
       "    </tr>\n",
       "    <tr>\n",
       "      <th>2</th>\n",
       "      <td>0.0</td>\n",
       "      <td>2.0</td>\n",
       "      <td>1.0</td>\n",
       "      <td>43.978873</td>\n",
       "      <td>47.316901</td>\n",
       "      <td>13.154930</td>\n",
       "      <td>694078.084507</td>\n",
       "      <td>149816.873239</td>\n",
       "      <td>30493.873239</td>\n",
       "      <td>21667.591549</td>\n",
       "      <td>21888.338028</td>\n",
       "      <td>36446.436620</td>\n",
       "      <td>33908.873239</td>\n",
       "      <td>14545.845070</td>\n",
       "    </tr>\n",
       "    <tr>\n",
       "      <th>3</th>\n",
       "      <td>0.0</td>\n",
       "      <td>3.0</td>\n",
       "      <td>0.0</td>\n",
       "      <td>51.057377</td>\n",
       "      <td>51.844262</td>\n",
       "      <td>34.713115</td>\n",
       "      <td>600823.688525</td>\n",
       "      <td>162653.360656</td>\n",
       "      <td>33367.278689</td>\n",
       "      <td>26281.500000</td>\n",
       "      <td>17224.278689</td>\n",
       "      <td>43706.524590</td>\n",
       "      <td>41438.213115</td>\n",
       "      <td>16558.631148</td>\n",
       "    </tr>\n",
       "    <tr>\n",
       "      <th>4</th>\n",
       "      <td>0.0</td>\n",
       "      <td>4.0</td>\n",
       "      <td>0.0</td>\n",
       "      <td>55.224138</td>\n",
       "      <td>47.474138</td>\n",
       "      <td>30.008621</td>\n",
       "      <td>546628.017241</td>\n",
       "      <td>126893.948276</td>\n",
       "      <td>23113.844828</td>\n",
       "      <td>17017.051724</td>\n",
       "      <td>15955.879310</td>\n",
       "      <td>36427.836207</td>\n",
       "      <td>36024.818966</td>\n",
       "      <td>14752.655172</td>\n",
       "    </tr>\n",
       "  </tbody>\n",
       "</table>\n",
       "</div>"
      ],
      "text/plain": [
       "   SubjectID  VideoID  user-definedlabel  Attention  Mediation        Raw  \\\n",
       "0        0.0      0.0                0.0  55.256944  53.826389  46.986111   \n",
       "1        0.0      1.0                1.0  43.621429  48.621429  28.800000   \n",
       "2        0.0      2.0                1.0  43.978873  47.316901  13.154930   \n",
       "3        0.0      3.0                0.0  51.057377  51.844262  34.713115   \n",
       "4        0.0      4.0                0.0  55.224138  47.474138  30.008621   \n",
       "\n",
       "           Delta          Theta        Alpha1        Alpha2         Beta1  \\\n",
       "0  544315.097222  124965.590278  36693.701389  25875.298611  20108.791667   \n",
       "1  739737.292857  161064.228571  34918.028571  25078.935714  22157.307143   \n",
       "2  694078.084507  149816.873239  30493.873239  21667.591549  21888.338028   \n",
       "3  600823.688525  162653.360656  33367.278689  26281.500000  17224.278689   \n",
       "4  546628.017241  126893.948276  23113.844828  17017.051724  15955.879310   \n",
       "\n",
       "          Beta2        Gamma1        Gamma2  \n",
       "0  40268.763889  40729.284722  16817.062500  \n",
       "1  37410.728571  36758.700000  14519.407143  \n",
       "2  36446.436620  33908.873239  14545.845070  \n",
       "3  43706.524590  41438.213115  16558.631148  \n",
       "4  36427.836207  36024.818966  14752.655172  "
      ]
     },
     "execution_count": 3,
     "metadata": {},
     "output_type": "execute_result"
    }
   ],
   "source": [
    "df.head()"
   ]
  },
  {
   "cell_type": "code",
   "execution_count": 4,
   "id": "a2ee5a22-c85b-482b-b89e-7273e646ca6b",
   "metadata": {},
   "outputs": [
    {
     "data": {
      "text/plain": [
       "(100, 14)"
      ]
     },
     "execution_count": 4,
     "metadata": {},
     "output_type": "execute_result"
    }
   ],
   "source": [
    "df.shape"
   ]
  },
  {
   "cell_type": "code",
   "execution_count": 5,
   "id": "41938de1-482a-4317-aaf4-2502e8ef11f7",
   "metadata": {},
   "outputs": [
    {
     "data": {
      "text/html": [
       "<div>\n",
       "<style scoped>\n",
       "    .dataframe tbody tr th:only-of-type {\n",
       "        vertical-align: middle;\n",
       "    }\n",
       "\n",
       "    .dataframe tbody tr th {\n",
       "        vertical-align: top;\n",
       "    }\n",
       "\n",
       "    .dataframe thead th {\n",
       "        text-align: right;\n",
       "    }\n",
       "</style>\n",
       "<table border=\"1\" class=\"dataframe\">\n",
       "  <thead>\n",
       "    <tr style=\"text-align: right;\">\n",
       "      <th></th>\n",
       "      <th>Attention</th>\n",
       "      <th>Mediation</th>\n",
       "      <th>Raw</th>\n",
       "      <th>Delta</th>\n",
       "      <th>Theta</th>\n",
       "      <th>Alpha1</th>\n",
       "      <th>Alpha2</th>\n",
       "      <th>Beta1</th>\n",
       "      <th>Beta2</th>\n",
       "      <th>Gamma1</th>\n",
       "      <th>Gamma2</th>\n",
       "    </tr>\n",
       "  </thead>\n",
       "  <tbody>\n",
       "    <tr>\n",
       "      <th>0</th>\n",
       "      <td>55.256944</td>\n",
       "      <td>53.826389</td>\n",
       "      <td>46.986111</td>\n",
       "      <td>544315.097222</td>\n",
       "      <td>124965.590278</td>\n",
       "      <td>36693.701389</td>\n",
       "      <td>25875.298611</td>\n",
       "      <td>20108.791667</td>\n",
       "      <td>40268.763889</td>\n",
       "      <td>40729.284722</td>\n",
       "      <td>16817.062500</td>\n",
       "    </tr>\n",
       "    <tr>\n",
       "      <th>1</th>\n",
       "      <td>43.621429</td>\n",
       "      <td>48.621429</td>\n",
       "      <td>28.800000</td>\n",
       "      <td>739737.292857</td>\n",
       "      <td>161064.228571</td>\n",
       "      <td>34918.028571</td>\n",
       "      <td>25078.935714</td>\n",
       "      <td>22157.307143</td>\n",
       "      <td>37410.728571</td>\n",
       "      <td>36758.700000</td>\n",
       "      <td>14519.407143</td>\n",
       "    </tr>\n",
       "    <tr>\n",
       "      <th>2</th>\n",
       "      <td>43.978873</td>\n",
       "      <td>47.316901</td>\n",
       "      <td>13.154930</td>\n",
       "      <td>694078.084507</td>\n",
       "      <td>149816.873239</td>\n",
       "      <td>30493.873239</td>\n",
       "      <td>21667.591549</td>\n",
       "      <td>21888.338028</td>\n",
       "      <td>36446.436620</td>\n",
       "      <td>33908.873239</td>\n",
       "      <td>14545.845070</td>\n",
       "    </tr>\n",
       "    <tr>\n",
       "      <th>3</th>\n",
       "      <td>51.057377</td>\n",
       "      <td>51.844262</td>\n",
       "      <td>34.713115</td>\n",
       "      <td>600823.688525</td>\n",
       "      <td>162653.360656</td>\n",
       "      <td>33367.278689</td>\n",
       "      <td>26281.500000</td>\n",
       "      <td>17224.278689</td>\n",
       "      <td>43706.524590</td>\n",
       "      <td>41438.213115</td>\n",
       "      <td>16558.631148</td>\n",
       "    </tr>\n",
       "    <tr>\n",
       "      <th>4</th>\n",
       "      <td>55.224138</td>\n",
       "      <td>47.474138</td>\n",
       "      <td>30.008621</td>\n",
       "      <td>546628.017241</td>\n",
       "      <td>126893.948276</td>\n",
       "      <td>23113.844828</td>\n",
       "      <td>17017.051724</td>\n",
       "      <td>15955.879310</td>\n",
       "      <td>36427.836207</td>\n",
       "      <td>36024.818966</td>\n",
       "      <td>14752.655172</td>\n",
       "    </tr>\n",
       "  </tbody>\n",
       "</table>\n",
       "</div>"
      ],
      "text/plain": [
       "   Attention  Mediation        Raw          Delta          Theta  \\\n",
       "0  55.256944  53.826389  46.986111  544315.097222  124965.590278   \n",
       "1  43.621429  48.621429  28.800000  739737.292857  161064.228571   \n",
       "2  43.978873  47.316901  13.154930  694078.084507  149816.873239   \n",
       "3  51.057377  51.844262  34.713115  600823.688525  162653.360656   \n",
       "4  55.224138  47.474138  30.008621  546628.017241  126893.948276   \n",
       "\n",
       "         Alpha1        Alpha2         Beta1         Beta2        Gamma1  \\\n",
       "0  36693.701389  25875.298611  20108.791667  40268.763889  40729.284722   \n",
       "1  34918.028571  25078.935714  22157.307143  37410.728571  36758.700000   \n",
       "2  30493.873239  21667.591549  21888.338028  36446.436620  33908.873239   \n",
       "3  33367.278689  26281.500000  17224.278689  43706.524590  41438.213115   \n",
       "4  23113.844828  17017.051724  15955.879310  36427.836207  36024.818966   \n",
       "\n",
       "         Gamma2  \n",
       "0  16817.062500  \n",
       "1  14519.407143  \n",
       "2  14545.845070  \n",
       "3  16558.631148  \n",
       "4  14752.655172  "
      ]
     },
     "execution_count": 5,
     "metadata": {},
     "output_type": "execute_result"
    }
   ],
   "source": [
    "X = df.drop(['SubjectID', 'VideoID', 'user-definedlabel'], axis=1)\n",
    "X.head()"
   ]
  },
  {
   "cell_type": "code",
   "execution_count": 6,
   "id": "16c8388d-36d4-40ba-b7bb-84d3e63cadb3",
   "metadata": {},
   "outputs": [
    {
     "data": {
      "text/html": [
       "<div>\n",
       "<style scoped>\n",
       "    .dataframe tbody tr th:only-of-type {\n",
       "        vertical-align: middle;\n",
       "    }\n",
       "\n",
       "    .dataframe tbody tr th {\n",
       "        vertical-align: top;\n",
       "    }\n",
       "\n",
       "    .dataframe thead th {\n",
       "        text-align: right;\n",
       "    }\n",
       "</style>\n",
       "<table border=\"1\" class=\"dataframe\">\n",
       "  <thead>\n",
       "    <tr style=\"text-align: right;\">\n",
       "      <th></th>\n",
       "      <th>user-definedlabel</th>\n",
       "    </tr>\n",
       "  </thead>\n",
       "  <tbody>\n",
       "    <tr>\n",
       "      <th>0</th>\n",
       "      <td>0.0</td>\n",
       "    </tr>\n",
       "    <tr>\n",
       "      <th>1</th>\n",
       "      <td>1.0</td>\n",
       "    </tr>\n",
       "    <tr>\n",
       "      <th>2</th>\n",
       "      <td>1.0</td>\n",
       "    </tr>\n",
       "    <tr>\n",
       "      <th>3</th>\n",
       "      <td>0.0</td>\n",
       "    </tr>\n",
       "    <tr>\n",
       "      <th>4</th>\n",
       "      <td>0.0</td>\n",
       "    </tr>\n",
       "  </tbody>\n",
       "</table>\n",
       "</div>"
      ],
      "text/plain": [
       "   user-definedlabel\n",
       "0                0.0\n",
       "1                1.0\n",
       "2                1.0\n",
       "3                0.0\n",
       "4                0.0"
      ]
     },
     "execution_count": 6,
     "metadata": {},
     "output_type": "execute_result"
    }
   ],
   "source": [
    "y = df[['user-definedlabel']]\n",
    "y.head()"
   ]
  },
  {
   "cell_type": "code",
   "execution_count": 7,
   "id": "094e0a9a-85db-4a67-a57e-414bc20b524c",
   "metadata": {},
   "outputs": [
    {
     "data": {
      "text/plain": [
       "(100,)"
      ]
     },
     "execution_count": 7,
     "metadata": {},
     "output_type": "execute_result"
    }
   ],
   "source": [
    "y = y['user-definedlabel'].values\n",
    "y.shape\n"
   ]
  },
  {
   "cell_type": "code",
   "execution_count": 51,
   "id": "ff4761d3-da13-4a26-9d9d-9ca168e94556",
   "metadata": {},
   "outputs": [
    {
     "data": {
      "text/plain": [
       "array([1.e-11, 1.e-10, 1.e-09, 1.e-08, 1.e-07, 1.e-06, 1.e-05, 1.e-04,\n",
       "       1.e-03, 1.e-02, 1.e-01, 1.e+00, 1.e+01, 1.e+02, 1.e+03, 1.e+04,\n",
       "       1.e+05, 1.e+06])"
      ]
     },
     "execution_count": 51,
     "metadata": {},
     "output_type": "execute_result"
    }
   ],
   "source": [
    "np.logspace(-11,6,18)"
   ]
  },
  {
   "cell_type": "code",
   "execution_count": 8,
   "id": "2ba1a4dd-bf60-40e9-b9bd-237dabfd8dba",
   "metadata": {},
   "outputs": [],
   "source": [
    "X_train, X_test, y_train, y_test = train_test_split(X, y, test_size=0.3)"
   ]
  },
  {
   "cell_type": "code",
   "execution_count": 59,
   "id": "fb80b680-a2ed-4f06-86db-0055e1b7838d",
   "metadata": {},
   "outputs": [],
   "source": [
    "def pick_model(model_type, C=1,verb=False):\n",
    "    if model_type == 'knn':\n",
    "        clf = KNeighborsClassifier(n_neighbors=5)\n",
    "        Ns = [1,5,10,15,20,25,30,35,40,45,50]\n",
    "        param_grid = {\"n_neighbors\": Ns}\n",
    "    elif model_type == 'svm':\n",
    "        clf = LinearSVC(C=C,verbose=verb, max_iter=10000)\n",
    "        Cs = np.logspace(-11,6,18)\n",
    "        param_grid = {\"C\": Cs, \"penalty\": [\"l2\"], \"loss\": ['hinge', 'squared_hinge']}\n",
    "    else: # model_type = naivebayes\n",
    "        clf = GaussianNB()\n",
    "        param_grid = {}\n",
    "    return clf, param_grid"
   ]
  },
  {
   "cell_type": "code",
   "execution_count": 32,
   "id": "db58a3d3-3c58-4f2e-8b89-fac78dcb39e0",
   "metadata": {},
   "outputs": [],
   "source": [
    "# need to do cross fold validation --> grid search for best parameters\n",
    "#num_splits = KFold(n_splits=10,shuffle = True)\n",
    "#for train_index, test_index in tqdm(num_splits.split(X)): # to actually split into training/testing\n",
    "#    X_train, X_test = X[train_index], X[test_index]\n",
    "#    y_train, y_test = y[train_index], y[test_index]\n",
    "    "
   ]
  },
  {
   "cell_type": "markdown",
   "id": "8250aa5e-0534-4e06-8cbc-7e6b0ae42190",
   "metadata": {},
   "source": [
    "# questions for alex: \n",
    "* we should probably do some sort of optimization of parameters? --. yes use grid search\n",
    "* i only skimmed the paper but it seems like they only used means of each channel as the features so i guess we can just stick w/ that for this week, and then work on using better features next week? \n",
    "* do you want to plan to work on the decision tree classifier on like thursday/friday? \n",
    "* thinking we should probably work on the paper and presentation Monday/Tuesday next week, finish up by\n",
    "\n",
    "grid search better --> 2 levels \n",
    "grid search CV \n",
    "target = user defined labels\n",
    "check if they standardized/normalized the data --> we should probably do it in case it adds to computation time for grid search cv \n",
    "reconnect tomorrow "
   ]
  },
  {
   "cell_type": "code",
   "execution_count": 33,
   "id": "16378f79-5904-401c-adac-a1933cc0ab77",
   "metadata": {},
   "outputs": [],
   "source": [
    "from warnings import simplefilter\n",
    "from sklearn.exceptions import ConvergenceWarning\n",
    "simplefilter(\"ignore\", category=ConvergenceWarning)"
   ]
  },
  {
   "cell_type": "code",
   "execution_count": 34,
   "id": "a1fb2286-b1c6-4c7a-95cb-156459b0ecb8",
   "metadata": {},
   "outputs": [
    {
     "name": "stdout",
     "output_type": "stream",
     "text": [
      "svm\n",
      "Best Hyperparameters: {'C': 1e-08, 'loss': 'hinge', 'penalty': 'l2'}\n",
      "Best Accuracy Score: 0.5700000000000001\n",
      "test accuracy: 0.55\n"
     ]
    }
   ],
   "source": [
    "# Define the hyperparameters you want to tune and their respective values\n",
    "Cs = np.logspace(-11,6,18)\n",
    "param_grid = {\"C\": Cs, \"penalty\": [\"l1\", \"l2\"]}\n",
    "\n",
    "# Create an instance of the  model\n",
    "model, param_grid = pick_model(model_type = 'svm')\n",
    "\n",
    "# Create an instance of the GridSearchCV object\n",
    "grid_search = GridSearchCV(model, param_grid, cv=5, scoring=\"accuracy\")\n",
    "\n",
    "# Fit the GridSearchCV object to the data\n",
    "grid_search.fit(X, y)\n",
    "\n",
    "# Print the best hyperparameters and their accuracy score\n",
    "print(\"Best Hyperparameters:\", grid_search.best_params_)\n",
    "print(\"Best Accuracy Score:\", grid_search.best_score_)\n",
    "\n",
    "# Use the best hyperparameters to train and test the model\n",
    "best_log_reg = grid_search.best_estimator_\n",
    "best_log_reg.fit(X_train, y_train)\n",
    "y_pred = best_log_reg.predict(X_test)\n",
    "acc = accuracy_score(y_test, y_pred)\n",
    "print('test accuracy:', acc)"
   ]
  },
  {
   "cell_type": "code",
   "execution_count": null,
   "id": "3c14dc5d-b438-4fee-be72-8bd75398ab38",
   "metadata": {},
   "outputs": [],
   "source": []
  },
  {
   "cell_type": "code",
   "execution_count": 35,
   "id": "0b352e0b-7f4d-47ad-9cbf-d558706f9585",
   "metadata": {},
   "outputs": [],
   "source": [
    "# need to do 2 levels of cross validation?\n",
    "# first level of cross validation being used to optimize accuracy\n",
    "# and the second level being used to find the optimal parameters --> grid search through the training set"
   ]
  },
  {
   "cell_type": "code",
   "execution_count": 38,
   "id": "8ba40495-1f63-4f88-9af7-c0ee38796076",
   "metadata": {},
   "outputs": [
    {
     "name": "stderr",
     "output_type": "stream",
     "text": [
      "1it [00:03,  3.12s/it]"
     ]
    },
    {
     "name": "stdout",
     "output_type": "stream",
     "text": [
      "Best Hyperparameters: {'C': 1e-08, 'loss': 'hinge', 'penalty': 'l2'}\n",
      "Best Accuracy Score: 0.6125\n"
     ]
    },
    {
     "name": "stderr",
     "output_type": "stream",
     "text": [
      "2it [00:06,  3.15s/it]"
     ]
    },
    {
     "name": "stdout",
     "output_type": "stream",
     "text": [
      "Best Hyperparameters: {'C': 1e-08, 'loss': 'hinge', 'penalty': 'l2'}\n",
      "Best Accuracy Score: 0.575\n"
     ]
    },
    {
     "name": "stderr",
     "output_type": "stream",
     "text": [
      "3it [00:09,  3.27s/it]"
     ]
    },
    {
     "name": "stdout",
     "output_type": "stream",
     "text": [
      "Best Hyperparameters: {'C': 1e-08, 'loss': 'squared_hinge', 'penalty': 'l2'}\n",
      "Best Accuracy Score: 0.6\n"
     ]
    },
    {
     "name": "stderr",
     "output_type": "stream",
     "text": [
      "4it [00:13,  3.34s/it]"
     ]
    },
    {
     "name": "stdout",
     "output_type": "stream",
     "text": [
      "Best Hyperparameters: {'C': 1e-08, 'loss': 'hinge', 'penalty': 'l2'}\n",
      "Best Accuracy Score: 0.575\n"
     ]
    },
    {
     "name": "stderr",
     "output_type": "stream",
     "text": [
      "5it [00:16,  3.28s/it]"
     ]
    },
    {
     "name": "stdout",
     "output_type": "stream",
     "text": [
      "Best Hyperparameters: {'C': 1e-07, 'loss': 'hinge', 'penalty': 'l2'}\n",
      "Best Accuracy Score: 0.5875\n"
     ]
    },
    {
     "name": "stderr",
     "output_type": "stream",
     "text": [
      "\n"
     ]
    }
   ],
   "source": [
    "# first level: for optimizing accuracy \n",
    "\n",
    "num_splits = KFold(n_splits=5,shuffle = True)\n",
    "for train_index, test_index in tqdm(num_splits.split(X)): # to actually split into training/testing\n",
    "    #X.iloc[0].values\n",
    "    X_train, X_test = X.iloc[train_index].values, X.iloc[test_index].values\n",
    "    y_train, y_test = y[train_index], y[test_index]\n",
    "    num_splits_2 = KFold(n_splits=5,shuffle = True) \n",
    "    # Create an instance of the  model\n",
    "    model, param_grid = pick_model(model_type = 'svm')\n",
    "    # Create an instance of the GridSearchCV object\n",
    "    grid_search = GridSearchCV(model, param_grid, cv=5, scoring=\"accuracy\")\n",
    "    # Fit the GridSearchCV object to the data\n",
    "    grid_search.fit(X_train, y_train)\n",
    "    # Print the best hyperparameters and their accuracy score\n",
    "    print(\"Best Hyperparameters:\", grid_search.best_params_)\n",
    "    print(\"Best Accuracy Score:\", grid_search.best_score_)     "
   ]
  },
  {
   "cell_type": "code",
   "execution_count": 40,
   "id": "f1d35e76-ae04-47e1-98f9-3286cd14e880",
   "metadata": {},
   "outputs": [],
   "source": [
    "# making a function for 2 level cross validation: \n",
    "# first level: for optimizing accuracy \n",
    "def twolevelCV(X,y,verb=False, model_type = 'svm'):\n",
    "    num_splits = KFold(n_splits=5,shuffle = True)\n",
    "    for train_index, test_index in tqdm(num_splits.split(X)): # to actually split into training/testing\n",
    "        #X.iloc[0].values\n",
    "        X_train, X_test = X.iloc[train_index].values, X.iloc[test_index].values\n",
    "        y_train, y_test = y[train_index], y[test_index]\n",
    "        num_splits_2 = KFold(n_splits=5,shuffle = True) \n",
    "        # Create an instance of the  model\n",
    "        model, param_grid = pick_model(model_type)\n",
    "        # Create an instance of the GridSearchCV object\n",
    "        grid_search = GridSearchCV(model, param_grid, cv=5, scoring=\"accuracy\")\n",
    "        # Fit the GridSearchCV object to the data\n",
    "        grid_search.fit(X_train, y_train)\n",
    "        # Print the best hyperparameters and their accuracy score\n",
    "        print(\"Training: Best Hyperparameters:\", grid_search.best_params_)\n",
    "        print(\"Training: Best Accuracy Score:\", grid_search.best_score_)     "
   ]
  },
  {
   "cell_type": "code",
   "execution_count": 41,
   "id": "5b321061-05d4-4e6c-a62f-f81d3d9c091b",
   "metadata": {},
   "outputs": [
    {
     "name": "stderr",
     "output_type": "stream",
     "text": [
      "1it [00:03,  3.40s/it]"
     ]
    },
    {
     "name": "stdout",
     "output_type": "stream",
     "text": [
      "Best Hyperparameters: {'C': 1e-08, 'loss': 'squared_hinge', 'penalty': 'l2'}\n",
      "Best Accuracy Score: 0.5875\n"
     ]
    },
    {
     "name": "stderr",
     "output_type": "stream",
     "text": [
      "2it [00:06,  3.41s/it]"
     ]
    },
    {
     "name": "stdout",
     "output_type": "stream",
     "text": [
      "Best Hyperparameters: {'C': 1e-09, 'loss': 'squared_hinge', 'penalty': 'l2'}\n",
      "Best Accuracy Score: 0.6375\n"
     ]
    },
    {
     "name": "stderr",
     "output_type": "stream",
     "text": [
      "3it [00:09,  3.28s/it]"
     ]
    },
    {
     "name": "stdout",
     "output_type": "stream",
     "text": [
      "Best Hyperparameters: {'C': 1e-07, 'loss': 'hinge', 'penalty': 'l2'}\n",
      "Best Accuracy Score: 0.625\n"
     ]
    },
    {
     "name": "stderr",
     "output_type": "stream",
     "text": [
      "4it [00:13,  3.26s/it]"
     ]
    },
    {
     "name": "stdout",
     "output_type": "stream",
     "text": [
      "Best Hyperparameters: {'C': 1e-11, 'loss': 'squared_hinge', 'penalty': 'l2'}\n",
      "Best Accuracy Score: 0.5625\n"
     ]
    },
    {
     "name": "stderr",
     "output_type": "stream",
     "text": [
      "5it [00:16,  3.22s/it]"
     ]
    },
    {
     "name": "stdout",
     "output_type": "stream",
     "text": [
      "Best Hyperparameters: {'C': 1e-09, 'loss': 'squared_hinge', 'penalty': 'l2'}\n",
      "Best Accuracy Score: 0.575\n"
     ]
    },
    {
     "name": "stderr",
     "output_type": "stream",
     "text": [
      "\n"
     ]
    }
   ],
   "source": [
    "twolevelCV(X,y,model_type = 'svm')"
   ]
  },
  {
   "cell_type": "code",
   "execution_count": 60,
   "id": "6bc4402c-08a5-41fc-bf32-635b4debffa2",
   "metadata": {},
   "outputs": [
    {
     "name": "stderr",
     "output_type": "stream",
     "text": [
      "2it [00:00,  7.93it/s]"
     ]
    },
    {
     "name": "stdout",
     "output_type": "stream",
     "text": [
      "Best Hyperparameters: {'n_neighbors': 15}\n",
      "Best Accuracy Score: 0.6625\n",
      "Best Hyperparameters: {'n_neighbors': 10}\n",
      "Best Accuracy Score: 0.7375\n"
     ]
    },
    {
     "name": "stderr",
     "output_type": "stream",
     "text": [
      "4it [00:00,  8.27it/s]"
     ]
    },
    {
     "name": "stdout",
     "output_type": "stream",
     "text": [
      "Best Hyperparameters: {'n_neighbors': 25}\n",
      "Best Accuracy Score: 0.7125\n",
      "Best Hyperparameters: {'n_neighbors': 15}\n",
      "Best Accuracy Score: 0.7375\n"
     ]
    },
    {
     "name": "stderr",
     "output_type": "stream",
     "text": [
      "5it [00:00,  8.13it/s]"
     ]
    },
    {
     "name": "stdout",
     "output_type": "stream",
     "text": [
      "Best Hyperparameters: {'n_neighbors': 20}\n",
      "Best Accuracy Score: 0.7\n"
     ]
    },
    {
     "name": "stderr",
     "output_type": "stream",
     "text": [
      "\n"
     ]
    }
   ],
   "source": [
    "twolevelCV(X,y,model_type = 'knn')"
   ]
  },
  {
   "cell_type": "code",
   "execution_count": 61,
   "id": "10b98e73-59d2-40c2-b868-737a62843ac1",
   "metadata": {},
   "outputs": [
    {
     "name": "stderr",
     "output_type": "stream",
     "text": [
      "5it [00:00, 73.31it/s]"
     ]
    },
    {
     "name": "stdout",
     "output_type": "stream",
     "text": [
      "Best Hyperparameters: {}\n",
      "Best Accuracy Score: 0.7125\n",
      "Best Hyperparameters: {}\n",
      "Best Accuracy Score: 0.725\n",
      "Best Hyperparameters: {}\n",
      "Best Accuracy Score: 0.625\n",
      "Best Hyperparameters: {}\n",
      "Best Accuracy Score: 0.6\n",
      "Best Hyperparameters: {}\n",
      "Best Accuracy Score: 0.6375\n"
     ]
    },
    {
     "name": "stderr",
     "output_type": "stream",
     "text": [
      "\n"
     ]
    }
   ],
   "source": [
    "twolevelCV(X,y,model_type = 'bayes')"
   ]
  },
  {
   "cell_type": "code",
   "execution_count": null,
   "id": "e78edf02-5444-4362-86dc-3b6deb43cc84",
   "metadata": {},
   "outputs": [],
   "source": [
    "# next should probably move onto testing "
   ]
  }
 ],
 "metadata": {
  "kernelspec": {
   "display_name": "Python 3 (ipykernel)",
   "language": "python",
   "name": "python3"
  },
  "language_info": {
   "codemirror_mode": {
    "name": "ipython",
    "version": 3
   },
   "file_extension": ".py",
   "mimetype": "text/x-python",
   "name": "python",
   "nbconvert_exporter": "python",
   "pygments_lexer": "ipython3",
   "version": "3.8.8"
  }
 },
 "nbformat": 4,
 "nbformat_minor": 5
}
