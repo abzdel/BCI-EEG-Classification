{
 "cells": [
  {
   "attachments": {},
   "cell_type": "markdown",
   "id": "d699bc08-c056-4047-ae3f-c3a840863ff9",
   "metadata": {},
   "source": [
    "# Training/Testing of Generalized Model"
   ]
  },
  {
   "cell_type": "code",
   "execution_count": 24,
   "id": "92aade8d-c76c-4124-a1da-ba413272afb4",
   "metadata": {},
   "outputs": [],
   "source": [
    "import numpy as np\n",
    "import pandas as pd\n",
    "import os\n",
    "from sklearn.neighbors import KNeighborsClassifier\n",
    "from sklearn.svm import LinearSVC\n",
    "from sklearn.naive_bayes import GaussianNB\n",
    "from sklearn.model_selection import GridSearchCV\n",
    "from sklearn.model_selection import train_test_split\n",
    "from sklearn.metrics import accuracy_score\n",
    "from sklearn.model_selection import KFold\n",
    "from tqdm import tqdm\n",
    "from sklearn.linear_model import BayesianRidge\n",
    "from sklearn.feature_selection import SelectFromModel\n",
    "from sklearn.kernel_approximation import RBFSampler\n",
    "from sklearn.ensemble import RandomForestClassifier\n",
    "from sklearn.linear_model import LogisticRegression\n",
    "from sklearn.tree import DecisionTreeClassifier\n",
    "\n",
    "from warnings import simplefilter\n",
    "from sklearn.exceptions import ConvergenceWarning\n",
    "\n",
    "simplefilter(\"ignore\", category=ConvergenceWarning)"
   ]
  },
  {
   "cell_type": "code",
   "execution_count": 26,
   "id": "ca87822a-49cb-4a3c-a708-560412de6e70",
   "metadata": {},
   "outputs": [],
   "source": [
    "directory = \"cleaned_data/\"\n",
    "filename = \"meanfeatures.csv\"\n",
    "\n",
    "df = pd.read_csv(directory + filename, index_col=0)"
   ]
  },
  {
   "cell_type": "code",
   "execution_count": 27,
   "id": "54a843ab",
   "metadata": {},
   "outputs": [
    {
     "data": {
      "text/plain": [
       "Index(['SubjectID', 'VideoID', 'predefinedlabel', 'user-definedlabel',\n",
       "       'Attention', 'Mediation', 'Raw', 'Delta', 'Theta', 'Alpha1', 'Alpha2',\n",
       "       'Beta1', 'Beta2', 'Gamma1', 'Gamma2'],\n",
       "      dtype='object')"
      ]
     },
     "execution_count": 27,
     "metadata": {},
     "output_type": "execute_result"
    }
   ],
   "source": [
    "df.columns"
   ]
  },
  {
   "cell_type": "code",
   "execution_count": 28,
   "id": "3eeb4423",
   "metadata": {},
   "outputs": [],
   "source": [
    "# standardize all variables\n",
    "df[\"Beta1\"] = (df[\"Beta1\"] - df[\"Beta1\"].mean()) / df[\"Beta1\"].std()\n",
    "df[\"Alpha1\"] = (df[\"Alpha1\"] - df[\"Alpha1\"].mean()) / df[\"Alpha1\"].std()\n",
    "df[\"Gamma2\"] = (df[\"Gamma2\"] - df[\"Gamma2\"].mean()) / df[\"Gamma2\"].std()\n",
    "df[\"Theta\"] = (df[\"Theta\"] - df[\"Theta\"].mean()) / df[\"Theta\"].std()\n",
    "df[\"Attention\"] = (df[\"Attention\"] - df[\"Attention\"].mean()) / df[\"Attention\"].std()\n",
    "df[\"Mediation\"] = (df[\"Mediation\"] - df[\"Mediation\"].mean()) / df[\"Mediation\"].std()\n",
    "df[\"Raw\"] = (df[\"Raw\"] - df[\"Raw\"].mean()) / df[\"Raw\"].std()\n",
    "df[\"Delta\"] = (df[\"Delta\"] - df[\"Delta\"].mean()) / df[\"Delta\"].std()\n",
    "df[\"Beta2\"] = (df[\"Beta2\"] - df[\"Beta2\"].mean()) / df[\"Beta2\"].std()\n",
    "df[\"Gamma1\"] = (df[\"Gamma1\"] - df[\"Gamma1\"].mean()) / df[\"Gamma1\"].std()\n",
    "df[\"Alpha2\"] = (df[\"Alpha2\"] - df[\"Alpha2\"].mean()) / df[\"Alpha2\"].std()"
   ]
  },
  {
   "cell_type": "code",
   "execution_count": 29,
   "id": "10e50907-66a0-408b-bbc4-b73ee3d4b59c",
   "metadata": {},
   "outputs": [],
   "source": [
    "def pick_model(model_type, C=1, verb=False):\n",
    "    if model_type == \"logreg\":\n",
    "        clf = LogisticRegression()\n",
    "        param_grid = {\n",
    "            \"C\": [0.1, 1, 10, 100],\n",
    "            \"penalty\": [\"l1\", \"l2\"],\n",
    "            \"solver\": [\"liblinear\"],\n",
    "        }\n",
    "    elif model_type == \"rvm\":\n",
    "        clf = BayesianRidge(compute_score=True)\n",
    "        param_grid = {\n",
    "            \"alpha_1\": [1e-6, 1e-5, 1e-4, 1e-3],\n",
    "            \"alpha_2\": [1e-6, 1e-5, 1e-4, 1e-3],\n",
    "            \"lambda_1\": [1e-6, 1e-5, 1e-4, 1e-3],\n",
    "            \"lambda_2\": [1e-6, 1e-5, 1e-4, 1e-3],\n",
    "        }\n",
    "    elif model_type == \"knn\":\n",
    "        clf = KNeighborsClassifier(n_neighbors=5)\n",
    "        Ns = [1, 5, 10, 15, 20, 25, 30, 35, 40]\n",
    "        param_grid = {\"n_neighbors\": Ns}\n",
    "    elif model_type == \"svm\":\n",
    "        clf = LinearSVC(C=C, verbose=verb, max_iter=10000)\n",
    "        Cs = np.logspace(-11, 6, 18)\n",
    "        param_grid = {\"C\": Cs, \"penalty\": [\"l2\"], \"loss\": [\"hinge\", \"squared_hinge\"]}\n",
    "    elif model_type == \"random forest\":\n",
    "        clf = RandomForestClassifier()\n",
    "        param_grid = {\n",
    "            \"n_estimators\": [10, 50, 100, 200, 500, 1000],\n",
    "            \"max_depth\": [None, 5, 10, 20, 50, 100],\n",
    "        }\n",
    "    elif model_type == \"decision tree\":\n",
    "        clf = DecisionTreeClassifier()\n",
    "        param_grid = {\n",
    "            \"criterion\": [\"gini\", \"entropy\", \"log_loss\"],\n",
    "            \"splitter\": [\"best\", \"random\"],\n",
    "        }\n",
    "    else:  # model_type = naivebayes\n",
    "        clf = GaussianNB()\n",
    "        param_grid = {}\n",
    "    return clf, param_grid"
   ]
  },
  {
   "cell_type": "code",
   "execution_count": 30,
   "id": "d07f0b11-b1a6-4099-8e05-80404a9a09c8",
   "metadata": {},
   "outputs": [],
   "source": [
    "def studentIndependentCV(df, verb=False, model_type=\"svm\", target=\"user-definedlabel\"):\n",
    "    # training on half the videos testing on the other half in a single student\n",
    "    accs = np.zeros(10)\n",
    "    counter = 0\n",
    "    for i in range(10):\n",
    "        # curr_student = df.loc[df['SubjectID']== i]\n",
    "        X_test = df.loc[df[\"SubjectID\"] == i]\n",
    "        y_test = X_test[[target]]\n",
    "        y_test = y_test[target].values\n",
    "        X_test = X_test.drop(\n",
    "            [\"SubjectID\", \"VideoID\", \"user-definedlabel\", \"predefinedlabel\"], axis=1\n",
    "        )\n",
    "\n",
    "        X_train = df.loc[df[\"SubjectID\"] != i]  # training\n",
    "        y_train = X_train[[target]]\n",
    "        y_train = y_train[target].values\n",
    "        X_train = X_train.drop(\n",
    "            [\"SubjectID\", \"VideoID\", \"user-definedlabel\", \"predefinedlabel\"], axis=1\n",
    "        )\n",
    "\n",
    "        # num_splits = KFold(n_splits=5,shuffle = True)\n",
    "        # for train_index, test_index in tqdm(num_splits.split(X)): # to actually split into training/testing\n",
    "        # X_train, X_test = X.iloc[train_index].values, X.iloc[test_index].values\n",
    "        # y_train, y_test = y[train_index], y[test_index]\n",
    "\n",
    "        # Create an instance of the  model\n",
    "        model, param_grid = pick_model(model_type)\n",
    "        # Create an instance of the GridSearchCV object\n",
    "        grid_search = GridSearchCV(model, param_grid, cv=2, scoring=\"accuracy\")\n",
    "        # Fit the GridSearchCV object to the data\n",
    "        grid_search.fit(X_train, y_train)\n",
    "        # Print the best hyperparameters and their accuracy score\n",
    "        # print(\"Training: Best Hyperparameters:\", grid_search.best_params_)\n",
    "        # print(\"Training: Best Accuracy Score:\", grid_search.best_score_)\n",
    "        best_est = grid_search.best_estimator_\n",
    "        best_est.fit(X_train, y_train)\n",
    "        y_pred = best_est.predict(X_test)\n",
    "        acc = accuracy_score(y_test, y_pred)\n",
    "        accs[counter] = acc\n",
    "        # print('Test accuracy for target:', target, acc)\n",
    "        counter += 1\n",
    "    print(\"Average Test Accuracy: \", np.mean(accs))"
   ]
  },
  {
   "cell_type": "markdown",
   "id": "2e56d420-1973-4da6-9316-3353d82208fe",
   "metadata": {},
   "source": [
    "# Logisitic Regression "
   ]
  },
  {
   "cell_type": "code",
   "execution_count": 31,
   "id": "28bd6789-be7c-4cc0-b850-aa4cb4e98f02",
   "metadata": {},
   "outputs": [
    {
     "name": "stdout",
     "output_type": "stream",
     "text": [
      "Average Test Accuracy:  0.6399999999999999\n"
     ]
    }
   ],
   "source": [
    "studentIndependentCV(df, verb=False, model_type=\"logreg\", target=\"user-definedlabel\")"
   ]
  },
  {
   "cell_type": "code",
   "execution_count": 32,
   "id": "fb079ed4-4b3a-4f04-827e-9b48728a8da1",
   "metadata": {},
   "outputs": [
    {
     "name": "stdout",
     "output_type": "stream",
     "text": [
      "Average Test Accuracy:  0.43000000000000005\n"
     ]
    }
   ],
   "source": [
    "studentIndependentCV(df, verb=False, model_type=\"logreg\", target=\"predefinedlabel\")"
   ]
  },
  {
   "cell_type": "markdown",
   "id": "c6341940-a9a1-48d8-abcf-31b92e1e5d9a",
   "metadata": {},
   "source": [
    "# RVM"
   ]
  },
  {
   "cell_type": "code",
   "execution_count": 33,
   "id": "662a2f56-e2a4-44ad-9e51-d2422faa4fc6",
   "metadata": {},
   "outputs": [],
   "source": [
    "# studentIndependentCV(df,verb=False, model_type = 'rvm', target = 'user-definedlabel')"
   ]
  },
  {
   "cell_type": "code",
   "execution_count": 34,
   "id": "cfca40eb-3c1f-4e6d-907d-2a574cd03cc7",
   "metadata": {},
   "outputs": [],
   "source": [
    "# studentIndependentCV(df,verb=False, model_type = 'rvm', target = 'predefinedlabel')"
   ]
  },
  {
   "cell_type": "markdown",
   "id": "851e8cf6-64a3-45a3-9a31-9156c383d934",
   "metadata": {},
   "source": [
    "# SVM"
   ]
  },
  {
   "cell_type": "code",
   "execution_count": 35,
   "id": "fa92f50f-7649-4aee-a9b4-6d5425398c84",
   "metadata": {},
   "outputs": [
    {
     "name": "stdout",
     "output_type": "stream",
     "text": [
      "Average Test Accuracy:  0.63\n"
     ]
    }
   ],
   "source": [
    "studentIndependentCV(df, verb=False, model_type=\"svm\", target=\"user-definedlabel\")"
   ]
  },
  {
   "cell_type": "code",
   "execution_count": 36,
   "id": "c8f9522b-6288-4e3b-b4af-d537a5936559",
   "metadata": {},
   "outputs": [
    {
     "name": "stdout",
     "output_type": "stream",
     "text": [
      "Average Test Accuracy:  0.47000000000000003\n"
     ]
    }
   ],
   "source": [
    "studentIndependentCV(df, verb=False, model_type=\"svm\", target=\"predefinedlabel\")"
   ]
  },
  {
   "cell_type": "markdown",
   "id": "9fd1df19-223f-421a-a4f2-9dd39f968d41",
   "metadata": {},
   "source": [
    "# KNN"
   ]
  },
  {
   "cell_type": "code",
   "execution_count": 37,
   "id": "0a1ebba8-1603-457e-8888-330a317f77a8",
   "metadata": {},
   "outputs": [
    {
     "name": "stdout",
     "output_type": "stream",
     "text": [
      "Average Test Accuracy:  0.7\n"
     ]
    }
   ],
   "source": [
    "studentIndependentCV(df, verb=False, model_type=\"knn\", target=\"user-definedlabel\")"
   ]
  },
  {
   "cell_type": "code",
   "execution_count": 38,
   "id": "e3cbcf6b-9d10-4514-af0c-9785f4cf7f93",
   "metadata": {},
   "outputs": [
    {
     "name": "stdout",
     "output_type": "stream",
     "text": [
      "Average Test Accuracy:  0.5200000000000001\n"
     ]
    }
   ],
   "source": [
    "studentIndependentCV(df, verb=False, model_type=\"knn\", target=\"predefinedlabel\")"
   ]
  },
  {
   "cell_type": "markdown",
   "id": "7f813dac-ce2c-4b2b-a851-294f6d147135",
   "metadata": {},
   "source": [
    "# Random Forest"
   ]
  },
  {
   "cell_type": "code",
   "execution_count": 39,
   "id": "1cc9abb8-171d-4baf-a2fb-15714a436984",
   "metadata": {},
   "outputs": [
    {
     "name": "stderr",
     "output_type": "stream",
     "text": [
      "Bad pipe message: %s [b'\\xd1\\xbb5\\xae\\xcd>O\\x1c\\x9a\\xa9R\\x0bj\\xf4\\x94\\x07QH \\x97N\\xa3o8\"t\\xdc\\x9b']\n",
      "Bad pipe message: %s [b\"<\\xdd\\xf2\\x06\\xaa\\xdcL\\xf1\\x9e\\xdb\\x06\\xdc\\xf9\\x8b8;R\\x80\\x00\\x00|\\xc0,\\xc00\\x00\\xa3\\x00\\x9f\\xcc\\xa9\\xcc\\xa8\\xcc\\xaa\\xc0\\xaf\\xc0\\xad\\xc0\\xa3\\xc0\\x9f\\xc0]\\xc0a\\xc0W\\xc0S\\xc0+\\xc0/\\x00\\xa2\\x00\\x9e\\xc0\\xae\\xc0\\xac\\xc0\\xa2\\xc0\\x9e\\xc0\\\\\\xc0`\\xc0V\\xc0R\\xc0$\\xc0(\\x00k\\x00j\\xc0#\\xc0'\\x00g\\x00@\\xc0\\n\\xc0\\x14\\x009\\x008\\xc0\\t\\xc0\\x13\\x003\\x002\\x00\\x9d\\xc0\\xa1\\xc0\\x9d\\xc0Q\\x00\\x9c\\xc0\\xa0\\xc0\\x9c\\xc0P\\x00=\\x00<\\x005\\x00/\\x00\\x9a\\x00\\x99\\xc0\\x07\\xc0\\x11\\x00\\x96\\x00\\x05\\x00\\xff\\x01\\x00\\x00j\\x00\\x00\\x00\\x0e\\x00\\x0c\\x00\\x00\\t127.0.0.1\\x00\\x0b\\x00\\x04\\x03\\x00\\x01\\x02\\x00\\n\\x00\\x0c\\x00\\n\\x00\\x1d\\x00\\x17\\x00\\x1e\\x00\\x19\\x00\\x18\\x00#\\x00\\x00\\x00\\x16\\x00\\x00\\x00\\x17\\x00\\x00\\x00\\r\\x000\\x00.\\x04\\x03\\x05\\x03\\x06\\x03\\x08\\x07\\x08\\x08\\x08\\t\\x08\\n\\x08\\x0b\\x08\\x04\\x08\\x05\\x08\\x06\\x04\\x01\\x05\\x01\\x06\\x01\\x03\\x03\\x02\\x03\\x03\\x01\\x02\\x01\\x03\\x02\", b'\\x04']\n",
      "Bad pipe message: %s [b'46\\xa1\\x1as\\xb30A9V&\\x9d2\\x1d6N\\xaa\\xc1\\x00\\x00>\\xc0\\x14\\xc0\\n\\x009\\x008\\x007\\x006\\xc0\\x0f\\xc0\\x05\\x005\\xc0\\x13\\xc0\\t\\x003\\x002\\x001\\x000\\xc0\\x0e\\xc0\\x04\\x00/\\x00\\x9a\\x00\\x99\\x00\\x98\\x00\\x97\\x00\\x96\\x00\\x07\\xc0\\x11\\xc0\\x07\\xc0\\x0c\\xc0\\x02\\x00\\x05\\x00\\x04\\x00\\xff\\x02\\x01\\x00\\x00C\\x00\\x00\\x00\\x0e\\x00\\x0c\\x00\\x00\\t127.0.0.']\n",
      "Bad pipe message: %s [b'\\x0b\\x00\\x04\\x03\\x00\\x01\\x02\\x00\\n\\x00\\x1c\\x00\\x1a\\x00\\x17\\x00\\x19\\x00\\x1c\\x00\\x1b\\x00\\x18\\x00\\x1a\\x00\\x16\\x00\\x0e\\x00\\r\\x00\\x0b\\x00\\x0c\\x00\\t\\x00\\n\\x00#\\x00\\x00\\x00\\x0f\\x00\\x01\\x01']\n",
      "Bad pipe message: %s [b'8\\x01U\\xd3\\xa7jt\\xbd\\t>\\x86\\x88jm\\xfd\\x87e\\xc2\\x00\\x00>\\xc0\\x14\\xc0\\n\\x009\\x008\\x007\\x006\\xc0']\n",
      "Bad pipe message: %s [b'\\x05\\x005\\xc0\\x13\\xc0\\t\\x003\\x002\\x001\\x00']\n",
      "Bad pipe message: %s [b'E*\\xe0\\x10']\n",
      "Bad pipe message: %s [b'\\xb6\\xe62\\xe8J\\xd1K\\xb6\\x1d1\\xcfV\\x00\\x00\\xa2\\xc0\\x14\\xc0\\n\\x009\\x008\\x007\\x006\\x00\\x88\\x00\\x87\\x00\\x86\\x00\\x85\\xc0\\x19\\x00:\\x00\\x89\\xc0\\x0f\\xc0\\x05\\x005\\x00\\x84\\xc0\\x13\\xc0\\t\\x003\\x002\\x001\\x000\\x00\\x9a\\x00\\x99\\x00\\x98\\x00\\x97\\x00E\\x00D\\x00C\\x00B\\xc0\\x18\\x004\\x00\\x9b\\x00F\\xc0\\x0e\\xc0\\x04\\x00/\\x00\\x96\\x00A\\x00\\x07\\xc0\\x11\\xc0\\x07\\xc0\\x16\\x00\\x18\\xc0\\x0c\\xc0\\x02\\x00\\x05\\x00\\x04\\xc0\\x12\\xc0\\x08\\x00\\x16\\x00\\x13\\x00\\x10\\x00\\r\\xc0\\x17\\x00\\x1b\\xc0\\r\\xc0\\x03\\x00\\n\\x00\\x15\\x00\\x12\\x00\\x0f\\x00\\x0c\\x00\\x1a\\x00\\t\\x00\\x14\\x00\\x11\\x00\\x19\\x00\\x08\\x00\\x06\\x00\\x17\\x00\\x03\\xc0']\n",
      "Bad pipe message: %s [b'\\x06\\xc0\\x15\\xc0\\x0b\\xc0\\x01\\x00\\x02\\x00\\x01\\x00\\xff\\x02\\x01']\n",
      "Bad pipe message: %s [b\"\\x9b\\x0b\\xcf\\xd1\\x92\\xa6{\\x8fH\\x94\\xdd\\xcc\\x8esx\\xf6c\\xb3\\x00\\x00\\xf4\\xc00\\xc0,\\xc0(\\xc0$\\xc0\\x14\\xc0\\n\\x00\\xa5\\x00\\xa3\\x00\\xa1\\x00\\x9f\\x00k\\x00j\\x00i\\x00h\\x009\\x008\\x007\\x006\\x00\\x88\\x00\\x87\\x00\\x86\\x00\\x85\\xc0\\x19\\x00\\xa7\\x00m\\x00:\\x00\\x89\\xc02\\xc0.\\xc0*\\xc0&\\xc0\\x0f\\xc0\\x05\\x00\\x9d\\x00=\\x005\\x00\\x84\\xc0/\\xc0+\\xc0'\\xc0#\\xc0\\x13\\xc0\\t\\x00\\xa4\\x00\\xa2\\x00\\xa0\\x00\\x9e\\x00g\\x00@\\x00?\\x00>\\x003\\x002\\x001\\x000\\x00\\x9a\\x00\\x99\\x00\\x98\\x00\\x97\\x00E\\x00D\\x00C\\x00B\\xc0\\x18\\x00\\xa6\\x00l\\x004\\x00\\x9b\\x00F\", b'\\xc0-\\xc0)\\xc0%\\xc0\\x0e\\xc0\\x04\\x00\\x9c\\x00<\\x00/\\x00\\x96\\x00A\\x00\\x07\\xc0\\x11\\xc0\\x07\\xc0\\x16\\x00\\x18\\xc0\\x0c\\xc0\\x02\\x00\\x05\\x00\\x04\\xc0\\x12\\xc0\\x08\\x00\\x16\\x00\\x13\\x00\\x10\\x00\\r\\xc0\\x17\\x00\\x1b\\xc0\\r\\xc0\\x03\\x00\\n\\x00\\x15\\x00\\x12\\x00\\x0f\\x00\\x0c\\x00\\x1a\\x00\\t\\x00\\x14\\x00\\x11\\x00\\x19\\x00\\x08\\x00\\x06\\x00\\x17\\x00\\x03\\xc0\\x10\\xc0\\x06\\xc0\\x15\\xc0\\x0b\\xc0\\x01\\x00;\\x00\\x02\\x00\\x01\\x00\\xff\\x02\\x01\\x00\\x00g\\x00\\x00\\x00\\x0e\\x00\\x0c\\x00\\x00\\t127.0.0.1\\x00\\x0b\\x00\\x04\\x03\\x00\\x01\\x02\\x00\\n\\x00\\x1c\\x00\\x1a\\x00\\x17\\x00\\x19\\x00\\x1c\\x00\\x1b\\x00\\x18\\x00\\x1a\\x00\\x16\\x00\\x0e\\x00\\r\\x00\\x0b\\x00\\x0c\\x00\\t\\x00\\n\\x00#\\x00\\x00\\x00\\r\\x00 \\x00\\x1e\\x06\\x01\\x06\\x02\\x06\\x03\\x05\\x01\\x05\\x02\\x05\\x03\\x04\\x01', b'\\x04\\x03\\x03']\n",
      "Bad pipe message: %s [b'', b'\\x03', b'\\x02', b'\\x03']\n"
     ]
    },
    {
     "name": "stdout",
     "output_type": "stream",
     "text": [
      "Average Test Accuracy:  0.74\n"
     ]
    }
   ],
   "source": [
    "studentIndependentCV(\n",
    "    df, verb=False, model_type=\"random forest\", target=\"user-definedlabel\"\n",
    ")"
   ]
  },
  {
   "cell_type": "code",
   "execution_count": 40,
   "id": "2bf9f270-9e67-473c-a9d0-9eef98089b31",
   "metadata": {},
   "outputs": [
    {
     "name": "stdout",
     "output_type": "stream",
     "text": [
      "Average Test Accuracy:  0.5599999999999999\n"
     ]
    }
   ],
   "source": [
    "studentIndependentCV(\n",
    "    df, verb=False, model_type=\"random forest\", target=\"predefinedlabel\"\n",
    ")"
   ]
  },
  {
   "cell_type": "markdown",
   "id": "0b34238b-6edb-41eb-8574-c342f8ab3528",
   "metadata": {},
   "source": [
    "# Decision Tree"
   ]
  },
  {
   "cell_type": "code",
   "execution_count": 41,
   "id": "8b4864ba-ccfa-4013-a91f-10ce84704ff1",
   "metadata": {},
   "outputs": [
    {
     "name": "stdout",
     "output_type": "stream",
     "text": [
      "Average Test Accuracy:  0.6500000000000001\n"
     ]
    }
   ],
   "source": [
    "studentIndependentCV(\n",
    "    df, verb=False, model_type=\"decision tree\", target=\"user-definedlabel\"\n",
    ")"
   ]
  },
  {
   "cell_type": "code",
   "execution_count": 42,
   "id": "76e35788-9e62-4660-b6e6-be16749eda71",
   "metadata": {},
   "outputs": [
    {
     "name": "stdout",
     "output_type": "stream",
     "text": [
      "Average Test Accuracy:  0.6199999999999999\n"
     ]
    }
   ],
   "source": [
    "studentIndependentCV(\n",
    "    df, verb=False, model_type=\"decision tree\", target=\"predefinedlabel\"\n",
    ")"
   ]
  },
  {
   "cell_type": "markdown",
   "id": "5ad1f4b6-3f5d-4575-a3d8-26d008a50125",
   "metadata": {},
   "source": [
    "# Naive Bayes"
   ]
  },
  {
   "cell_type": "code",
   "execution_count": 43,
   "id": "e500c36c-5852-4a38-9a0a-600d6ab06690",
   "metadata": {},
   "outputs": [
    {
     "name": "stdout",
     "output_type": "stream",
     "text": [
      "Average Test Accuracy:  0.65\n"
     ]
    }
   ],
   "source": [
    "studentIndependentCV(\n",
    "    df, verb=False, model_type=\"naivebayes\", target=\"user-definedlabel\"\n",
    ")"
   ]
  },
  {
   "cell_type": "code",
   "execution_count": 44,
   "id": "fc4ef7f3-5571-4c64-a96b-090199f6b845",
   "metadata": {},
   "outputs": [
    {
     "name": "stdout",
     "output_type": "stream",
     "text": [
      "Average Test Accuracy:  0.5\n"
     ]
    }
   ],
   "source": [
    "studentIndependentCV(df, verb=False, model_type=\"naivebayes\", target=\"predefinedlabel\")"
   ]
  },
  {
   "cell_type": "code",
   "execution_count": null,
   "id": "1be2d07c-1a76-4c5a-a5f3-2d5f81779ec4",
   "metadata": {},
   "outputs": [],
   "source": []
  }
 ],
 "metadata": {
  "kernelspec": {
   "display_name": "Python 3 (ipykernel)",
   "language": "python",
   "name": "python3"
  },
  "language_info": {
   "codemirror_mode": {
    "name": "ipython",
    "version": 3
   },
   "file_extension": ".py",
   "mimetype": "text/x-python",
   "name": "python",
   "nbconvert_exporter": "python",
   "pygments_lexer": "ipython3",
   "version": "3.10.4"
  }
 },
 "nbformat": 4,
 "nbformat_minor": 5
}
