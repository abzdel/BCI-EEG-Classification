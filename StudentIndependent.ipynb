{
 "cells": [
  {
   "cell_type": "markdown",
   "id": "d699bc08-c056-4047-ae3f-c3a840863ff9",
   "metadata": {},
   "source": [
    "# Leave one out cross validation testing "
   ]
  },
  {
   "cell_type": "code",
   "execution_count": 1,
   "id": "92aade8d-c76c-4124-a1da-ba413272afb4",
   "metadata": {},
   "outputs": [],
   "source": [
    "# import toolboxes \n",
    "# import the toolboxes \n",
    "import numpy as np \n",
    "import pandas as pd\n",
    "import os\n",
    "from sklearn.neighbors import KNeighborsClassifier\n",
    "from sklearn.svm import LinearSVC\n",
    "from sklearn.naive_bayes import GaussianNB\n",
    "from sklearn.model_selection import GridSearchCV\n",
    "from sklearn.model_selection import train_test_split\n",
    "from sklearn.metrics import accuracy_score\n",
    "from sklearn.model_selection import KFold\n",
    "from tqdm import tqdm\n",
    "from sklearn.linear_model import BayesianRidge\n",
    "from sklearn.feature_selection import SelectFromModel\n",
    "from sklearn.kernel_approximation import RBFSampler\n",
    "from sklearn.ensemble import RandomForestClassifier\n",
    "from sklearn.linear_model import LogisticRegression\n",
    "from sklearn.tree import DecisionTreeClassifier\n"
   ]
  },
  {
   "cell_type": "code",
   "execution_count": 2,
   "id": "f01a6aef-d468-4d1d-9b52-dfe696201827",
   "metadata": {},
   "outputs": [],
   "source": [
    "from warnings import simplefilter\n",
    "from sklearn.exceptions import ConvergenceWarning\n",
    "simplefilter(\"ignore\", category=ConvergenceWarning)"
   ]
  },
  {
   "cell_type": "code",
   "execution_count": 3,
   "id": "ca87822a-49cb-4a3c-a708-560412de6e70",
   "metadata": {},
   "outputs": [],
   "source": [
    "directory = '/Users/amandabreton/Documents/Duke 2022-2023/ECE 590/Final Project/'\n",
    "filename = 'meanfeatures.csv'\n",
    "\n",
    "df = pd.read_csv(directory+filename, index_col=0)"
   ]
  },
  {
   "cell_type": "code",
   "execution_count": 15,
   "id": "10e50907-66a0-408b-bbc4-b73ee3d4b59c",
   "metadata": {},
   "outputs": [],
   "source": [
    "def pick_model(model_type, C=1,verb=False):\n",
    "    if model_type == 'logreg':\n",
    "        clf = LogisticRegression()\n",
    "        param_grid = {\"C\": [0.1, 1, 10, 100], \"penalty\": [\"l1\", \"l2\"], \"solver\": [\"liblinear\"]}\n",
    "    elif model_type == 'rvm':\n",
    "        clf = BayesianRidge(compute_score=True)\n",
    "        param_grid = {\"alpha_1\": [1e-6, 1e-5, 1e-4, 1e-3], \"alpha_2\": [1e-6, 1e-5, 1e-4, 1e-3], \n",
    "                      \"lambda_1\": [1e-6, 1e-5, 1e-4, 1e-3], \"lambda_2\": [1e-6, 1e-5, 1e-4, 1e-3]}\n",
    "    elif model_type == 'knn':\n",
    "        clf = KNeighborsClassifier(n_neighbors=5)\n",
    "        Ns = [1,5,10,15,20,25,30,35,40]\n",
    "        param_grid = {\"n_neighbors\": Ns}\n",
    "    elif model_type == 'svm':\n",
    "        clf = LinearSVC(C=C,verbose=verb, max_iter=10000)\n",
    "        Cs = np.logspace(-11,6,18)\n",
    "        param_grid = {\"C\": Cs, \"penalty\": [\"l2\"], \"loss\": ['hinge', 'squared_hinge']} \n",
    "    elif model_type == 'random forest': \n",
    "        clf = RandomForestClassifier()\n",
    "        param_grid = {\"n_estimators\": [10, 50, 100, 200, 500, 1000], \"max_depth\": \n",
    "                      [None, 5, 10, 20, 50, 100]}\n",
    "    elif model_type == 'decision tree': \n",
    "        clf = DecisionTreeClassifier()\n",
    "        param_grid = {'criterion': ['gini', 'entropy', 'log_loss'], 'splitter': ['best', 'random']}\n",
    "    else: #model_type = naivebayes\n",
    "        clf = GaussianNB()\n",
    "        param_grid = {}\n",
    "    return clf, param_grid"
   ]
  },
  {
   "cell_type": "code",
   "execution_count": 5,
   "id": "d07f0b11-b1a6-4099-8e05-80404a9a09c8",
   "metadata": {},
   "outputs": [],
   "source": [
    "def studentIndependentCV(df,verb=False, model_type = 'svm', target = 'user-definedlabel'):\n",
    "    # training on half the videos testing on the other half in a single student\n",
    "    accs = np.zeros(10)\n",
    "    counter = 0\n",
    "    for i in range(10): \n",
    "        #curr_student = df.loc[df['SubjectID']== i]\n",
    "        X_test = df.loc[df['SubjectID'] == i]\n",
    "        y_test = X_test[[target]]\n",
    "        y_test = y_test[target].values   \n",
    "        X_test = X_test.drop(['SubjectID', 'VideoID', 'user-definedlabel', 'predefinedlabel'], axis=1)\n",
    "            \n",
    "        X_train = df.loc[df['SubjectID'] != i] # training \n",
    "        y_train = X_train[[target]]\n",
    "        y_train = y_train[target].values         \n",
    "        X_train = X_train.drop(['SubjectID', 'VideoID', 'user-definedlabel', 'predefinedlabel'], axis=1)\n",
    "                 \n",
    "        #num_splits = KFold(n_splits=5,shuffle = True)\n",
    "        #for train_index, test_index in tqdm(num_splits.split(X)): # to actually split into training/testing\n",
    "        #X_train, X_test = X.iloc[train_index].values, X.iloc[test_index].values\n",
    "        #y_train, y_test = y[train_index], y[test_index]\n",
    "    \n",
    "        # Create an instance of the  model\n",
    "        model, param_grid = pick_model(model_type)\n",
    "        # Create an instance of the GridSearchCV object\n",
    "        grid_search = GridSearchCV(model, param_grid, cv=2, scoring=\"accuracy\")\n",
    "        # Fit the GridSearchCV object to the data\n",
    "        grid_search.fit(X_train, y_train)\n",
    "        # Print the best hyperparameters and their accuracy score\n",
    "        #print(\"Training: Best Hyperparameters:\", grid_search.best_params_)\n",
    "        #print(\"Training: Best Accuracy Score:\", grid_search.best_score_)\n",
    "        best_est = grid_search.best_estimator_\n",
    "        best_est.fit(X_train, y_train)\n",
    "        y_pred = best_est.predict(X_test)\n",
    "        acc = accuracy_score(y_test, y_pred)\n",
    "        accs[counter] = acc\n",
    "        #print('Test accuracy for target:', target, acc)\n",
    "        counter += 1 \n",
    "    print('Average Test Accuracy: ', np.mean(accs))"
   ]
  },
  {
   "cell_type": "markdown",
   "id": "2e56d420-1973-4da6-9316-3353d82208fe",
   "metadata": {},
   "source": [
    "# Logisitic Regression "
   ]
  },
  {
   "cell_type": "code",
   "execution_count": 6,
   "id": "28bd6789-be7c-4cc0-b850-aa4cb4e98f02",
   "metadata": {},
   "outputs": [
    {
     "name": "stdout",
     "output_type": "stream",
     "text": [
      "Average Test Accuracy:  0.6699999999999999\n"
     ]
    }
   ],
   "source": [
    "studentIndependentCV(df,verb=False, model_type = 'logreg', target = 'user-definedlabel')"
   ]
  },
  {
   "cell_type": "code",
   "execution_count": 7,
   "id": "fb079ed4-4b3a-4f04-827e-9b48728a8da1",
   "metadata": {},
   "outputs": [
    {
     "name": "stdout",
     "output_type": "stream",
     "text": [
      "Average Test Accuracy:  0.5\n"
     ]
    }
   ],
   "source": [
    "studentIndependentCV(df,verb=False, model_type = 'logreg', target = 'predefinedlabel')"
   ]
  },
  {
   "cell_type": "markdown",
   "id": "c6341940-a9a1-48d8-abcf-31b92e1e5d9a",
   "metadata": {},
   "source": [
    "# RVM"
   ]
  },
  {
   "cell_type": "code",
   "execution_count": 9,
   "id": "662a2f56-e2a4-44ad-9e51-d2422faa4fc6",
   "metadata": {},
   "outputs": [],
   "source": [
    "#studentIndependentCV(df,verb=False, model_type = 'rvm', target = 'user-definedlabel')"
   ]
  },
  {
   "cell_type": "code",
   "execution_count": 10,
   "id": "cfca40eb-3c1f-4e6d-907d-2a574cd03cc7",
   "metadata": {},
   "outputs": [],
   "source": [
    "#studentIndependentCV(df,verb=False, model_type = 'rvm', target = 'predefinedlabel')"
   ]
  },
  {
   "cell_type": "markdown",
   "id": "851e8cf6-64a3-45a3-9a31-9156c383d934",
   "metadata": {},
   "source": [
    "# SVM"
   ]
  },
  {
   "cell_type": "code",
   "execution_count": 11,
   "id": "fa92f50f-7649-4aee-a9b4-6d5425398c84",
   "metadata": {},
   "outputs": [
    {
     "name": "stdout",
     "output_type": "stream",
     "text": [
      "Average Test Accuracy:  0.51\n"
     ]
    }
   ],
   "source": [
    "studentIndependentCV(df,verb=False, model_type = 'svm', target = 'user-definedlabel')"
   ]
  },
  {
   "cell_type": "code",
   "execution_count": 12,
   "id": "c8f9522b-6288-4e3b-b4af-d537a5936559",
   "metadata": {},
   "outputs": [
    {
     "name": "stdout",
     "output_type": "stream",
     "text": [
      "Average Test Accuracy:  0.47999999999999987\n"
     ]
    }
   ],
   "source": [
    "studentIndependentCV(df,verb=False, model_type = 'svm', target = 'predefinedlabel')"
   ]
  },
  {
   "cell_type": "markdown",
   "id": "9fd1df19-223f-421a-a4f2-9dd39f968d41",
   "metadata": {},
   "source": [
    "# KNN"
   ]
  },
  {
   "cell_type": "code",
   "execution_count": 16,
   "id": "0a1ebba8-1603-457e-8888-330a317f77a8",
   "metadata": {},
   "outputs": [
    {
     "name": "stdout",
     "output_type": "stream",
     "text": [
      "Average Test Accuracy:  0.67\n"
     ]
    }
   ],
   "source": [
    "studentIndependentCV(df,verb=False, model_type = 'knn', target = 'user-definedlabel')"
   ]
  },
  {
   "cell_type": "code",
   "execution_count": 17,
   "id": "e3cbcf6b-9d10-4514-af0c-9785f4cf7f93",
   "metadata": {},
   "outputs": [
    {
     "name": "stdout",
     "output_type": "stream",
     "text": [
      "Average Test Accuracy:  0.53\n"
     ]
    }
   ],
   "source": [
    "studentIndependentCV(df,verb=False, model_type = 'knn', target = 'predefinedlabel')"
   ]
  },
  {
   "cell_type": "markdown",
   "id": "7f813dac-ce2c-4b2b-a851-294f6d147135",
   "metadata": {},
   "source": [
    "# Random Forest"
   ]
  },
  {
   "cell_type": "code",
   "execution_count": 20,
   "id": "1cc9abb8-171d-4baf-a2fb-15714a436984",
   "metadata": {},
   "outputs": [
    {
     "name": "stdout",
     "output_type": "stream",
     "text": [
      "Average Test Accuracy:  0.73\n"
     ]
    }
   ],
   "source": [
    "studentIndependentCV(df,verb=False, model_type = 'random forest', target = 'user-definedlabel')"
   ]
  },
  {
   "cell_type": "code",
   "execution_count": 21,
   "id": "2bf9f270-9e67-473c-a9d0-9eef98089b31",
   "metadata": {},
   "outputs": [
    {
     "name": "stdout",
     "output_type": "stream",
     "text": [
      "Average Test Accuracy:  0.61\n"
     ]
    }
   ],
   "source": [
    "studentIndependentCV(df,verb=False, model_type = 'random forest', target = 'predefinedlabel')"
   ]
  },
  {
   "cell_type": "markdown",
   "id": "0b34238b-6edb-41eb-8574-c342f8ab3528",
   "metadata": {},
   "source": [
    "# Decision Tree"
   ]
  },
  {
   "cell_type": "code",
   "execution_count": 22,
   "id": "8b4864ba-ccfa-4013-a91f-10ce84704ff1",
   "metadata": {},
   "outputs": [
    {
     "name": "stdout",
     "output_type": "stream",
     "text": [
      "Average Test Accuracy:  0.72\n"
     ]
    }
   ],
   "source": [
    "studentIndependentCV(df,verb=False, model_type = 'decision tree', target = 'user-definedlabel')"
   ]
  },
  {
   "cell_type": "code",
   "execution_count": 23,
   "id": "76e35788-9e62-4660-b6e6-be16749eda71",
   "metadata": {},
   "outputs": [
    {
     "name": "stdout",
     "output_type": "stream",
     "text": [
      "Average Test Accuracy:  0.59\n"
     ]
    }
   ],
   "source": [
    "studentIndependentCV(df,verb=False, model_type = 'decision tree', target = 'predefinedlabel')"
   ]
  },
  {
   "cell_type": "markdown",
   "id": "5ad1f4b6-3f5d-4575-a3d8-26d008a50125",
   "metadata": {},
   "source": [
    "# Naive Bayes"
   ]
  },
  {
   "cell_type": "code",
   "execution_count": 18,
   "id": "e500c36c-5852-4a38-9a0a-600d6ab06690",
   "metadata": {},
   "outputs": [
    {
     "name": "stdout",
     "output_type": "stream",
     "text": [
      "Average Test Accuracy:  0.65\n"
     ]
    }
   ],
   "source": [
    "studentIndependentCV(df,verb=False, model_type = 'naivebayes', target = 'user-definedlabel')"
   ]
  },
  {
   "cell_type": "code",
   "execution_count": 19,
   "id": "fc4ef7f3-5571-4c64-a96b-090199f6b845",
   "metadata": {},
   "outputs": [
    {
     "name": "stdout",
     "output_type": "stream",
     "text": [
      "Average Test Accuracy:  0.45\n"
     ]
    }
   ],
   "source": [
    "studentIndependentCV(df,verb=False, model_type = 'naivebayes', target = 'predefinedlabel')"
   ]
  },
  {
   "cell_type": "code",
   "execution_count": null,
   "id": "1be2d07c-1a76-4c5a-a5f3-2d5f81779ec4",
   "metadata": {},
   "outputs": [],
   "source": []
  }
 ],
 "metadata": {
  "kernelspec": {
   "display_name": "Python 3 (ipykernel)",
   "language": "python",
   "name": "python3"
  },
  "language_info": {
   "codemirror_mode": {
    "name": "ipython",
    "version": 3
   },
   "file_extension": ".py",
   "mimetype": "text/x-python",
   "name": "python",
   "nbconvert_exporter": "python",
   "pygments_lexer": "ipython3",
   "version": "3.8.8"
  }
 },
 "nbformat": 4,
 "nbformat_minor": 5
}
